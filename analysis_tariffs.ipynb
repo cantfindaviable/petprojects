{
 "cells": [
  {
   "cell_type": "markdown",
   "id": "75b7582c",
   "metadata": {},
   "source": [
    "# Исследовательский проект \n",
    "\n",
    "Компания «Мегалайн» — федеральный оператор сотовой связи. Клиентам предлагают два тарифных плана: «Смарт» и «Ультра». Чтобы скорректировать рекламный бюджет, коммерческий департамент хочет понять, какой тариф приносит больше денег.\n",
    "\n",
    "Предстоит сделать предварительный анализ тарифов на небольшой выборке клиентов. В распоряжении данные 500 пользователей «Мегалайна»: кто они, откуда, каким тарифом пользуются, сколько звонков и сообщений каждый отправил за 2018 год. Нужно проанализировать поведение клиентов и сделать вывод — какой тариф лучше.\n",
    "\n",
    "### Описание тарифов\n",
    "**Тариф «Смарт»**\n",
    "- Ежемесячная плата: 550 рублей\n",
    "- Включено 500 минут разговора, 50 сообщений и 15 Гб интернет-трафика\n",
    "- Стоимость услуг сверх тарифного пакета:\n",
    "     - минута разговора: 3 рубля\n",
    "     - сообщение: 3 рубля\n",
    "     - 1 Гб интернет-трафика: 200 рублей\n",
    "\n",
    "**Тариф «Ультра»**\n",
    "- Ежемесячная плата: 1950 рублей\n",
    "- Включено 3000 минут разговора, 1000 сообщений и 30 Гб интернет-трафика\n",
    "- Стоимость услуг сверх тарифного пакета:\n",
    "    - минута разговора: 1 рубль\n",
    "    - сообщение: 1 рубль\n",
    "    - 1 Гб интернет-трафика: 150 рублей\n",
    "    \n",
    "Исходные данные о 500 пользователях и их поведении - таблицы calls, internet messages, также дан словарь с данными про два тарифа и датасет с информацией о пользователях - возраст, ФИО, город, является ли текущим пользователем и какой тариф использует. \n",
    "\n",
    "Необходимо проверить гипотезы:\n",
    "\n",
    "- средняя выручка пользователей тарифов «Ультра» и «Смарт» различаются;\n",
    "- средняя выручка пользователей из Москвы отличается от выручки пользователей из других регионов."
   ]
  },
  {
   "cell_type": "markdown",
   "id": "a6bfc29d",
   "metadata": {},
   "source": [
    "## Содержание\n",
    "1. [Описание данных](#step1)  \n",
    "2. [Обработка данных](#step2)\n",
    "3. [Анализ данных](#step3)\n",
    "4. [Проверка гипотез](#step4)  \n",
    "5. [Вывод](#step5) "
   ]
  },
  {
   "cell_type": "markdown",
   "id": "b592e879",
   "metadata": {},
   "source": [
    "## 1. Описание данных <a id=\"step1\"></a>   \n",
    "</div>"
   ]
  },
  {
   "cell_type": "code",
   "execution_count": 1,
   "id": "2d4f76a4",
   "metadata": {},
   "outputs": [],
   "source": [
    "import pandas as pd \n",
    "import numpy as np\n",
    "import seaborn as sns\n",
    "import matplotlib.pyplot as plt\n",
    "import warnings\n",
    "warnings.filterwarnings(\"ignore\")\n",
    "from scipy import stats as st\n",
    "\n",
    "try: \n",
    "    calls = pd.read_csv('calls.csv')\n",
    "    internet = pd.read_csv('internet.csv')\n",
    "    messages = pd.read_csv('messages.csv')\n",
    "    tariffs = pd.read_csv('tariffs.csv')\n",
    "    users = pd.read_csv('users.csv')\n",
    "except: \n",
    "    calls = pd.read_csv('/datasets/calls.csv')\n",
    "    internet = pd.read_csv('/datasets/internet.csv')\n",
    "    messages = pd.read_csv('/datasets/messages.csv')\n",
    "    tariffs = pd.read_csv('/datasets/tariffs.csv')\n",
    "    users = pd.read_csv('/datasets/users.csv')"
   ]
  },
  {
   "cell_type": "code",
   "execution_count": 2,
   "id": "05f9d5ff",
   "metadata": {},
   "outputs": [
    {
     "name": "stdout",
     "output_type": "stream",
     "text": [
      "<class 'pandas.core.frame.DataFrame'>\n",
      "RangeIndex: 202607 entries, 0 to 202606\n",
      "Data columns (total 4 columns):\n",
      " #   Column     Non-Null Count   Dtype  \n",
      "---  ------     --------------   -----  \n",
      " 0   id         202607 non-null  object \n",
      " 1   call_date  202607 non-null  object \n",
      " 2   duration   202607 non-null  float64\n",
      " 3   user_id    202607 non-null  int64  \n",
      "dtypes: float64(1), int64(1), object(2)\n",
      "memory usage: 6.2+ MB\n"
     ]
    },
    {
     "data": {
      "text/plain": [
       "None"
      ]
     },
     "metadata": {},
     "output_type": "display_data"
    },
    {
     "data": {
      "text/html": [
       "<div>\n",
       "<style scoped>\n",
       "    .dataframe tbody tr th:only-of-type {\n",
       "        vertical-align: middle;\n",
       "    }\n",
       "\n",
       "    .dataframe tbody tr th {\n",
       "        vertical-align: top;\n",
       "    }\n",
       "\n",
       "    .dataframe thead th {\n",
       "        text-align: right;\n",
       "    }\n",
       "</style>\n",
       "<table border=\"1\" class=\"dataframe\">\n",
       "  <thead>\n",
       "    <tr style=\"text-align: right;\">\n",
       "      <th></th>\n",
       "      <th>id</th>\n",
       "      <th>call_date</th>\n",
       "      <th>duration</th>\n",
       "      <th>user_id</th>\n",
       "    </tr>\n",
       "  </thead>\n",
       "  <tbody>\n",
       "    <tr>\n",
       "      <th>0</th>\n",
       "      <td>1000_0</td>\n",
       "      <td>2018-07-25</td>\n",
       "      <td>0.00</td>\n",
       "      <td>1000</td>\n",
       "    </tr>\n",
       "    <tr>\n",
       "      <th>1</th>\n",
       "      <td>1000_1</td>\n",
       "      <td>2018-08-17</td>\n",
       "      <td>0.00</td>\n",
       "      <td>1000</td>\n",
       "    </tr>\n",
       "    <tr>\n",
       "      <th>2</th>\n",
       "      <td>1000_2</td>\n",
       "      <td>2018-06-11</td>\n",
       "      <td>2.85</td>\n",
       "      <td>1000</td>\n",
       "    </tr>\n",
       "    <tr>\n",
       "      <th>3</th>\n",
       "      <td>1000_3</td>\n",
       "      <td>2018-09-21</td>\n",
       "      <td>13.80</td>\n",
       "      <td>1000</td>\n",
       "    </tr>\n",
       "    <tr>\n",
       "      <th>4</th>\n",
       "      <td>1000_4</td>\n",
       "      <td>2018-12-15</td>\n",
       "      <td>5.18</td>\n",
       "      <td>1000</td>\n",
       "    </tr>\n",
       "    <tr>\n",
       "      <th>5</th>\n",
       "      <td>1000_5</td>\n",
       "      <td>2018-11-02</td>\n",
       "      <td>0.00</td>\n",
       "      <td>1000</td>\n",
       "    </tr>\n",
       "    <tr>\n",
       "      <th>6</th>\n",
       "      <td>1000_6</td>\n",
       "      <td>2018-10-18</td>\n",
       "      <td>0.00</td>\n",
       "      <td>1000</td>\n",
       "    </tr>\n",
       "    <tr>\n",
       "      <th>7</th>\n",
       "      <td>1000_7</td>\n",
       "      <td>2018-08-22</td>\n",
       "      <td>18.31</td>\n",
       "      <td>1000</td>\n",
       "    </tr>\n",
       "    <tr>\n",
       "      <th>8</th>\n",
       "      <td>1000_8</td>\n",
       "      <td>2018-09-15</td>\n",
       "      <td>18.44</td>\n",
       "      <td>1000</td>\n",
       "    </tr>\n",
       "    <tr>\n",
       "      <th>9</th>\n",
       "      <td>1000_9</td>\n",
       "      <td>2018-08-15</td>\n",
       "      <td>0.00</td>\n",
       "      <td>1000</td>\n",
       "    </tr>\n",
       "    <tr>\n",
       "      <th>10</th>\n",
       "      <td>1000_10</td>\n",
       "      <td>2018-08-22</td>\n",
       "      <td>5.03</td>\n",
       "      <td>1000</td>\n",
       "    </tr>\n",
       "    <tr>\n",
       "      <th>11</th>\n",
       "      <td>1000_11</td>\n",
       "      <td>2018-05-28</td>\n",
       "      <td>18.82</td>\n",
       "      <td>1000</td>\n",
       "    </tr>\n",
       "    <tr>\n",
       "      <th>12</th>\n",
       "      <td>1000_12</td>\n",
       "      <td>2018-07-05</td>\n",
       "      <td>2.02</td>\n",
       "      <td>1000</td>\n",
       "    </tr>\n",
       "    <tr>\n",
       "      <th>13</th>\n",
       "      <td>1000_13</td>\n",
       "      <td>2018-09-29</td>\n",
       "      <td>7.15</td>\n",
       "      <td>1000</td>\n",
       "    </tr>\n",
       "    <tr>\n",
       "      <th>14</th>\n",
       "      <td>1000_14</td>\n",
       "      <td>2018-12-11</td>\n",
       "      <td>9.13</td>\n",
       "      <td>1000</td>\n",
       "    </tr>\n",
       "  </tbody>\n",
       "</table>\n",
       "</div>"
      ],
      "text/plain": [
       "         id   call_date  duration  user_id\n",
       "0    1000_0  2018-07-25      0.00     1000\n",
       "1    1000_1  2018-08-17      0.00     1000\n",
       "2    1000_2  2018-06-11      2.85     1000\n",
       "3    1000_3  2018-09-21     13.80     1000\n",
       "4    1000_4  2018-12-15      5.18     1000\n",
       "5    1000_5  2018-11-02      0.00     1000\n",
       "6    1000_6  2018-10-18      0.00     1000\n",
       "7    1000_7  2018-08-22     18.31     1000\n",
       "8    1000_8  2018-09-15     18.44     1000\n",
       "9    1000_9  2018-08-15      0.00     1000\n",
       "10  1000_10  2018-08-22      5.03     1000\n",
       "11  1000_11  2018-05-28     18.82     1000\n",
       "12  1000_12  2018-07-05      2.02     1000\n",
       "13  1000_13  2018-09-29      7.15     1000\n",
       "14  1000_14  2018-12-11      9.13     1000"
      ]
     },
     "metadata": {},
     "output_type": "display_data"
    },
    {
     "data": {
      "text/html": [
       "<div>\n",
       "<style scoped>\n",
       "    .dataframe tbody tr th:only-of-type {\n",
       "        vertical-align: middle;\n",
       "    }\n",
       "\n",
       "    .dataframe tbody tr th {\n",
       "        vertical-align: top;\n",
       "    }\n",
       "\n",
       "    .dataframe thead th {\n",
       "        text-align: right;\n",
       "    }\n",
       "</style>\n",
       "<table border=\"1\" class=\"dataframe\">\n",
       "  <thead>\n",
       "    <tr style=\"text-align: right;\">\n",
       "      <th></th>\n",
       "      <th>count</th>\n",
       "      <th>mean</th>\n",
       "      <th>std</th>\n",
       "      <th>min</th>\n",
       "      <th>25%</th>\n",
       "      <th>50%</th>\n",
       "      <th>75%</th>\n",
       "      <th>max</th>\n",
       "    </tr>\n",
       "  </thead>\n",
       "  <tbody>\n",
       "    <tr>\n",
       "      <th>duration</th>\n",
       "      <td>202607.0</td>\n",
       "      <td>6.755887</td>\n",
       "      <td>5.843365</td>\n",
       "      <td>0.0</td>\n",
       "      <td>1.3</td>\n",
       "      <td>6.0</td>\n",
       "      <td>10.7</td>\n",
       "      <td>38.0</td>\n",
       "    </tr>\n",
       "    <tr>\n",
       "      <th>user_id</th>\n",
       "      <td>202607.0</td>\n",
       "      <td>1253.940619</td>\n",
       "      <td>144.722751</td>\n",
       "      <td>1000.0</td>\n",
       "      <td>1126.0</td>\n",
       "      <td>1260.0</td>\n",
       "      <td>1379.0</td>\n",
       "      <td>1499.0</td>\n",
       "    </tr>\n",
       "  </tbody>\n",
       "</table>\n",
       "</div>"
      ],
      "text/plain": [
       "             count         mean         std     min     25%     50%     75%  \\\n",
       "duration  202607.0     6.755887    5.843365     0.0     1.3     6.0    10.7   \n",
       "user_id   202607.0  1253.940619  144.722751  1000.0  1126.0  1260.0  1379.0   \n",
       "\n",
       "             max  \n",
       "duration    38.0  \n",
       "user_id   1499.0  "
      ]
     },
     "metadata": {},
     "output_type": "display_data"
    },
    {
     "name": "stdout",
     "output_type": "stream",
     "text": [
      "id           0\n",
      "call_date    0\n",
      "duration     0\n",
      "user_id      0\n",
      "dtype: int64\n",
      "\n",
      "202607\n",
      "\n",
      "\n",
      "<class 'pandas.core.frame.DataFrame'>\n",
      "RangeIndex: 149396 entries, 0 to 149395\n",
      "Data columns (total 5 columns):\n",
      " #   Column        Non-Null Count   Dtype  \n",
      "---  ------        --------------   -----  \n",
      " 0   Unnamed: 0    149396 non-null  int64  \n",
      " 1   id            149396 non-null  object \n",
      " 2   mb_used       149396 non-null  float64\n",
      " 3   session_date  149396 non-null  object \n",
      " 4   user_id       149396 non-null  int64  \n",
      "dtypes: float64(1), int64(2), object(2)\n",
      "memory usage: 5.7+ MB\n"
     ]
    },
    {
     "data": {
      "text/plain": [
       "None"
      ]
     },
     "metadata": {},
     "output_type": "display_data"
    },
    {
     "data": {
      "text/html": [
       "<div>\n",
       "<style scoped>\n",
       "    .dataframe tbody tr th:only-of-type {\n",
       "        vertical-align: middle;\n",
       "    }\n",
       "\n",
       "    .dataframe tbody tr th {\n",
       "        vertical-align: top;\n",
       "    }\n",
       "\n",
       "    .dataframe thead th {\n",
       "        text-align: right;\n",
       "    }\n",
       "</style>\n",
       "<table border=\"1\" class=\"dataframe\">\n",
       "  <thead>\n",
       "    <tr style=\"text-align: right;\">\n",
       "      <th></th>\n",
       "      <th>Unnamed: 0</th>\n",
       "      <th>id</th>\n",
       "      <th>mb_used</th>\n",
       "      <th>session_date</th>\n",
       "      <th>user_id</th>\n",
       "    </tr>\n",
       "  </thead>\n",
       "  <tbody>\n",
       "    <tr>\n",
       "      <th>0</th>\n",
       "      <td>0</td>\n",
       "      <td>1000_0</td>\n",
       "      <td>112.95</td>\n",
       "      <td>2018-11-25</td>\n",
       "      <td>1000</td>\n",
       "    </tr>\n",
       "    <tr>\n",
       "      <th>1</th>\n",
       "      <td>1</td>\n",
       "      <td>1000_1</td>\n",
       "      <td>1052.81</td>\n",
       "      <td>2018-09-07</td>\n",
       "      <td>1000</td>\n",
       "    </tr>\n",
       "    <tr>\n",
       "      <th>2</th>\n",
       "      <td>2</td>\n",
       "      <td>1000_2</td>\n",
       "      <td>1197.26</td>\n",
       "      <td>2018-06-25</td>\n",
       "      <td>1000</td>\n",
       "    </tr>\n",
       "    <tr>\n",
       "      <th>3</th>\n",
       "      <td>3</td>\n",
       "      <td>1000_3</td>\n",
       "      <td>550.27</td>\n",
       "      <td>2018-08-22</td>\n",
       "      <td>1000</td>\n",
       "    </tr>\n",
       "    <tr>\n",
       "      <th>4</th>\n",
       "      <td>4</td>\n",
       "      <td>1000_4</td>\n",
       "      <td>302.56</td>\n",
       "      <td>2018-09-24</td>\n",
       "      <td>1000</td>\n",
       "    </tr>\n",
       "    <tr>\n",
       "      <th>5</th>\n",
       "      <td>5</td>\n",
       "      <td>1000_5</td>\n",
       "      <td>399.97</td>\n",
       "      <td>2018-10-02</td>\n",
       "      <td>1000</td>\n",
       "    </tr>\n",
       "    <tr>\n",
       "      <th>6</th>\n",
       "      <td>6</td>\n",
       "      <td>1000_6</td>\n",
       "      <td>540.08</td>\n",
       "      <td>2018-09-07</td>\n",
       "      <td>1000</td>\n",
       "    </tr>\n",
       "    <tr>\n",
       "      <th>7</th>\n",
       "      <td>7</td>\n",
       "      <td>1000_7</td>\n",
       "      <td>415.70</td>\n",
       "      <td>2018-07-11</td>\n",
       "      <td>1000</td>\n",
       "    </tr>\n",
       "    <tr>\n",
       "      <th>8</th>\n",
       "      <td>8</td>\n",
       "      <td>1000_8</td>\n",
       "      <td>505.40</td>\n",
       "      <td>2018-10-08</td>\n",
       "      <td>1000</td>\n",
       "    </tr>\n",
       "    <tr>\n",
       "      <th>9</th>\n",
       "      <td>9</td>\n",
       "      <td>1000_9</td>\n",
       "      <td>345.54</td>\n",
       "      <td>2018-09-03</td>\n",
       "      <td>1000</td>\n",
       "    </tr>\n",
       "    <tr>\n",
       "      <th>10</th>\n",
       "      <td>10</td>\n",
       "      <td>1000_10</td>\n",
       "      <td>385.14</td>\n",
       "      <td>2018-09-27</td>\n",
       "      <td>1000</td>\n",
       "    </tr>\n",
       "    <tr>\n",
       "      <th>11</th>\n",
       "      <td>11</td>\n",
       "      <td>1000_11</td>\n",
       "      <td>0.00</td>\n",
       "      <td>2018-08-28</td>\n",
       "      <td>1000</td>\n",
       "    </tr>\n",
       "    <tr>\n",
       "      <th>12</th>\n",
       "      <td>12</td>\n",
       "      <td>1000_12</td>\n",
       "      <td>375.87</td>\n",
       "      <td>2018-06-20</td>\n",
       "      <td>1000</td>\n",
       "    </tr>\n",
       "    <tr>\n",
       "      <th>13</th>\n",
       "      <td>13</td>\n",
       "      <td>1000_13</td>\n",
       "      <td>393.83</td>\n",
       "      <td>2018-08-09</td>\n",
       "      <td>1000</td>\n",
       "    </tr>\n",
       "    <tr>\n",
       "      <th>14</th>\n",
       "      <td>14</td>\n",
       "      <td>1000_14</td>\n",
       "      <td>180.64</td>\n",
       "      <td>2018-08-11</td>\n",
       "      <td>1000</td>\n",
       "    </tr>\n",
       "  </tbody>\n",
       "</table>\n",
       "</div>"
      ],
      "text/plain": [
       "    Unnamed: 0       id  mb_used session_date  user_id\n",
       "0            0   1000_0   112.95   2018-11-25     1000\n",
       "1            1   1000_1  1052.81   2018-09-07     1000\n",
       "2            2   1000_2  1197.26   2018-06-25     1000\n",
       "3            3   1000_3   550.27   2018-08-22     1000\n",
       "4            4   1000_4   302.56   2018-09-24     1000\n",
       "5            5   1000_5   399.97   2018-10-02     1000\n",
       "6            6   1000_6   540.08   2018-09-07     1000\n",
       "7            7   1000_7   415.70   2018-07-11     1000\n",
       "8            8   1000_8   505.40   2018-10-08     1000\n",
       "9            9   1000_9   345.54   2018-09-03     1000\n",
       "10          10  1000_10   385.14   2018-09-27     1000\n",
       "11          11  1000_11     0.00   2018-08-28     1000\n",
       "12          12  1000_12   375.87   2018-06-20     1000\n",
       "13          13  1000_13   393.83   2018-08-09     1000\n",
       "14          14  1000_14   180.64   2018-08-11     1000"
      ]
     },
     "metadata": {},
     "output_type": "display_data"
    },
    {
     "data": {
      "text/html": [
       "<div>\n",
       "<style scoped>\n",
       "    .dataframe tbody tr th:only-of-type {\n",
       "        vertical-align: middle;\n",
       "    }\n",
       "\n",
       "    .dataframe tbody tr th {\n",
       "        vertical-align: top;\n",
       "    }\n",
       "\n",
       "    .dataframe thead th {\n",
       "        text-align: right;\n",
       "    }\n",
       "</style>\n",
       "<table border=\"1\" class=\"dataframe\">\n",
       "  <thead>\n",
       "    <tr style=\"text-align: right;\">\n",
       "      <th></th>\n",
       "      <th>count</th>\n",
       "      <th>mean</th>\n",
       "      <th>std</th>\n",
       "      <th>min</th>\n",
       "      <th>25%</th>\n",
       "      <th>50%</th>\n",
       "      <th>75%</th>\n",
       "      <th>max</th>\n",
       "    </tr>\n",
       "  </thead>\n",
       "  <tbody>\n",
       "    <tr>\n",
       "      <th>Unnamed: 0</th>\n",
       "      <td>149396.0</td>\n",
       "      <td>74697.500000</td>\n",
       "      <td>43127.054745</td>\n",
       "      <td>0.0</td>\n",
       "      <td>37348.7500</td>\n",
       "      <td>74697.500</td>\n",
       "      <td>112046.2500</td>\n",
       "      <td>149395.00</td>\n",
       "    </tr>\n",
       "    <tr>\n",
       "      <th>mb_used</th>\n",
       "      <td>149396.0</td>\n",
       "      <td>370.192426</td>\n",
       "      <td>278.300951</td>\n",
       "      <td>0.0</td>\n",
       "      <td>138.1875</td>\n",
       "      <td>348.015</td>\n",
       "      <td>559.5525</td>\n",
       "      <td>1724.83</td>\n",
       "    </tr>\n",
       "    <tr>\n",
       "      <th>user_id</th>\n",
       "      <td>149396.0</td>\n",
       "      <td>1252.099842</td>\n",
       "      <td>144.050823</td>\n",
       "      <td>1000.0</td>\n",
       "      <td>1130.0000</td>\n",
       "      <td>1251.000</td>\n",
       "      <td>1380.0000</td>\n",
       "      <td>1499.00</td>\n",
       "    </tr>\n",
       "  </tbody>\n",
       "</table>\n",
       "</div>"
      ],
      "text/plain": [
       "               count          mean           std     min         25%  \\\n",
       "Unnamed: 0  149396.0  74697.500000  43127.054745     0.0  37348.7500   \n",
       "mb_used     149396.0    370.192426    278.300951     0.0    138.1875   \n",
       "user_id     149396.0   1252.099842    144.050823  1000.0   1130.0000   \n",
       "\n",
       "                  50%          75%        max  \n",
       "Unnamed: 0  74697.500  112046.2500  149395.00  \n",
       "mb_used       348.015     559.5525    1724.83  \n",
       "user_id      1251.000    1380.0000    1499.00  "
      ]
     },
     "metadata": {},
     "output_type": "display_data"
    },
    {
     "name": "stdout",
     "output_type": "stream",
     "text": [
      "Unnamed: 0      0\n",
      "id              0\n",
      "mb_used         0\n",
      "session_date    0\n",
      "user_id         0\n",
      "dtype: int64\n",
      "\n",
      "149396\n",
      "\n",
      "\n",
      "<class 'pandas.core.frame.DataFrame'>\n",
      "RangeIndex: 123036 entries, 0 to 123035\n",
      "Data columns (total 3 columns):\n",
      " #   Column        Non-Null Count   Dtype \n",
      "---  ------        --------------   ----- \n",
      " 0   id            123036 non-null  object\n",
      " 1   message_date  123036 non-null  object\n",
      " 2   user_id       123036 non-null  int64 \n",
      "dtypes: int64(1), object(2)\n",
      "memory usage: 2.8+ MB\n"
     ]
    },
    {
     "data": {
      "text/plain": [
       "None"
      ]
     },
     "metadata": {},
     "output_type": "display_data"
    },
    {
     "data": {
      "text/html": [
       "<div>\n",
       "<style scoped>\n",
       "    .dataframe tbody tr th:only-of-type {\n",
       "        vertical-align: middle;\n",
       "    }\n",
       "\n",
       "    .dataframe tbody tr th {\n",
       "        vertical-align: top;\n",
       "    }\n",
       "\n",
       "    .dataframe thead th {\n",
       "        text-align: right;\n",
       "    }\n",
       "</style>\n",
       "<table border=\"1\" class=\"dataframe\">\n",
       "  <thead>\n",
       "    <tr style=\"text-align: right;\">\n",
       "      <th></th>\n",
       "      <th>id</th>\n",
       "      <th>message_date</th>\n",
       "      <th>user_id</th>\n",
       "    </tr>\n",
       "  </thead>\n",
       "  <tbody>\n",
       "    <tr>\n",
       "      <th>0</th>\n",
       "      <td>1000_0</td>\n",
       "      <td>2018-06-27</td>\n",
       "      <td>1000</td>\n",
       "    </tr>\n",
       "    <tr>\n",
       "      <th>1</th>\n",
       "      <td>1000_1</td>\n",
       "      <td>2018-10-08</td>\n",
       "      <td>1000</td>\n",
       "    </tr>\n",
       "    <tr>\n",
       "      <th>2</th>\n",
       "      <td>1000_2</td>\n",
       "      <td>2018-08-04</td>\n",
       "      <td>1000</td>\n",
       "    </tr>\n",
       "    <tr>\n",
       "      <th>3</th>\n",
       "      <td>1000_3</td>\n",
       "      <td>2018-06-16</td>\n",
       "      <td>1000</td>\n",
       "    </tr>\n",
       "    <tr>\n",
       "      <th>4</th>\n",
       "      <td>1000_4</td>\n",
       "      <td>2018-12-05</td>\n",
       "      <td>1000</td>\n",
       "    </tr>\n",
       "    <tr>\n",
       "      <th>5</th>\n",
       "      <td>1000_5</td>\n",
       "      <td>2018-06-20</td>\n",
       "      <td>1000</td>\n",
       "    </tr>\n",
       "    <tr>\n",
       "      <th>6</th>\n",
       "      <td>1000_6</td>\n",
       "      <td>2018-11-19</td>\n",
       "      <td>1000</td>\n",
       "    </tr>\n",
       "    <tr>\n",
       "      <th>7</th>\n",
       "      <td>1000_7</td>\n",
       "      <td>2018-10-29</td>\n",
       "      <td>1000</td>\n",
       "    </tr>\n",
       "    <tr>\n",
       "      <th>8</th>\n",
       "      <td>1000_8</td>\n",
       "      <td>2018-06-25</td>\n",
       "      <td>1000</td>\n",
       "    </tr>\n",
       "    <tr>\n",
       "      <th>9</th>\n",
       "      <td>1000_9</td>\n",
       "      <td>2018-12-18</td>\n",
       "      <td>1000</td>\n",
       "    </tr>\n",
       "    <tr>\n",
       "      <th>10</th>\n",
       "      <td>1000_10</td>\n",
       "      <td>2018-05-30</td>\n",
       "      <td>1000</td>\n",
       "    </tr>\n",
       "    <tr>\n",
       "      <th>11</th>\n",
       "      <td>1000_11</td>\n",
       "      <td>2018-07-06</td>\n",
       "      <td>1000</td>\n",
       "    </tr>\n",
       "    <tr>\n",
       "      <th>12</th>\n",
       "      <td>1000_12</td>\n",
       "      <td>2018-08-20</td>\n",
       "      <td>1000</td>\n",
       "    </tr>\n",
       "    <tr>\n",
       "      <th>13</th>\n",
       "      <td>1000_13</td>\n",
       "      <td>2018-10-30</td>\n",
       "      <td>1000</td>\n",
       "    </tr>\n",
       "    <tr>\n",
       "      <th>14</th>\n",
       "      <td>1000_14</td>\n",
       "      <td>2018-09-14</td>\n",
       "      <td>1000</td>\n",
       "    </tr>\n",
       "  </tbody>\n",
       "</table>\n",
       "</div>"
      ],
      "text/plain": [
       "         id message_date  user_id\n",
       "0    1000_0   2018-06-27     1000\n",
       "1    1000_1   2018-10-08     1000\n",
       "2    1000_2   2018-08-04     1000\n",
       "3    1000_3   2018-06-16     1000\n",
       "4    1000_4   2018-12-05     1000\n",
       "5    1000_5   2018-06-20     1000\n",
       "6    1000_6   2018-11-19     1000\n",
       "7    1000_7   2018-10-29     1000\n",
       "8    1000_8   2018-06-25     1000\n",
       "9    1000_9   2018-12-18     1000\n",
       "10  1000_10   2018-05-30     1000\n",
       "11  1000_11   2018-07-06     1000\n",
       "12  1000_12   2018-08-20     1000\n",
       "13  1000_13   2018-10-30     1000\n",
       "14  1000_14   2018-09-14     1000"
      ]
     },
     "metadata": {},
     "output_type": "display_data"
    },
    {
     "data": {
      "text/html": [
       "<div>\n",
       "<style scoped>\n",
       "    .dataframe tbody tr th:only-of-type {\n",
       "        vertical-align: middle;\n",
       "    }\n",
       "\n",
       "    .dataframe tbody tr th {\n",
       "        vertical-align: top;\n",
       "    }\n",
       "\n",
       "    .dataframe thead th {\n",
       "        text-align: right;\n",
       "    }\n",
       "</style>\n",
       "<table border=\"1\" class=\"dataframe\">\n",
       "  <thead>\n",
       "    <tr style=\"text-align: right;\">\n",
       "      <th></th>\n",
       "      <th>count</th>\n",
       "      <th>mean</th>\n",
       "      <th>std</th>\n",
       "      <th>min</th>\n",
       "      <th>25%</th>\n",
       "      <th>50%</th>\n",
       "      <th>75%</th>\n",
       "      <th>max</th>\n",
       "    </tr>\n",
       "  </thead>\n",
       "  <tbody>\n",
       "    <tr>\n",
       "      <th>user_id</th>\n",
       "      <td>123036.0</td>\n",
       "      <td>1256.98941</td>\n",
       "      <td>143.523967</td>\n",
       "      <td>1000.0</td>\n",
       "      <td>1134.0</td>\n",
       "      <td>1271.0</td>\n",
       "      <td>1381.0</td>\n",
       "      <td>1499.0</td>\n",
       "    </tr>\n",
       "  </tbody>\n",
       "</table>\n",
       "</div>"
      ],
      "text/plain": [
       "            count        mean         std     min     25%     50%     75%  \\\n",
       "user_id  123036.0  1256.98941  143.523967  1000.0  1134.0  1271.0  1381.0   \n",
       "\n",
       "            max  \n",
       "user_id  1499.0  "
      ]
     },
     "metadata": {},
     "output_type": "display_data"
    },
    {
     "name": "stdout",
     "output_type": "stream",
     "text": [
      "id              0\n",
      "message_date    0\n",
      "user_id         0\n",
      "dtype: int64\n",
      "\n",
      "123036\n",
      "\n",
      "\n",
      "<class 'pandas.core.frame.DataFrame'>\n",
      "RangeIndex: 2 entries, 0 to 1\n",
      "Data columns (total 8 columns):\n",
      " #   Column                 Non-Null Count  Dtype \n",
      "---  ------                 --------------  ----- \n",
      " 0   messages_included      2 non-null      int64 \n",
      " 1   mb_per_month_included  2 non-null      int64 \n",
      " 2   minutes_included       2 non-null      int64 \n",
      " 3   rub_monthly_fee        2 non-null      int64 \n",
      " 4   rub_per_gb             2 non-null      int64 \n",
      " 5   rub_per_message        2 non-null      int64 \n",
      " 6   rub_per_minute         2 non-null      int64 \n",
      " 7   tariff_name            2 non-null      object\n",
      "dtypes: int64(7), object(1)\n",
      "memory usage: 256.0+ bytes\n"
     ]
    },
    {
     "data": {
      "text/plain": [
       "None"
      ]
     },
     "metadata": {},
     "output_type": "display_data"
    },
    {
     "data": {
      "text/html": [
       "<div>\n",
       "<style scoped>\n",
       "    .dataframe tbody tr th:only-of-type {\n",
       "        vertical-align: middle;\n",
       "    }\n",
       "\n",
       "    .dataframe tbody tr th {\n",
       "        vertical-align: top;\n",
       "    }\n",
       "\n",
       "    .dataframe thead th {\n",
       "        text-align: right;\n",
       "    }\n",
       "</style>\n",
       "<table border=\"1\" class=\"dataframe\">\n",
       "  <thead>\n",
       "    <tr style=\"text-align: right;\">\n",
       "      <th></th>\n",
       "      <th>messages_included</th>\n",
       "      <th>mb_per_month_included</th>\n",
       "      <th>minutes_included</th>\n",
       "      <th>rub_monthly_fee</th>\n",
       "      <th>rub_per_gb</th>\n",
       "      <th>rub_per_message</th>\n",
       "      <th>rub_per_minute</th>\n",
       "      <th>tariff_name</th>\n",
       "    </tr>\n",
       "  </thead>\n",
       "  <tbody>\n",
       "    <tr>\n",
       "      <th>0</th>\n",
       "      <td>50</td>\n",
       "      <td>15360</td>\n",
       "      <td>500</td>\n",
       "      <td>550</td>\n",
       "      <td>200</td>\n",
       "      <td>3</td>\n",
       "      <td>3</td>\n",
       "      <td>smart</td>\n",
       "    </tr>\n",
       "    <tr>\n",
       "      <th>1</th>\n",
       "      <td>1000</td>\n",
       "      <td>30720</td>\n",
       "      <td>3000</td>\n",
       "      <td>1950</td>\n",
       "      <td>150</td>\n",
       "      <td>1</td>\n",
       "      <td>1</td>\n",
       "      <td>ultra</td>\n",
       "    </tr>\n",
       "  </tbody>\n",
       "</table>\n",
       "</div>"
      ],
      "text/plain": [
       "   messages_included  mb_per_month_included  minutes_included  \\\n",
       "0                 50                  15360               500   \n",
       "1               1000                  30720              3000   \n",
       "\n",
       "   rub_monthly_fee  rub_per_gb  rub_per_message  rub_per_minute tariff_name  \n",
       "0              550         200                3               3       smart  \n",
       "1             1950         150                1               1       ultra  "
      ]
     },
     "metadata": {},
     "output_type": "display_data"
    },
    {
     "data": {
      "text/html": [
       "<div>\n",
       "<style scoped>\n",
       "    .dataframe tbody tr th:only-of-type {\n",
       "        vertical-align: middle;\n",
       "    }\n",
       "\n",
       "    .dataframe tbody tr th {\n",
       "        vertical-align: top;\n",
       "    }\n",
       "\n",
       "    .dataframe thead th {\n",
       "        text-align: right;\n",
       "    }\n",
       "</style>\n",
       "<table border=\"1\" class=\"dataframe\">\n",
       "  <thead>\n",
       "    <tr style=\"text-align: right;\">\n",
       "      <th></th>\n",
       "      <th>count</th>\n",
       "      <th>mean</th>\n",
       "      <th>std</th>\n",
       "      <th>min</th>\n",
       "      <th>25%</th>\n",
       "      <th>50%</th>\n",
       "      <th>75%</th>\n",
       "      <th>max</th>\n",
       "    </tr>\n",
       "  </thead>\n",
       "  <tbody>\n",
       "    <tr>\n",
       "      <th>messages_included</th>\n",
       "      <td>2.0</td>\n",
       "      <td>525.0</td>\n",
       "      <td>671.751442</td>\n",
       "      <td>50.0</td>\n",
       "      <td>287.5</td>\n",
       "      <td>525.0</td>\n",
       "      <td>762.5</td>\n",
       "      <td>1000.0</td>\n",
       "    </tr>\n",
       "    <tr>\n",
       "      <th>mb_per_month_included</th>\n",
       "      <td>2.0</td>\n",
       "      <td>23040.0</td>\n",
       "      <td>10861.160159</td>\n",
       "      <td>15360.0</td>\n",
       "      <td>19200.0</td>\n",
       "      <td>23040.0</td>\n",
       "      <td>26880.0</td>\n",
       "      <td>30720.0</td>\n",
       "    </tr>\n",
       "    <tr>\n",
       "      <th>minutes_included</th>\n",
       "      <td>2.0</td>\n",
       "      <td>1750.0</td>\n",
       "      <td>1767.766953</td>\n",
       "      <td>500.0</td>\n",
       "      <td>1125.0</td>\n",
       "      <td>1750.0</td>\n",
       "      <td>2375.0</td>\n",
       "      <td>3000.0</td>\n",
       "    </tr>\n",
       "    <tr>\n",
       "      <th>rub_monthly_fee</th>\n",
       "      <td>2.0</td>\n",
       "      <td>1250.0</td>\n",
       "      <td>989.949494</td>\n",
       "      <td>550.0</td>\n",
       "      <td>900.0</td>\n",
       "      <td>1250.0</td>\n",
       "      <td>1600.0</td>\n",
       "      <td>1950.0</td>\n",
       "    </tr>\n",
       "    <tr>\n",
       "      <th>rub_per_gb</th>\n",
       "      <td>2.0</td>\n",
       "      <td>175.0</td>\n",
       "      <td>35.355339</td>\n",
       "      <td>150.0</td>\n",
       "      <td>162.5</td>\n",
       "      <td>175.0</td>\n",
       "      <td>187.5</td>\n",
       "      <td>200.0</td>\n",
       "    </tr>\n",
       "    <tr>\n",
       "      <th>rub_per_message</th>\n",
       "      <td>2.0</td>\n",
       "      <td>2.0</td>\n",
       "      <td>1.414214</td>\n",
       "      <td>1.0</td>\n",
       "      <td>1.5</td>\n",
       "      <td>2.0</td>\n",
       "      <td>2.5</td>\n",
       "      <td>3.0</td>\n",
       "    </tr>\n",
       "    <tr>\n",
       "      <th>rub_per_minute</th>\n",
       "      <td>2.0</td>\n",
       "      <td>2.0</td>\n",
       "      <td>1.414214</td>\n",
       "      <td>1.0</td>\n",
       "      <td>1.5</td>\n",
       "      <td>2.0</td>\n",
       "      <td>2.5</td>\n",
       "      <td>3.0</td>\n",
       "    </tr>\n",
       "  </tbody>\n",
       "</table>\n",
       "</div>"
      ],
      "text/plain": [
       "                       count     mean           std      min      25%  \\\n",
       "messages_included        2.0    525.0    671.751442     50.0    287.5   \n",
       "mb_per_month_included    2.0  23040.0  10861.160159  15360.0  19200.0   \n",
       "minutes_included         2.0   1750.0   1767.766953    500.0   1125.0   \n",
       "rub_monthly_fee          2.0   1250.0    989.949494    550.0    900.0   \n",
       "rub_per_gb               2.0    175.0     35.355339    150.0    162.5   \n",
       "rub_per_message          2.0      2.0      1.414214      1.0      1.5   \n",
       "rub_per_minute           2.0      2.0      1.414214      1.0      1.5   \n",
       "\n",
       "                           50%      75%      max  \n",
       "messages_included        525.0    762.5   1000.0  \n",
       "mb_per_month_included  23040.0  26880.0  30720.0  \n",
       "minutes_included        1750.0   2375.0   3000.0  \n",
       "rub_monthly_fee         1250.0   1600.0   1950.0  \n",
       "rub_per_gb               175.0    187.5    200.0  \n",
       "rub_per_message            2.0      2.5      3.0  \n",
       "rub_per_minute             2.0      2.5      3.0  "
      ]
     },
     "metadata": {},
     "output_type": "display_data"
    },
    {
     "name": "stdout",
     "output_type": "stream",
     "text": [
      "messages_included        0\n",
      "mb_per_month_included    0\n",
      "minutes_included         0\n",
      "rub_monthly_fee          0\n",
      "rub_per_gb               0\n",
      "rub_per_message          0\n",
      "rub_per_minute           0\n",
      "tariff_name              0\n",
      "dtype: int64\n",
      "\n",
      "2\n",
      "\n",
      "\n",
      "<class 'pandas.core.frame.DataFrame'>\n",
      "RangeIndex: 500 entries, 0 to 499\n",
      "Data columns (total 8 columns):\n",
      " #   Column      Non-Null Count  Dtype \n",
      "---  ------      --------------  ----- \n",
      " 0   user_id     500 non-null    int64 \n",
      " 1   age         500 non-null    int64 \n",
      " 2   churn_date  38 non-null     object\n",
      " 3   city        500 non-null    object\n",
      " 4   first_name  500 non-null    object\n",
      " 5   last_name   500 non-null    object\n",
      " 6   reg_date    500 non-null    object\n",
      " 7   tariff      500 non-null    object\n",
      "dtypes: int64(2), object(6)\n",
      "memory usage: 31.4+ KB\n"
     ]
    },
    {
     "data": {
      "text/plain": [
       "None"
      ]
     },
     "metadata": {},
     "output_type": "display_data"
    },
    {
     "data": {
      "text/html": [
       "<div>\n",
       "<style scoped>\n",
       "    .dataframe tbody tr th:only-of-type {\n",
       "        vertical-align: middle;\n",
       "    }\n",
       "\n",
       "    .dataframe tbody tr th {\n",
       "        vertical-align: top;\n",
       "    }\n",
       "\n",
       "    .dataframe thead th {\n",
       "        text-align: right;\n",
       "    }\n",
       "</style>\n",
       "<table border=\"1\" class=\"dataframe\">\n",
       "  <thead>\n",
       "    <tr style=\"text-align: right;\">\n",
       "      <th></th>\n",
       "      <th>user_id</th>\n",
       "      <th>age</th>\n",
       "      <th>churn_date</th>\n",
       "      <th>city</th>\n",
       "      <th>first_name</th>\n",
       "      <th>last_name</th>\n",
       "      <th>reg_date</th>\n",
       "      <th>tariff</th>\n",
       "    </tr>\n",
       "  </thead>\n",
       "  <tbody>\n",
       "    <tr>\n",
       "      <th>0</th>\n",
       "      <td>1000</td>\n",
       "      <td>52</td>\n",
       "      <td>NaN</td>\n",
       "      <td>Краснодар</td>\n",
       "      <td>Рафаил</td>\n",
       "      <td>Верещагин</td>\n",
       "      <td>2018-05-25</td>\n",
       "      <td>ultra</td>\n",
       "    </tr>\n",
       "    <tr>\n",
       "      <th>1</th>\n",
       "      <td>1001</td>\n",
       "      <td>41</td>\n",
       "      <td>NaN</td>\n",
       "      <td>Москва</td>\n",
       "      <td>Иван</td>\n",
       "      <td>Ежов</td>\n",
       "      <td>2018-11-01</td>\n",
       "      <td>smart</td>\n",
       "    </tr>\n",
       "    <tr>\n",
       "      <th>2</th>\n",
       "      <td>1002</td>\n",
       "      <td>59</td>\n",
       "      <td>NaN</td>\n",
       "      <td>Стерлитамак</td>\n",
       "      <td>Евгений</td>\n",
       "      <td>Абрамович</td>\n",
       "      <td>2018-06-17</td>\n",
       "      <td>smart</td>\n",
       "    </tr>\n",
       "    <tr>\n",
       "      <th>3</th>\n",
       "      <td>1003</td>\n",
       "      <td>23</td>\n",
       "      <td>NaN</td>\n",
       "      <td>Москва</td>\n",
       "      <td>Белла</td>\n",
       "      <td>Белякова</td>\n",
       "      <td>2018-08-17</td>\n",
       "      <td>ultra</td>\n",
       "    </tr>\n",
       "    <tr>\n",
       "      <th>4</th>\n",
       "      <td>1004</td>\n",
       "      <td>68</td>\n",
       "      <td>NaN</td>\n",
       "      <td>Новокузнецк</td>\n",
       "      <td>Татьяна</td>\n",
       "      <td>Авдеенко</td>\n",
       "      <td>2018-05-14</td>\n",
       "      <td>ultra</td>\n",
       "    </tr>\n",
       "    <tr>\n",
       "      <th>5</th>\n",
       "      <td>1005</td>\n",
       "      <td>67</td>\n",
       "      <td>NaN</td>\n",
       "      <td>Набережные Челны</td>\n",
       "      <td>Афанасий</td>\n",
       "      <td>Горлов</td>\n",
       "      <td>2018-01-25</td>\n",
       "      <td>smart</td>\n",
       "    </tr>\n",
       "    <tr>\n",
       "      <th>6</th>\n",
       "      <td>1006</td>\n",
       "      <td>21</td>\n",
       "      <td>NaN</td>\n",
       "      <td>Ульяновск</td>\n",
       "      <td>Леонид</td>\n",
       "      <td>Ермолаев</td>\n",
       "      <td>2018-02-26</td>\n",
       "      <td>smart</td>\n",
       "    </tr>\n",
       "    <tr>\n",
       "      <th>7</th>\n",
       "      <td>1007</td>\n",
       "      <td>65</td>\n",
       "      <td>NaN</td>\n",
       "      <td>Москва</td>\n",
       "      <td>Юна</td>\n",
       "      <td>Березина</td>\n",
       "      <td>2018-04-19</td>\n",
       "      <td>smart</td>\n",
       "    </tr>\n",
       "    <tr>\n",
       "      <th>8</th>\n",
       "      <td>1008</td>\n",
       "      <td>63</td>\n",
       "      <td>NaN</td>\n",
       "      <td>Челябинск</td>\n",
       "      <td>Рустэм</td>\n",
       "      <td>Пономарёв</td>\n",
       "      <td>2018-12-19</td>\n",
       "      <td>smart</td>\n",
       "    </tr>\n",
       "    <tr>\n",
       "      <th>9</th>\n",
       "      <td>1009</td>\n",
       "      <td>24</td>\n",
       "      <td>NaN</td>\n",
       "      <td>Пермь</td>\n",
       "      <td>Василиса</td>\n",
       "      <td>Блинова</td>\n",
       "      <td>2018-03-22</td>\n",
       "      <td>smart</td>\n",
       "    </tr>\n",
       "    <tr>\n",
       "      <th>10</th>\n",
       "      <td>1010</td>\n",
       "      <td>26</td>\n",
       "      <td>NaN</td>\n",
       "      <td>Тюмень</td>\n",
       "      <td>Эдуард</td>\n",
       "      <td>Кононов</td>\n",
       "      <td>2018-08-05</td>\n",
       "      <td>smart</td>\n",
       "    </tr>\n",
       "    <tr>\n",
       "      <th>11</th>\n",
       "      <td>1011</td>\n",
       "      <td>44</td>\n",
       "      <td>NaN</td>\n",
       "      <td>Самара</td>\n",
       "      <td>Веселина</td>\n",
       "      <td>Алёшко</td>\n",
       "      <td>2018-03-19</td>\n",
       "      <td>smart</td>\n",
       "    </tr>\n",
       "    <tr>\n",
       "      <th>12</th>\n",
       "      <td>1012</td>\n",
       "      <td>38</td>\n",
       "      <td>NaN</td>\n",
       "      <td>Санкт-Петербург</td>\n",
       "      <td>Варлам</td>\n",
       "      <td>Соловьев</td>\n",
       "      <td>2018-03-28</td>\n",
       "      <td>smart</td>\n",
       "    </tr>\n",
       "    <tr>\n",
       "      <th>13</th>\n",
       "      <td>1013</td>\n",
       "      <td>36</td>\n",
       "      <td>NaN</td>\n",
       "      <td>Иваново</td>\n",
       "      <td>Борис</td>\n",
       "      <td>Андреенко</td>\n",
       "      <td>2018-11-14</td>\n",
       "      <td>ultra</td>\n",
       "    </tr>\n",
       "    <tr>\n",
       "      <th>14</th>\n",
       "      <td>1014</td>\n",
       "      <td>64</td>\n",
       "      <td>NaN</td>\n",
       "      <td>Чебоксары</td>\n",
       "      <td>Яков</td>\n",
       "      <td>Акинфьев</td>\n",
       "      <td>2018-05-15</td>\n",
       "      <td>smart</td>\n",
       "    </tr>\n",
       "  </tbody>\n",
       "</table>\n",
       "</div>"
      ],
      "text/plain": [
       "    user_id  age churn_date              city first_name  last_name  \\\n",
       "0      1000   52        NaN         Краснодар     Рафаил  Верещагин   \n",
       "1      1001   41        NaN            Москва       Иван       Ежов   \n",
       "2      1002   59        NaN       Стерлитамак    Евгений  Абрамович   \n",
       "3      1003   23        NaN            Москва      Белла   Белякова   \n",
       "4      1004   68        NaN       Новокузнецк    Татьяна   Авдеенко   \n",
       "5      1005   67        NaN  Набережные Челны   Афанасий     Горлов   \n",
       "6      1006   21        NaN         Ульяновск     Леонид   Ермолаев   \n",
       "7      1007   65        NaN            Москва        Юна   Березина   \n",
       "8      1008   63        NaN         Челябинск     Рустэм  Пономарёв   \n",
       "9      1009   24        NaN             Пермь   Василиса    Блинова   \n",
       "10     1010   26        NaN            Тюмень     Эдуард    Кононов   \n",
       "11     1011   44        NaN            Самара   Веселина     Алёшко   \n",
       "12     1012   38        NaN   Санкт-Петербург     Варлам   Соловьев   \n",
       "13     1013   36        NaN           Иваново      Борис  Андреенко   \n",
       "14     1014   64        NaN         Чебоксары       Яков   Акинфьев   \n",
       "\n",
       "      reg_date tariff  \n",
       "0   2018-05-25  ultra  \n",
       "1   2018-11-01  smart  \n",
       "2   2018-06-17  smart  \n",
       "3   2018-08-17  ultra  \n",
       "4   2018-05-14  ultra  \n",
       "5   2018-01-25  smart  \n",
       "6   2018-02-26  smart  \n",
       "7   2018-04-19  smart  \n",
       "8   2018-12-19  smart  \n",
       "9   2018-03-22  smart  \n",
       "10  2018-08-05  smart  \n",
       "11  2018-03-19  smart  \n",
       "12  2018-03-28  smart  \n",
       "13  2018-11-14  ultra  \n",
       "14  2018-05-15  smart  "
      ]
     },
     "metadata": {},
     "output_type": "display_data"
    },
    {
     "data": {
      "text/html": [
       "<div>\n",
       "<style scoped>\n",
       "    .dataframe tbody tr th:only-of-type {\n",
       "        vertical-align: middle;\n",
       "    }\n",
       "\n",
       "    .dataframe tbody tr th {\n",
       "        vertical-align: top;\n",
       "    }\n",
       "\n",
       "    .dataframe thead th {\n",
       "        text-align: right;\n",
       "    }\n",
       "</style>\n",
       "<table border=\"1\" class=\"dataframe\">\n",
       "  <thead>\n",
       "    <tr style=\"text-align: right;\">\n",
       "      <th></th>\n",
       "      <th>count</th>\n",
       "      <th>mean</th>\n",
       "      <th>std</th>\n",
       "      <th>min</th>\n",
       "      <th>25%</th>\n",
       "      <th>50%</th>\n",
       "      <th>75%</th>\n",
       "      <th>max</th>\n",
       "    </tr>\n",
       "  </thead>\n",
       "  <tbody>\n",
       "    <tr>\n",
       "      <th>user_id</th>\n",
       "      <td>500.0</td>\n",
       "      <td>1249.500</td>\n",
       "      <td>144.481833</td>\n",
       "      <td>1000.0</td>\n",
       "      <td>1124.75</td>\n",
       "      <td>1249.5</td>\n",
       "      <td>1374.25</td>\n",
       "      <td>1499.0</td>\n",
       "    </tr>\n",
       "    <tr>\n",
       "      <th>age</th>\n",
       "      <td>500.0</td>\n",
       "      <td>46.588</td>\n",
       "      <td>16.667630</td>\n",
       "      <td>18.0</td>\n",
       "      <td>32.00</td>\n",
       "      <td>46.0</td>\n",
       "      <td>62.00</td>\n",
       "      <td>75.0</td>\n",
       "    </tr>\n",
       "  </tbody>\n",
       "</table>\n",
       "</div>"
      ],
      "text/plain": [
       "         count      mean         std     min      25%     50%      75%     max\n",
       "user_id  500.0  1249.500  144.481833  1000.0  1124.75  1249.5  1374.25  1499.0\n",
       "age      500.0    46.588   16.667630    18.0    32.00    46.0    62.00    75.0"
      ]
     },
     "metadata": {},
     "output_type": "display_data"
    },
    {
     "name": "stdout",
     "output_type": "stream",
     "text": [
      "user_id         0\n",
      "age             0\n",
      "churn_date    462\n",
      "city            0\n",
      "first_name      0\n",
      "last_name       0\n",
      "reg_date        0\n",
      "tariff          0\n",
      "dtype: int64\n",
      "\n",
      "500\n",
      "\n",
      "\n"
     ]
    }
   ],
   "source": [
    "for data in [calls, internet, messages, tariffs, users]:\n",
    "    display(data.info())\n",
    "    display(data.head(15))\n",
    "    display(data.describe().T)\n",
    "    print(data.isna().sum())\n",
    "    print()\n",
    "    print(len(data))\n",
    "    print()\n",
    "    print()"
   ]
  },
  {
   "cell_type": "markdown",
   "id": "5ab86ddf",
   "metadata": {},
   "source": [
    "**Вывод**\n",
    "\n",
    "1. calls:\n",
    "    call_date перевести в datatime, duration перевести в минуты (согласно политике компании)\n",
    "2. internet: \n",
    "    - session_date перевести в datatime\n",
    "    - mb_used округлить в большую сторону сразу в Гб (согласно политике компании)\n",
    "3. messages: message_date перевести в datatime\n",
    "4. users: reg_date и churn_date перевести в datatime. Заметим, что за период ушли  всего 38 пользователей. churn_date = Nan - пользователь пользуется услугами оператора\n",
    "5. для calls, internet, messages и users исправить индексы в первой колонке\n",
    "6. рассмотрим подробнее нулевые значения в calls и internet \n",
    "7. переведем мб в Гб в tariffs"
   ]
  },
  {
   "cell_type": "markdown",
   "id": "dd031e10",
   "metadata": {},
   "source": [
    "## 2. Обработка данных <a id=\"step2\"></a>   \n",
    "</div>"
   ]
  },
  {
   "cell_type": "code",
   "execution_count": 3,
   "id": "91e24713",
   "metadata": {
    "scrolled": true
   },
   "outputs": [],
   "source": [
    "calls['call_date'] = pd.to_datetime(calls['call_date'], format='%Y-%m-%d').astype('datetime64[M]')\n",
    "calls['month'] = calls['call_date'].astype('datetime64[M]')\n",
    "calls['duration'] = np.ceil(calls['duration']).astype('int')\n",
    "calls['user_id'] = calls['user_id'].astype('int')\n",
    "internet['session_date'] = pd.to_datetime(internet['session_date'], format='%Y-%m-%d')\n",
    "internet['month'] = internet['session_date'].astype('datetime64[M]')\n",
    "internet['gb_used'] = internet['mb_used']/1024\n",
    "internet['user_id'] = internet['user_id'].astype('int')"
   ]
  },
  {
   "cell_type": "code",
   "execution_count": 4,
   "id": "3f2cd553",
   "metadata": {},
   "outputs": [],
   "source": [
    "messages['message_date'] = pd.to_datetime(messages['message_date'], format='%Y-%m-%d')\n",
    "messages['month'] = messages['message_date'].astype('datetime64[M]')\n",
    "messages['user_id'] = messages['user_id'].astype('int')\n",
    "users['reg_date'] = pd.to_datetime(users['reg_date'], format='%Y-%m-%d')\n",
    "users['churn_date'] = pd.to_datetime(users['churn_date'], format='%Y-%m-%d')\n",
    "users['user_id'] = users['user_id'].astype('int')"
   ]
  },
  {
   "cell_type": "code",
   "execution_count": 5,
   "id": "d6cfdc9f",
   "metadata": {},
   "outputs": [],
   "source": [
    "# Переведем мб в Гб в tariffs\n",
    "tariffs['gb_per_month_included'] = tariffs['mb_per_month_included']/1024\n",
    "\n",
    "# Удалим лишние индексы - они стоят первыми и в internet они дублируются\n",
    "for data in [calls, internet, internet, messages]:\n",
    "    data = data.drop(data.columns[[0]], axis = 1)"
   ]
  },
  {
   "cell_type": "markdown",
   "id": "cdac2215",
   "metadata": {},
   "source": [
    "Посмотрим на распределение продолжительности звонков и использования трафика. "
   ]
  },
  {
   "cell_type": "code",
   "execution_count": 6,
   "id": "f7a6ff1b",
   "metadata": {},
   "outputs": [
    {
     "data": {
      "image/png": "[encoded data removed]",
      "text/plain": [
       "<Figure size 432x288 with 1 Axes>"
      ]
     },
     "metadata": {
      "needs_background": "light"
     },
     "output_type": "display_data"
    },
    {
     "data": {
      "image/png": "[encoded data removed]",
      "text/plain": [
       "<Figure size 432x288 with 1 Axes>"
      ]
     },
     "metadata": {
      "needs_background": "light"
     },
     "output_type": "display_data"
    }
   ],
   "source": [
    "sns.kdeplot(data=internet, x='mb_used')\n",
    "plt.show()\n",
    "sns.kdeplot(data=calls, x='duration')\n",
    "plt.show()"
   ]
  },
  {
   "cell_type": "markdown",
   "id": "9f8b6f2a",
   "metadata": {},
   "source": [
    "Посмотрим на долю нулевых значений в calls 'duration' и internet 'gb_used'"
   ]
  },
  {
   "cell_type": "code",
   "execution_count": 7,
   "id": "c22b6757",
   "metadata": {},
   "outputs": [
    {
     "name": "stdout",
     "output_type": "stream",
     "text": [
      "Количество звонков, продолжительностью 0 минут 39613\n",
      "Доля нулевой продолжительности звонка: 19.55 %\n",
      "\n",
      "Количество пользователей, использовавших 0 Гб 19598\n",
      "Доля нулевого трафика : 13.12 %\n"
     ]
    }
   ],
   "source": [
    "print('Количество звонков, продолжительностью 0 минут', len(calls[calls['duration']==0]))\n",
    "print('Доля нулевой продолжительности звонка:', round((calls.loc[calls['duration']==0]['duration'].count()/len(calls))*100, 2), '%')\n",
    "print()\n",
    "print('Количество пользователей, использовавших 0 Гб', len(internet[internet['gb_used']==0]))\n",
    "print('Доля нулевого трафика :', round((internet.loc[internet['gb_used']==0]['gb_used'].count()/len(internet))*100, 2), '%')"
   ]
  },
  {
   "cell_type": "markdown",
   "id": "abf200b2",
   "metadata": {},
   "source": [
    "По условию сказано, что округление всегда происходит в большую сторону и оплата за интернет сессии расчитывается по гигабайтам. Оставшиеся нулевые значения мб лучше оставить - по ним в дальнейшем будет производиться расчет прибыли за каждого клиента, что может повлиять на общую прибыль."
   ]
  },
  {
   "cell_type": "markdown",
   "id": "33fa3c0e",
   "metadata": {},
   "source": [
    "В плане работы сказано, что нулевые значения  продолжительности звонков - пропущенные звонки, поэтому удалять их не будем, но рассмотрим их влияние на среднее и медиану:"
   ]
  },
  {
   "cell_type": "code",
   "execution_count": 8,
   "id": "56355524",
   "metadata": {},
   "outputs": [
    {
     "data": {
      "text/html": [
       "<div>\n",
       "<style scoped>\n",
       "    .dataframe tbody tr th:only-of-type {\n",
       "        vertical-align: middle;\n",
       "    }\n",
       "\n",
       "    .dataframe tbody tr th {\n",
       "        vertical-align: top;\n",
       "    }\n",
       "\n",
       "    .dataframe thead th {\n",
       "        text-align: right;\n",
       "    }\n",
       "</style>\n",
       "<table border=\"1\" class=\"dataframe\">\n",
       "  <thead>\n",
       "    <tr style=\"text-align: right;\">\n",
       "      <th></th>\n",
       "      <th>count</th>\n",
       "      <th>mean</th>\n",
       "      <th>std</th>\n",
       "      <th>min</th>\n",
       "      <th>25%</th>\n",
       "      <th>50%</th>\n",
       "      <th>75%</th>\n",
       "      <th>max</th>\n",
       "    </tr>\n",
       "  </thead>\n",
       "  <tbody>\n",
       "    <tr>\n",
       "      <th>duration</th>\n",
       "      <td>162994.0</td>\n",
       "      <td>8.897880</td>\n",
       "      <td>5.353761</td>\n",
       "      <td>1.0</td>\n",
       "      <td>5.0</td>\n",
       "      <td>8.0</td>\n",
       "      <td>12.0</td>\n",
       "      <td>38.0</td>\n",
       "    </tr>\n",
       "    <tr>\n",
       "      <th>user_id</th>\n",
       "      <td>162994.0</td>\n",
       "      <td>1254.149877</td>\n",
       "      <td>144.751050</td>\n",
       "      <td>1000.0</td>\n",
       "      <td>1126.0</td>\n",
       "      <td>1261.0</td>\n",
       "      <td>1379.0</td>\n",
       "      <td>1499.0</td>\n",
       "    </tr>\n",
       "  </tbody>\n",
       "</table>\n",
       "</div>"
      ],
      "text/plain": [
       "             count         mean         std     min     25%     50%     75%  \\\n",
       "duration  162994.0     8.897880    5.353761     1.0     5.0     8.0    12.0   \n",
       "user_id   162994.0  1254.149877  144.751050  1000.0  1126.0  1261.0  1379.0   \n",
       "\n",
       "             max  \n",
       "duration    38.0  \n",
       "user_id   1499.0  "
      ]
     },
     "metadata": {},
     "output_type": "display_data"
    },
    {
     "data": {
      "text/html": [
       "<div>\n",
       "<style scoped>\n",
       "    .dataframe tbody tr th:only-of-type {\n",
       "        vertical-align: middle;\n",
       "    }\n",
       "\n",
       "    .dataframe tbody tr th {\n",
       "        vertical-align: top;\n",
       "    }\n",
       "\n",
       "    .dataframe thead th {\n",
       "        text-align: right;\n",
       "    }\n",
       "</style>\n",
       "<table border=\"1\" class=\"dataframe\">\n",
       "  <thead>\n",
       "    <tr style=\"text-align: right;\">\n",
       "      <th></th>\n",
       "      <th>count</th>\n",
       "      <th>mean</th>\n",
       "      <th>std</th>\n",
       "      <th>min</th>\n",
       "      <th>25%</th>\n",
       "      <th>50%</th>\n",
       "      <th>75%</th>\n",
       "      <th>max</th>\n",
       "    </tr>\n",
       "  </thead>\n",
       "  <tbody>\n",
       "    <tr>\n",
       "      <th>duration</th>\n",
       "      <td>202607.0</td>\n",
       "      <td>7.158198</td>\n",
       "      <td>5.959173</td>\n",
       "      <td>0.0</td>\n",
       "      <td>2.0</td>\n",
       "      <td>6.0</td>\n",
       "      <td>11.0</td>\n",
       "      <td>38.0</td>\n",
       "    </tr>\n",
       "    <tr>\n",
       "      <th>user_id</th>\n",
       "      <td>202607.0</td>\n",
       "      <td>1253.940619</td>\n",
       "      <td>144.722751</td>\n",
       "      <td>1000.0</td>\n",
       "      <td>1126.0</td>\n",
       "      <td>1260.0</td>\n",
       "      <td>1379.0</td>\n",
       "      <td>1499.0</td>\n",
       "    </tr>\n",
       "  </tbody>\n",
       "</table>\n",
       "</div>"
      ],
      "text/plain": [
       "             count         mean         std     min     25%     50%     75%  \\\n",
       "duration  202607.0     7.158198    5.959173     0.0     2.0     6.0    11.0   \n",
       "user_id   202607.0  1253.940619  144.722751  1000.0  1126.0  1260.0  1379.0   \n",
       "\n",
       "             max  \n",
       "duration    38.0  \n",
       "user_id   1499.0  "
      ]
     },
     "execution_count": 8,
     "metadata": {},
     "output_type": "execute_result"
    }
   ],
   "source": [
    "display(calls.loc[calls['duration']!=0].describe().T)\n",
    "calls.describe().T"
   ]
  },
  {
   "cell_type": "markdown",
   "id": "31780be3",
   "metadata": {},
   "source": [
    "Если в дальнейшем понадобится медиана для продолжительности звонка, будем обращаться к непропущенным звонкам:"
   ]
  },
  {
   "cell_type": "code",
   "execution_count": 9,
   "id": "392c6877",
   "metadata": {},
   "outputs": [],
   "source": [
    "non_nul_calls = calls.loc[calls['duration']!=0]"
   ]
  },
  {
   "cell_type": "markdown",
   "id": "e93f84bd",
   "metadata": {},
   "source": [
    "Для учета количества отправленных сообщений создадим столбец 'message_count': в таблице учтены все отправленные сообщения, поэтому просто создадим единичный столбец. "
   ]
  },
  {
   "cell_type": "code",
   "execution_count": 10,
   "id": "bcd42b31",
   "metadata": {},
   "outputs": [],
   "source": [
    "messages['message_count'] = 1"
   ]
  },
  {
   "cell_type": "markdown",
   "id": "f9126382",
   "metadata": {},
   "source": [
    "Поскольку в данных есть 38 пользователей, переставших пользоваться услугами компании, создадим столбец, где True - пользователь, False - бывший пользователь."
   ]
  },
  {
   "cell_type": "code",
   "execution_count": 11,
   "id": "0f54fa77",
   "metadata": {},
   "outputs": [
    {
     "data": {
      "text/plain": [
       "False    462\n",
       "True      38\n",
       "Name: is_user, dtype: int64"
      ]
     },
     "execution_count": 11,
     "metadata": {},
     "output_type": "execute_result"
    }
   ],
   "source": [
    "users.loc[users['churn_date'].isna()==True, 'is_user'] = False\n",
    "users.loc[users['churn_date'].isna()==False,'is_user'] = True\n",
    "users['is_user'].value_counts()"
   ]
  },
  {
   "cell_type": "markdown",
   "id": "ccc20955",
   "metadata": {},
   "source": [
    "### Посчитаем для каждого пользователя:\n",
    "- количество сделанных звонков и израсходованных минут разговора по месяцам;\n",
    "- количество отправленных сообщений по месяцам;\n",
    "- объем израсходованного интернет-трафика по месяцам;\n",
    "- помесячную выручку с каждого пользователя.\n",
    "\n",
    "Для этого создадим общий dataframe:"
   ]
  },
  {
   "cell_type": "code",
   "execution_count": 12,
   "id": "f9695e9d",
   "metadata": {},
   "outputs": [
    {
     "data": {
      "text/html": [
       "<div>\n",
       "<style scoped>\n",
       "    .dataframe tbody tr th:only-of-type {\n",
       "        vertical-align: middle;\n",
       "    }\n",
       "\n",
       "    .dataframe tbody tr th {\n",
       "        vertical-align: top;\n",
       "    }\n",
       "\n",
       "    .dataframe thead th {\n",
       "        text-align: right;\n",
       "    }\n",
       "</style>\n",
       "<table border=\"1\" class=\"dataframe\">\n",
       "  <thead>\n",
       "    <tr style=\"text-align: right;\">\n",
       "      <th></th>\n",
       "      <th></th>\n",
       "      <th>calls_count</th>\n",
       "      <th>total_duration</th>\n",
       "      <th>total_gb_used</th>\n",
       "      <th>message_count</th>\n",
       "    </tr>\n",
       "    <tr>\n",
       "      <th>user_id</th>\n",
       "      <th>month</th>\n",
       "      <th></th>\n",
       "      <th></th>\n",
       "      <th></th>\n",
       "      <th></th>\n",
       "    </tr>\n",
       "  </thead>\n",
       "  <tbody>\n",
       "    <tr>\n",
       "      <th rowspan=\"8\" valign=\"top\">1000</th>\n",
       "      <th>2018-05-01</th>\n",
       "      <td>22.0</td>\n",
       "      <td>159.0</td>\n",
       "      <td>3.0</td>\n",
       "      <td>22.0</td>\n",
       "    </tr>\n",
       "    <tr>\n",
       "      <th>2018-06-01</th>\n",
       "      <td>43.0</td>\n",
       "      <td>172.0</td>\n",
       "      <td>23.0</td>\n",
       "      <td>60.0</td>\n",
       "    </tr>\n",
       "    <tr>\n",
       "      <th>2018-07-01</th>\n",
       "      <td>47.0</td>\n",
       "      <td>340.0</td>\n",
       "      <td>14.0</td>\n",
       "      <td>75.0</td>\n",
       "    </tr>\n",
       "    <tr>\n",
       "      <th>2018-08-01</th>\n",
       "      <td>52.0</td>\n",
       "      <td>408.0</td>\n",
       "      <td>14.0</td>\n",
       "      <td>81.0</td>\n",
       "    </tr>\n",
       "    <tr>\n",
       "      <th>2018-09-01</th>\n",
       "      <td>58.0</td>\n",
       "      <td>466.0</td>\n",
       "      <td>15.0</td>\n",
       "      <td>57.0</td>\n",
       "    </tr>\n",
       "    <tr>\n",
       "      <th>2018-10-01</th>\n",
       "      <td>57.0</td>\n",
       "      <td>350.0</td>\n",
       "      <td>15.0</td>\n",
       "      <td>73.0</td>\n",
       "    </tr>\n",
       "    <tr>\n",
       "      <th>2018-11-01</th>\n",
       "      <td>43.0</td>\n",
       "      <td>338.0</td>\n",
       "      <td>15.0</td>\n",
       "      <td>58.0</td>\n",
       "    </tr>\n",
       "    <tr>\n",
       "      <th>2018-12-01</th>\n",
       "      <td>46.0</td>\n",
       "      <td>333.0</td>\n",
       "      <td>10.0</td>\n",
       "      <td>70.0</td>\n",
       "    </tr>\n",
       "    <tr>\n",
       "      <th rowspan=\"2\" valign=\"top\">1001</th>\n",
       "      <th>2018-11-01</th>\n",
       "      <td>59.0</td>\n",
       "      <td>430.0</td>\n",
       "      <td>18.0</td>\n",
       "      <td>NaN</td>\n",
       "    </tr>\n",
       "    <tr>\n",
       "      <th>2018-12-01</th>\n",
       "      <td>63.0</td>\n",
       "      <td>414.0</td>\n",
       "      <td>14.0</td>\n",
       "      <td>NaN</td>\n",
       "    </tr>\n",
       "    <tr>\n",
       "      <th rowspan=\"7\" valign=\"top\">1002</th>\n",
       "      <th>2018-06-01</th>\n",
       "      <td>15.0</td>\n",
       "      <td>117.0</td>\n",
       "      <td>11.0</td>\n",
       "      <td>4.0</td>\n",
       "    </tr>\n",
       "    <tr>\n",
       "      <th>2018-07-01</th>\n",
       "      <td>26.0</td>\n",
       "      <td>214.0</td>\n",
       "      <td>18.0</td>\n",
       "      <td>11.0</td>\n",
       "    </tr>\n",
       "    <tr>\n",
       "      <th>2018-08-01</th>\n",
       "      <td>42.0</td>\n",
       "      <td>289.0</td>\n",
       "      <td>20.0</td>\n",
       "      <td>13.0</td>\n",
       "    </tr>\n",
       "    <tr>\n",
       "      <th>2018-09-01</th>\n",
       "      <td>36.0</td>\n",
       "      <td>206.0</td>\n",
       "      <td>17.0</td>\n",
       "      <td>4.0</td>\n",
       "    </tr>\n",
       "    <tr>\n",
       "      <th>2018-10-01</th>\n",
       "      <td>33.0</td>\n",
       "      <td>212.0</td>\n",
       "      <td>14.0</td>\n",
       "      <td>10.0</td>\n",
       "    </tr>\n",
       "    <tr>\n",
       "      <th>2018-11-01</th>\n",
       "      <td>32.0</td>\n",
       "      <td>243.0</td>\n",
       "      <td>19.0</td>\n",
       "      <td>16.0</td>\n",
       "    </tr>\n",
       "    <tr>\n",
       "      <th>2018-12-01</th>\n",
       "      <td>33.0</td>\n",
       "      <td>236.0</td>\n",
       "      <td>18.0</td>\n",
       "      <td>12.0</td>\n",
       "    </tr>\n",
       "    <tr>\n",
       "      <th rowspan=\"3\" valign=\"top\">1003</th>\n",
       "      <th>2018-08-01</th>\n",
       "      <td>55.0</td>\n",
       "      <td>380.0</td>\n",
       "      <td>9.0</td>\n",
       "      <td>37.0</td>\n",
       "    </tr>\n",
       "    <tr>\n",
       "      <th>2018-09-01</th>\n",
       "      <td>134.0</td>\n",
       "      <td>961.0</td>\n",
       "      <td>13.0</td>\n",
       "      <td>91.0</td>\n",
       "    </tr>\n",
       "    <tr>\n",
       "      <th>2018-10-01</th>\n",
       "      <td>108.0</td>\n",
       "      <td>855.0</td>\n",
       "      <td>15.0</td>\n",
       "      <td>83.0</td>\n",
       "    </tr>\n",
       "  </tbody>\n",
       "</table>\n",
       "</div>"
      ],
      "text/plain": [
       "                    calls_count  total_duration  total_gb_used  message_count\n",
       "user_id month                                                                \n",
       "1000    2018-05-01         22.0           159.0            3.0           22.0\n",
       "        2018-06-01         43.0           172.0           23.0           60.0\n",
       "        2018-07-01         47.0           340.0           14.0           75.0\n",
       "        2018-08-01         52.0           408.0           14.0           81.0\n",
       "        2018-09-01         58.0           466.0           15.0           57.0\n",
       "        2018-10-01         57.0           350.0           15.0           73.0\n",
       "        2018-11-01         43.0           338.0           15.0           58.0\n",
       "        2018-12-01         46.0           333.0           10.0           70.0\n",
       "1001    2018-11-01         59.0           430.0           18.0            NaN\n",
       "        2018-12-01         63.0           414.0           14.0            NaN\n",
       "1002    2018-06-01         15.0           117.0           11.0            4.0\n",
       "        2018-07-01         26.0           214.0           18.0           11.0\n",
       "        2018-08-01         42.0           289.0           20.0           13.0\n",
       "        2018-09-01         36.0           206.0           17.0            4.0\n",
       "        2018-10-01         33.0           212.0           14.0           10.0\n",
       "        2018-11-01         32.0           243.0           19.0           16.0\n",
       "        2018-12-01         33.0           236.0           18.0           12.0\n",
       "1003    2018-08-01         55.0           380.0            9.0           37.0\n",
       "        2018-09-01        134.0           961.0           13.0           91.0\n",
       "        2018-10-01        108.0           855.0           15.0           83.0"
      ]
     },
     "execution_count": 12,
     "metadata": {},
     "output_type": "execute_result"
    }
   ],
   "source": [
    "calls_pivot = calls.pivot_table(values='duration', index=['user_id','month'], aggfunc={'duration': ['count', 'sum']})\n",
    "calls_pivot.rename(columns={'count':'calls_count', 'sum':'total_duration'}, inplace=True)\n",
    "internet_pivot = internet.pivot_table(values='gb_used', index=['user_id', 'month'], aggfunc={'gb_used':'sum'})\n",
    "internet_pivot.rename(columns={'gb_used':'total_gb_used'}, inplace=True)\n",
    "message_pivot = messages.pivot_table(values='message_count', index=['user_id', 'month'], aggfunc={'message_count':'count'})\n",
    "\n",
    "df = calls_pivot.merge(internet_pivot, on=['user_id','month'], how='outer').merge(message_pivot, on=['user_id','month'], how='outer')\n",
    "df['total_gb_used'] = np.ceil(df['total_gb_used'])\n",
    "\n",
    "df.head(20)"
   ]
  },
  {
   "cell_type": "code",
   "execution_count": 13,
   "id": "d641af66",
   "metadata": {
    "scrolled": true
   },
   "outputs": [
    {
     "data": {
      "text/html": [
       "<div>\n",
       "<style scoped>\n",
       "    .dataframe tbody tr th:only-of-type {\n",
       "        vertical-align: middle;\n",
       "    }\n",
       "\n",
       "    .dataframe tbody tr th {\n",
       "        vertical-align: top;\n",
       "    }\n",
       "\n",
       "    .dataframe thead th {\n",
       "        text-align: right;\n",
       "    }\n",
       "</style>\n",
       "<table border=\"1\" class=\"dataframe\">\n",
       "  <thead>\n",
       "    <tr style=\"text-align: right;\">\n",
       "      <th></th>\n",
       "      <th>count</th>\n",
       "      <th>mean</th>\n",
       "      <th>std</th>\n",
       "      <th>min</th>\n",
       "      <th>25%</th>\n",
       "      <th>50%</th>\n",
       "      <th>75%</th>\n",
       "      <th>max</th>\n",
       "    </tr>\n",
       "  </thead>\n",
       "  <tbody>\n",
       "    <tr>\n",
       "      <th>calls_count</th>\n",
       "      <td>3174.0</td>\n",
       "      <td>63.833333</td>\n",
       "      <td>32.678036</td>\n",
       "      <td>1.0</td>\n",
       "      <td>41.0</td>\n",
       "      <td>63.0</td>\n",
       "      <td>83.0</td>\n",
       "      <td>244.0</td>\n",
       "    </tr>\n",
       "    <tr>\n",
       "      <th>total_duration</th>\n",
       "      <td>3174.0</td>\n",
       "      <td>456.931632</td>\n",
       "      <td>238.031270</td>\n",
       "      <td>0.0</td>\n",
       "      <td>290.0</td>\n",
       "      <td>447.0</td>\n",
       "      <td>592.0</td>\n",
       "      <td>1673.0</td>\n",
       "    </tr>\n",
       "    <tr>\n",
       "      <th>total_gb_used</th>\n",
       "      <td>3203.0</td>\n",
       "      <td>17.358414</td>\n",
       "      <td>7.343379</td>\n",
       "      <td>0.0</td>\n",
       "      <td>13.0</td>\n",
       "      <td>17.0</td>\n",
       "      <td>21.0</td>\n",
       "      <td>49.0</td>\n",
       "    </tr>\n",
       "    <tr>\n",
       "      <th>message_count</th>\n",
       "      <td>2717.0</td>\n",
       "      <td>45.283769</td>\n",
       "      <td>35.051363</td>\n",
       "      <td>1.0</td>\n",
       "      <td>19.0</td>\n",
       "      <td>38.0</td>\n",
       "      <td>63.0</td>\n",
       "      <td>224.0</td>\n",
       "    </tr>\n",
       "  </tbody>\n",
       "</table>\n",
       "</div>"
      ],
      "text/plain": [
       "                 count        mean         std  min    25%    50%    75%  \\\n",
       "calls_count     3174.0   63.833333   32.678036  1.0   41.0   63.0   83.0   \n",
       "total_duration  3174.0  456.931632  238.031270  0.0  290.0  447.0  592.0   \n",
       "total_gb_used   3203.0   17.358414    7.343379  0.0   13.0   17.0   21.0   \n",
       "message_count   2717.0   45.283769   35.051363  1.0   19.0   38.0   63.0   \n",
       "\n",
       "                   max  \n",
       "calls_count      244.0  \n",
       "total_duration  1673.0  \n",
       "total_gb_used     49.0  \n",
       "message_count    224.0  "
      ]
     },
     "metadata": {},
     "output_type": "display_data"
    },
    {
     "name": "stdout",
     "output_type": "stream",
     "text": [
      "Index(['calls_count', 'total_duration', 'total_gb_used', 'message_count'], dtype='object')\n",
      "\n",
      "calls_count        40\n",
      "total_duration     40\n",
      "total_gb_used      11\n",
      "message_count     497\n",
      "dtype: int64\n",
      "\n",
      "3214\n"
     ]
    }
   ],
   "source": [
    "display(df.describe().T)\n",
    "print(df.columns)\n",
    "print()\n",
    "print(df.isna().sum())\n",
    "print()\n",
    "print(len(df))\n"
   ]
  },
  {
   "cell_type": "markdown",
   "id": "07ad5d9b",
   "metadata": {},
   "source": [
    "Nan значения образовались из-за соединения таблиц, в исходных данных nan-значений не было, поэтому все наны в df заменим 0."
   ]
  },
  {
   "cell_type": "code",
   "execution_count": 14,
   "id": "0f12757c",
   "metadata": {},
   "outputs": [],
   "source": [
    "df['calls_count'] = df['calls_count'].fillna(0)\n",
    "df['total_duration'] = df['total_duration'] .fillna(0)\n",
    "df['total_gb_used'] = df['total_gb_used'].fillna(0)\n",
    "df['message_count'] = df['message_count'].fillna(0)"
   ]
  },
  {
   "cell_type": "code",
   "execution_count": 15,
   "id": "5180206c",
   "metadata": {
    "scrolled": false
   },
   "outputs": [
    {
     "data": {
      "image/png": "[encoded data removed]",
      "text/plain": [
       "<Figure size 864x432 with 2 Axes>"
      ]
     },
     "metadata": {
      "needs_background": "light"
     },
     "output_type": "display_data"
    },
    {
     "data": {
      "image/png": "[encoded data removed]",
      "text/plain": [
       "<Figure size 864x432 with 2 Axes>"
      ]
     },
     "metadata": {
      "needs_background": "light"
     },
     "output_type": "display_data"
    },
    {
     "data": {
      "image/png": "[encoded data removed]",
      "text/plain": [
       "<Figure size 864x432 with 2 Axes>"
      ]
     },
     "metadata": {
      "needs_background": "light"
     },
     "output_type": "display_data"
    },
    {
     "data": {
      "image/png": "[encoded data removed]",
      "text/plain": [
       "<Figure size 864x432 with 2 Axes>"
      ]
     },
     "metadata": {
      "needs_background": "light"
     },
     "output_type": "display_data"
    }
   ],
   "source": [
    "def draw_distribution(vals, color):\n",
    "    f, (ax_box, ax_hist) = plt.subplots(2, sharex=True, \n",
    "                                      gridspec_kw={\"height_ratios\": (.15, .85)},\n",
    "                                      figsize=(12, 6))\n",
    "  \n",
    "    sns.boxplot(vals, ax=ax_box, color=color)\n",
    "    sns.distplot(vals, ax=ax_hist, color=color)\n",
    "    ax_box.set(yticks=[])\n",
    "    sns.despine(ax=ax_box, left=True)\n",
    "    \n",
    "for col in df.columns:\n",
    "    draw_distribution(vals=df[col], color='blue')"
   ]
  },
  {
   "cell_type": "markdown",
   "id": "f5ddec14",
   "metadata": {},
   "source": [
    "Добавим данные о пользователях: какой тариф используется и является ли он текущим клиентом:"
   ]
  },
  {
   "cell_type": "code",
   "execution_count": 16,
   "id": "64ac5e38",
   "metadata": {
    "scrolled": true
   },
   "outputs": [],
   "source": [
    "df = users[['user_id','city','tariff', 'is_user']].merge(df.reset_index(), on=['user_id'], how='left')\n",
    "# Отсортированная таблица\n",
    "df = df.sort_values(by=['user_id','tariff','city', 'is_user','month'], ascending=True)\n",
    "# Сводная таблица\n",
    "df_pivot = df.pivot_table(index=['user_id','tariff','city', 'is_user','month'], values=['calls_count', 'total_duration', 'total_gb_used', 'message_count'])"
   ]
  },
  {
   "cell_type": "markdown",
   "id": "e841cf20",
   "metadata": {},
   "source": [
    "Создадим функцию, которая вычислит доход с каждого клиента: передается два параметра - данные о пользователях и данные о тарифе, который формирует прибыль. "
   ]
  },
  {
   "cell_type": "code",
   "execution_count": 17,
   "id": "de1c67c9",
   "metadata": {},
   "outputs": [
    {
     "data": {
      "text/html": [
       "<div>\n",
       "<style scoped>\n",
       "    .dataframe tbody tr th:only-of-type {\n",
       "        vertical-align: middle;\n",
       "    }\n",
       "\n",
       "    .dataframe tbody tr th {\n",
       "        vertical-align: top;\n",
       "    }\n",
       "\n",
       "    .dataframe thead th {\n",
       "        text-align: right;\n",
       "    }\n",
       "</style>\n",
       "<table border=\"1\" class=\"dataframe\">\n",
       "  <thead>\n",
       "    <tr style=\"text-align: right;\">\n",
       "      <th></th>\n",
       "      <th>messages_included</th>\n",
       "      <th>mb_per_month_included</th>\n",
       "      <th>minutes_included</th>\n",
       "      <th>rub_monthly_fee</th>\n",
       "      <th>rub_per_gb</th>\n",
       "      <th>rub_per_message</th>\n",
       "      <th>rub_per_minute</th>\n",
       "      <th>tariff_name</th>\n",
       "      <th>gb_per_month_included</th>\n",
       "    </tr>\n",
       "  </thead>\n",
       "  <tbody>\n",
       "    <tr>\n",
       "      <th>0</th>\n",
       "      <td>50</td>\n",
       "      <td>15360</td>\n",
       "      <td>500</td>\n",
       "      <td>550</td>\n",
       "      <td>200</td>\n",
       "      <td>3</td>\n",
       "      <td>3</td>\n",
       "      <td>smart</td>\n",
       "      <td>15.0</td>\n",
       "    </tr>\n",
       "    <tr>\n",
       "      <th>1</th>\n",
       "      <td>1000</td>\n",
       "      <td>30720</td>\n",
       "      <td>3000</td>\n",
       "      <td>1950</td>\n",
       "      <td>150</td>\n",
       "      <td>1</td>\n",
       "      <td>1</td>\n",
       "      <td>ultra</td>\n",
       "      <td>30.0</td>\n",
       "    </tr>\n",
       "  </tbody>\n",
       "</table>\n",
       "</div>"
      ],
      "text/plain": [
       "   messages_included  mb_per_month_included  minutes_included  \\\n",
       "0                 50                  15360               500   \n",
       "1               1000                  30720              3000   \n",
       "\n",
       "   rub_monthly_fee  rub_per_gb  rub_per_message  rub_per_minute tariff_name  \\\n",
       "0              550         200                3               3       smart   \n",
       "1             1950         150                1               1       ultra   \n",
       "\n",
       "   gb_per_month_included  \n",
       "0                   15.0  \n",
       "1                   30.0  "
      ]
     },
     "execution_count": 17,
     "metadata": {},
     "output_type": "execute_result"
    }
   ],
   "source": [
    "tariffs"
   ]
  },
  {
   "cell_type": "code",
   "execution_count": 18,
   "id": "a70b1695",
   "metadata": {},
   "outputs": [],
   "source": [
    "def total_income(row):\n",
    "    messages = row['message_count']\n",
    "    gb_used = row['total_gb_used']\n",
    "    call_duration = row['total_duration']\n",
    "    tariff = row['tariff']\n",
    "    total_income = 0\n",
    "    for index in range(len(tariffs)):\n",
    "        \n",
    "        if (tariff == tariffs.loc[index, 'tariff_name']):\n",
    "            total_income += tariffs.loc[index, 'rub_monthly_fee']\n",
    "            if (call_duration > tariffs.loc[index, 'minutes_included']):\n",
    "                total_income += (call_duration-tariffs.loc[index, 'minutes_included'])*tariffs.loc[index, 'rub_per_minute']\n",
    "            if (gb_used > tariffs.loc[index, 'gb_per_month_included']):\n",
    "                total_income += (gb_used-tariffs.loc[index, 'gb_per_month_included'])*tariffs.loc[index, 'rub_per_gb']\n",
    "            if (messages > tariffs.loc[index, 'messages_included']):\n",
    "                total_income += (messages-tariffs.loc[index, 'messages_included'])*tariffs.loc[index, 'rub_per_message']\n",
    "            return(total_income)\n",
    "\n",
    "#total_income(row=df, income_dict=tariffs)\n",
    "#df.head(10)"
   ]
  },
  {
   "cell_type": "code",
   "execution_count": 19,
   "id": "5036fb74",
   "metadata": {},
   "outputs": [
    {
     "data": {
      "text/html": [
       "<div>\n",
       "<style scoped>\n",
       "    .dataframe tbody tr th:only-of-type {\n",
       "        vertical-align: middle;\n",
       "    }\n",
       "\n",
       "    .dataframe tbody tr th {\n",
       "        vertical-align: top;\n",
       "    }\n",
       "\n",
       "    .dataframe thead th {\n",
       "        text-align: right;\n",
       "    }\n",
       "</style>\n",
       "<table border=\"1\" class=\"dataframe\">\n",
       "  <thead>\n",
       "    <tr style=\"text-align: right;\">\n",
       "      <th></th>\n",
       "      <th>user_id</th>\n",
       "      <th>city</th>\n",
       "      <th>tariff</th>\n",
       "      <th>is_user</th>\n",
       "      <th>month</th>\n",
       "      <th>calls_count</th>\n",
       "      <th>total_duration</th>\n",
       "      <th>total_gb_used</th>\n",
       "      <th>message_count</th>\n",
       "      <th>total_income</th>\n",
       "    </tr>\n",
       "  </thead>\n",
       "  <tbody>\n",
       "    <tr>\n",
       "      <th>0</th>\n",
       "      <td>1000</td>\n",
       "      <td>Краснодар</td>\n",
       "      <td>ultra</td>\n",
       "      <td>False</td>\n",
       "      <td>2018-05-01</td>\n",
       "      <td>22.0</td>\n",
       "      <td>159.0</td>\n",
       "      <td>3.0</td>\n",
       "      <td>22.0</td>\n",
       "      <td>1950.0</td>\n",
       "    </tr>\n",
       "    <tr>\n",
       "      <th>1</th>\n",
       "      <td>1000</td>\n",
       "      <td>Краснодар</td>\n",
       "      <td>ultra</td>\n",
       "      <td>False</td>\n",
       "      <td>2018-06-01</td>\n",
       "      <td>43.0</td>\n",
       "      <td>172.0</td>\n",
       "      <td>23.0</td>\n",
       "      <td>60.0</td>\n",
       "      <td>1950.0</td>\n",
       "    </tr>\n",
       "    <tr>\n",
       "      <th>2</th>\n",
       "      <td>1000</td>\n",
       "      <td>Краснодар</td>\n",
       "      <td>ultra</td>\n",
       "      <td>False</td>\n",
       "      <td>2018-07-01</td>\n",
       "      <td>47.0</td>\n",
       "      <td>340.0</td>\n",
       "      <td>14.0</td>\n",
       "      <td>75.0</td>\n",
       "      <td>1950.0</td>\n",
       "    </tr>\n",
       "    <tr>\n",
       "      <th>3</th>\n",
       "      <td>1000</td>\n",
       "      <td>Краснодар</td>\n",
       "      <td>ultra</td>\n",
       "      <td>False</td>\n",
       "      <td>2018-08-01</td>\n",
       "      <td>52.0</td>\n",
       "      <td>408.0</td>\n",
       "      <td>14.0</td>\n",
       "      <td>81.0</td>\n",
       "      <td>1950.0</td>\n",
       "    </tr>\n",
       "    <tr>\n",
       "      <th>4</th>\n",
       "      <td>1000</td>\n",
       "      <td>Краснодар</td>\n",
       "      <td>ultra</td>\n",
       "      <td>False</td>\n",
       "      <td>2018-09-01</td>\n",
       "      <td>58.0</td>\n",
       "      <td>466.0</td>\n",
       "      <td>15.0</td>\n",
       "      <td>57.0</td>\n",
       "      <td>1950.0</td>\n",
       "    </tr>\n",
       "    <tr>\n",
       "      <th>5</th>\n",
       "      <td>1000</td>\n",
       "      <td>Краснодар</td>\n",
       "      <td>ultra</td>\n",
       "      <td>False</td>\n",
       "      <td>2018-10-01</td>\n",
       "      <td>57.0</td>\n",
       "      <td>350.0</td>\n",
       "      <td>15.0</td>\n",
       "      <td>73.0</td>\n",
       "      <td>1950.0</td>\n",
       "    </tr>\n",
       "    <tr>\n",
       "      <th>6</th>\n",
       "      <td>1000</td>\n",
       "      <td>Краснодар</td>\n",
       "      <td>ultra</td>\n",
       "      <td>False</td>\n",
       "      <td>2018-11-01</td>\n",
       "      <td>43.0</td>\n",
       "      <td>338.0</td>\n",
       "      <td>15.0</td>\n",
       "      <td>58.0</td>\n",
       "      <td>1950.0</td>\n",
       "    </tr>\n",
       "    <tr>\n",
       "      <th>7</th>\n",
       "      <td>1000</td>\n",
       "      <td>Краснодар</td>\n",
       "      <td>ultra</td>\n",
       "      <td>False</td>\n",
       "      <td>2018-12-01</td>\n",
       "      <td>46.0</td>\n",
       "      <td>333.0</td>\n",
       "      <td>10.0</td>\n",
       "      <td>70.0</td>\n",
       "      <td>1950.0</td>\n",
       "    </tr>\n",
       "    <tr>\n",
       "      <th>8</th>\n",
       "      <td>1001</td>\n",
       "      <td>Москва</td>\n",
       "      <td>smart</td>\n",
       "      <td>False</td>\n",
       "      <td>2018-11-01</td>\n",
       "      <td>59.0</td>\n",
       "      <td>430.0</td>\n",
       "      <td>18.0</td>\n",
       "      <td>0.0</td>\n",
       "      <td>1150.0</td>\n",
       "    </tr>\n",
       "    <tr>\n",
       "      <th>9</th>\n",
       "      <td>1001</td>\n",
       "      <td>Москва</td>\n",
       "      <td>smart</td>\n",
       "      <td>False</td>\n",
       "      <td>2018-12-01</td>\n",
       "      <td>63.0</td>\n",
       "      <td>414.0</td>\n",
       "      <td>14.0</td>\n",
       "      <td>0.0</td>\n",
       "      <td>550.0</td>\n",
       "    </tr>\n",
       "    <tr>\n",
       "      <th>10</th>\n",
       "      <td>1002</td>\n",
       "      <td>Стерлитамак</td>\n",
       "      <td>smart</td>\n",
       "      <td>False</td>\n",
       "      <td>2018-06-01</td>\n",
       "      <td>15.0</td>\n",
       "      <td>117.0</td>\n",
       "      <td>11.0</td>\n",
       "      <td>4.0</td>\n",
       "      <td>550.0</td>\n",
       "    </tr>\n",
       "    <tr>\n",
       "      <th>11</th>\n",
       "      <td>1002</td>\n",
       "      <td>Стерлитамак</td>\n",
       "      <td>smart</td>\n",
       "      <td>False</td>\n",
       "      <td>2018-07-01</td>\n",
       "      <td>26.0</td>\n",
       "      <td>214.0</td>\n",
       "      <td>18.0</td>\n",
       "      <td>11.0</td>\n",
       "      <td>1150.0</td>\n",
       "    </tr>\n",
       "    <tr>\n",
       "      <th>12</th>\n",
       "      <td>1002</td>\n",
       "      <td>Стерлитамак</td>\n",
       "      <td>smart</td>\n",
       "      <td>False</td>\n",
       "      <td>2018-08-01</td>\n",
       "      <td>42.0</td>\n",
       "      <td>289.0</td>\n",
       "      <td>20.0</td>\n",
       "      <td>13.0</td>\n",
       "      <td>1550.0</td>\n",
       "    </tr>\n",
       "    <tr>\n",
       "      <th>13</th>\n",
       "      <td>1002</td>\n",
       "      <td>Стерлитамак</td>\n",
       "      <td>smart</td>\n",
       "      <td>False</td>\n",
       "      <td>2018-09-01</td>\n",
       "      <td>36.0</td>\n",
       "      <td>206.0</td>\n",
       "      <td>17.0</td>\n",
       "      <td>4.0</td>\n",
       "      <td>950.0</td>\n",
       "    </tr>\n",
       "    <tr>\n",
       "      <th>14</th>\n",
       "      <td>1002</td>\n",
       "      <td>Стерлитамак</td>\n",
       "      <td>smart</td>\n",
       "      <td>False</td>\n",
       "      <td>2018-10-01</td>\n",
       "      <td>33.0</td>\n",
       "      <td>212.0</td>\n",
       "      <td>14.0</td>\n",
       "      <td>10.0</td>\n",
       "      <td>550.0</td>\n",
       "    </tr>\n",
       "    <tr>\n",
       "      <th>15</th>\n",
       "      <td>1002</td>\n",
       "      <td>Стерлитамак</td>\n",
       "      <td>smart</td>\n",
       "      <td>False</td>\n",
       "      <td>2018-11-01</td>\n",
       "      <td>32.0</td>\n",
       "      <td>243.0</td>\n",
       "      <td>19.0</td>\n",
       "      <td>16.0</td>\n",
       "      <td>1350.0</td>\n",
       "    </tr>\n",
       "    <tr>\n",
       "      <th>16</th>\n",
       "      <td>1002</td>\n",
       "      <td>Стерлитамак</td>\n",
       "      <td>smart</td>\n",
       "      <td>False</td>\n",
       "      <td>2018-12-01</td>\n",
       "      <td>33.0</td>\n",
       "      <td>236.0</td>\n",
       "      <td>18.0</td>\n",
       "      <td>12.0</td>\n",
       "      <td>1150.0</td>\n",
       "    </tr>\n",
       "    <tr>\n",
       "      <th>17</th>\n",
       "      <td>1003</td>\n",
       "      <td>Москва</td>\n",
       "      <td>ultra</td>\n",
       "      <td>False</td>\n",
       "      <td>2018-08-01</td>\n",
       "      <td>55.0</td>\n",
       "      <td>380.0</td>\n",
       "      <td>9.0</td>\n",
       "      <td>37.0</td>\n",
       "      <td>1950.0</td>\n",
       "    </tr>\n",
       "    <tr>\n",
       "      <th>18</th>\n",
       "      <td>1003</td>\n",
       "      <td>Москва</td>\n",
       "      <td>ultra</td>\n",
       "      <td>False</td>\n",
       "      <td>2018-09-01</td>\n",
       "      <td>134.0</td>\n",
       "      <td>961.0</td>\n",
       "      <td>13.0</td>\n",
       "      <td>91.0</td>\n",
       "      <td>1950.0</td>\n",
       "    </tr>\n",
       "    <tr>\n",
       "      <th>19</th>\n",
       "      <td>1003</td>\n",
       "      <td>Москва</td>\n",
       "      <td>ultra</td>\n",
       "      <td>False</td>\n",
       "      <td>2018-10-01</td>\n",
       "      <td>108.0</td>\n",
       "      <td>855.0</td>\n",
       "      <td>15.0</td>\n",
       "      <td>83.0</td>\n",
       "      <td>1950.0</td>\n",
       "    </tr>\n",
       "  </tbody>\n",
       "</table>\n",
       "</div>"
      ],
      "text/plain": [
       "    user_id         city tariff is_user      month  calls_count  \\\n",
       "0      1000    Краснодар  ultra   False 2018-05-01         22.0   \n",
       "1      1000    Краснодар  ultra   False 2018-06-01         43.0   \n",
       "2      1000    Краснодар  ultra   False 2018-07-01         47.0   \n",
       "3      1000    Краснодар  ultra   False 2018-08-01         52.0   \n",
       "4      1000    Краснодар  ultra   False 2018-09-01         58.0   \n",
       "5      1000    Краснодар  ultra   False 2018-10-01         57.0   \n",
       "6      1000    Краснодар  ultra   False 2018-11-01         43.0   \n",
       "7      1000    Краснодар  ultra   False 2018-12-01         46.0   \n",
       "8      1001       Москва  smart   False 2018-11-01         59.0   \n",
       "9      1001       Москва  smart   False 2018-12-01         63.0   \n",
       "10     1002  Стерлитамак  smart   False 2018-06-01         15.0   \n",
       "11     1002  Стерлитамак  smart   False 2018-07-01         26.0   \n",
       "12     1002  Стерлитамак  smart   False 2018-08-01         42.0   \n",
       "13     1002  Стерлитамак  smart   False 2018-09-01         36.0   \n",
       "14     1002  Стерлитамак  smart   False 2018-10-01         33.0   \n",
       "15     1002  Стерлитамак  smart   False 2018-11-01         32.0   \n",
       "16     1002  Стерлитамак  smart   False 2018-12-01         33.0   \n",
       "17     1003       Москва  ultra   False 2018-08-01         55.0   \n",
       "18     1003       Москва  ultra   False 2018-09-01        134.0   \n",
       "19     1003       Москва  ultra   False 2018-10-01        108.0   \n",
       "\n",
       "    total_duration  total_gb_used  message_count  total_income  \n",
       "0            159.0            3.0           22.0        1950.0  \n",
       "1            172.0           23.0           60.0        1950.0  \n",
       "2            340.0           14.0           75.0        1950.0  \n",
       "3            408.0           14.0           81.0        1950.0  \n",
       "4            466.0           15.0           57.0        1950.0  \n",
       "5            350.0           15.0           73.0        1950.0  \n",
       "6            338.0           15.0           58.0        1950.0  \n",
       "7            333.0           10.0           70.0        1950.0  \n",
       "8            430.0           18.0            0.0        1150.0  \n",
       "9            414.0           14.0            0.0         550.0  \n",
       "10           117.0           11.0            4.0         550.0  \n",
       "11           214.0           18.0           11.0        1150.0  \n",
       "12           289.0           20.0           13.0        1550.0  \n",
       "13           206.0           17.0            4.0         950.0  \n",
       "14           212.0           14.0           10.0         550.0  \n",
       "15           243.0           19.0           16.0        1350.0  \n",
       "16           236.0           18.0           12.0        1150.0  \n",
       "17           380.0            9.0           37.0        1950.0  \n",
       "18           961.0           13.0           91.0        1950.0  \n",
       "19           855.0           15.0           83.0        1950.0  "
      ]
     },
     "execution_count": 19,
     "metadata": {},
     "output_type": "execute_result"
    }
   ],
   "source": [
    "df['total_income'] = df.apply(total_income, axis=1)\n",
    "df.head(20)"
   ]
  },
  {
   "cell_type": "markdown",
   "id": "932f3769",
   "metadata": {},
   "source": [
    "## 3. Анализ данных <a id=\"step3\"></a>   \n",
    "</div>"
   ]
  },
  {
   "cell_type": "markdown",
   "id": "8c203a81",
   "metadata": {},
   "source": [
    "Опишем поведение клиентов оператора, исходя из выборки. Расчитаем:\n",
    "- сколько минут разговора, \n",
    "- сколько сообщений и\n",
    "- какой объём интернет-трафика \n",
    "\n",
    "требуется пользователям каждого тарифа в месяц.\n",
    "\n",
    "Посчитаем среднее количество, дисперсию и стандартное отклонение. Построем гистограммы. Опишите распределения."
   ]
  },
  {
   "cell_type": "code",
   "execution_count": 20,
   "id": "f323b572",
   "metadata": {},
   "outputs": [],
   "source": [
    "df.loc[df['tariff'] == 'ultra', 'id_tariff'] = 1\n",
    "df.loc[df['tariff'] == 'smart', 'id_tariff'] = 0\n",
    "df['id_tariff'] = df['id_tariff'].astype('int')\n"
   ]
  },
  {
   "cell_type": "code",
   "execution_count": 21,
   "id": "7e265380",
   "metadata": {},
   "outputs": [],
   "source": [
    "# Составим таблицу с показателями израсходованных смс, трафика, минут (0 - пропущенные вызовы - удалим) за месяц для каждого пользователя\n",
    "clients_behavior = df.pivot_table(index=['user_id', 'month'], values=['id_tariff','total_duration', 'total_gb_used', 'message_count', 'total_income'])\n",
    "clients_behavior_smart = clients_behavior.query('id_tariff == 0 ').drop(labels='id_tariff', axis = 1)\n",
    "clients_behavior_ultra = clients_behavior.query('id_tariff == 1').drop(labels='id_tariff', axis = 1)"
   ]
  },
  {
   "cell_type": "code",
   "execution_count": 23,
   "id": "3c2a9f8f",
   "metadata": {
    "scrolled": true
   },
   "outputs": [
    {
     "data": {
      "image/png": "[encoded data removed]",
      "text/plain": [
       "<Figure size 432x288 with 1 Axes>"
      ]
     },
     "metadata": {
      "needs_background": "light"
     },
     "output_type": "display_data"
    },
    {
     "data": {
      "image/png": "[encoded data removed]",
      "text/plain": [
       "<Figure size 432x288 with 1 Axes>"
      ]
     },
     "metadata": {
      "needs_background": "light"
     },
     "output_type": "display_data"
    },
    {
     "data": {
      "image/png": "[encoded data removed]",
      "text/plain": [
       "<Figure size 432x288 with 1 Axes>"
      ]
     },
     "metadata": {
      "needs_background": "light"
     },
     "output_type": "display_data"
    },
    {
     "data": {
      "image/png": "[encoded data removed]",
      "text/plain": [
       "<Figure size 432x288 with 1 Axes>"
      ]
     },
     "metadata": {
      "needs_background": "light"
     },
     "output_type": "display_data"
    }
   ],
   "source": [
    "for col in clients_behavior_smart.columns:\n",
    "    sns.histplot(clients_behavior_smart[col], kde = True, color='#8EF9F3', bins=20, label='smart') # голубой\n",
    "    plt.title('Распределение '+col+' на пользователя', fontsize=14)\n",
    "    plt.axvline(clients_behavior_smart[col].median(),linestyle = '--', color = '#FF1493', label = 'median_smart')\n",
    "    plt.axvline(clients_behavior_smart[col].mean(),linestyle = '--', color = '#FEEA00', label = 'mean_smart')\n",
    "    plt.axvline(clients_behavior_smart[col].quantile(0.1),linestyle = '--', color = '#ff99cf', label = '1%_smart')\n",
    "    plt.axvline(clients_behavior_smart[col].quantile(0.99),linestyle = '--', color = '#ff99cf', label = '99%_smart')\n",
    "    plt.legend(bbox_to_anchor=(1, 0.6))\n",
    "    \n",
    "    sns.histplot(clients_behavior_ultra[col], kde = True,  color='#5EFC8D', bins=20, label='ultra') # зеленый\n",
    "    plt.axvline(clients_behavior_ultra[col].median(),linestyle = '-.', color = '#D00000', label = 'median_ultra')\n",
    "    plt.axvline(clients_behavior_ultra[col].mean(),linestyle = '-.', color = '#8377D1', label = 'mean_ultra')\n",
    "    plt.axvline(clients_behavior_ultra[col].quantile(0.1),linestyle = '-.', color = '#025019', label = '1%_ultra')\n",
    "    plt.axvline(clients_behavior_ultra[col].quantile(0.99),linestyle = '-.', color = '#025019', label = '99%_ultra')\n",
    "    plt.legend(bbox_to_anchor=(1, 0.6))\n",
    "    \n",
    "    plt.show()\n"
   ]
  },
  {
   "cell_type": "code",
   "execution_count": 24,
   "id": "110d1139",
   "metadata": {},
   "outputs": [],
   "source": [
    "# Распределение по месяцам\n",
    "clients_behavior_month = df.query('total_duration != 0').pivot_table(index=['month', 'user_id'], values=['id_tariff','total_duration', 'total_gb_used', 'message_count', 'total_income'])\n",
    "clients_behavior_month_smart = clients_behavior.query('id_tariff == 0 ').pivot_table(index=['month'], values=['id_tariff','total_duration', 'total_gb_used', 'message_count', 'total_income'], aggfunc='mean').drop(labels='id_tariff', axis = 1)\n",
    "clients_behavior_month_ultra = clients_behavior.query('id_tariff == 1').pivot_table(index=['month'], values=['id_tariff','total_duration', 'total_gb_used', 'message_count', 'total_income'], aggfunc='mean').drop(labels='id_tariff', axis = 1)"
   ]
  },
  {
   "cell_type": "code",
   "execution_count": 25,
   "id": "f065080d",
   "metadata": {},
   "outputs": [
    {
     "data": {
      "text/plain": [
       "Index(['message_count', 'total_duration', 'total_gb_used', 'total_income'], dtype='object')"
      ]
     },
     "execution_count": 25,
     "metadata": {},
     "output_type": "execute_result"
    }
   ],
   "source": [
    "clients_behavior_month_smart.columns"
   ]
  },
  {
   "cell_type": "code",
   "execution_count": 57,
   "id": "11d6b9e1",
   "metadata": {
    "scrolled": true
   },
   "outputs": [
    {
     "data": {
      "image/png": "[encoded data removed]",
      "text/plain": [
       "<Figure size 864x504 with 1 Axes>"
      ]
     },
     "metadata": {
      "needs_background": "light"
     },
     "output_type": "display_data"
    },
    {
     "data": {
      "image/png": "[encoded data removed]",
      "text/plain": [
       "<Figure size 864x504 with 1 Axes>"
      ]
     },
     "metadata": {
      "needs_background": "light"
     },
     "output_type": "display_data"
    },
    {
     "data": {
      "image/png": "[encoded data removed]",
      "text/plain": [
       "<Figure size 864x504 with 1 Axes>"
      ]
     },
     "metadata": {
      "needs_background": "light"
     },
     "output_type": "display_data"
    },
    {
     "data": {
      "image/png": "[encoded data removed]",
      "text/plain": [
       "<Figure size 864x504 with 1 Axes>"
      ]
     },
     "metadata": {
      "needs_background": "light"
     },
     "output_type": "display_data"
    }
   ],
   "source": [
    "for column in clients_behavior_month_smart.columns:\n",
    "    plt.figure(figsize = (12,7))\n",
    "    plt.title('Распределение '+column+' по месяцам')\n",
    "    plt.plot(clients_behavior_month_smart[column], color = '#8EF9F3', label='smart')\n",
    "    plt.plot(clients_behavior_month_ultra[column], color = '#5EFC8D', label='ultra')\n",
    "    plt.legend()\n",
    "    plt.xlabel('Месяцы')\n",
    "    plt.grid()\n",
    "    plt.show()"
   ]
  },
  {
   "cell_type": "code",
   "execution_count": 27,
   "id": "042a73ab",
   "metadata": {},
   "outputs": [
    {
     "data": {
      "text/html": [
       "<div>\n",
       "<style scoped>\n",
       "    .dataframe tbody tr th:only-of-type {\n",
       "        vertical-align: middle;\n",
       "    }\n",
       "\n",
       "    .dataframe tbody tr th {\n",
       "        vertical-align: top;\n",
       "    }\n",
       "\n",
       "    .dataframe thead th {\n",
       "        text-align: right;\n",
       "    }\n",
       "</style>\n",
       "<table border=\"1\" class=\"dataframe\">\n",
       "  <thead>\n",
       "    <tr style=\"text-align: right;\">\n",
       "      <th></th>\n",
       "      <th>count</th>\n",
       "      <th>mean</th>\n",
       "      <th>std</th>\n",
       "      <th>min</th>\n",
       "      <th>25%</th>\n",
       "      <th>50%</th>\n",
       "      <th>75%</th>\n",
       "      <th>max</th>\n",
       "    </tr>\n",
       "  </thead>\n",
       "  <tbody>\n",
       "    <tr>\n",
       "      <th>total_income_smart</th>\n",
       "      <td>2229.0</td>\n",
       "      <td>1289.973531</td>\n",
       "      <td>818.404367</td>\n",
       "      <td>550.0</td>\n",
       "      <td>550.0</td>\n",
       "      <td>1023.0</td>\n",
       "      <td>1750.0</td>\n",
       "      <td>6770.0</td>\n",
       "    </tr>\n",
       "    <tr>\n",
       "      <th>total_income_ultra</th>\n",
       "      <td>985.0</td>\n",
       "      <td>2070.152284</td>\n",
       "      <td>376.187114</td>\n",
       "      <td>1950.0</td>\n",
       "      <td>1950.0</td>\n",
       "      <td>1950.0</td>\n",
       "      <td>1950.0</td>\n",
       "      <td>4800.0</td>\n",
       "    </tr>\n",
       "  </tbody>\n",
       "</table>\n",
       "</div>"
      ],
      "text/plain": [
       "                     count         mean         std     min     25%     50%  \\\n",
       "total_income_smart  2229.0  1289.973531  818.404367   550.0   550.0  1023.0   \n",
       "total_income_ultra   985.0  2070.152284  376.187114  1950.0  1950.0  1950.0   \n",
       "\n",
       "                       75%     max  \n",
       "total_income_smart  1750.0  6770.0  \n",
       "total_income_ultra  1950.0  4800.0  "
      ]
     },
     "execution_count": 27,
     "metadata": {},
     "output_type": "execute_result"
    }
   ],
   "source": [
    "stat_ultra = pd.DataFrame(clients_behavior_ultra.describe())\n",
    "stat_smart = pd.DataFrame(clients_behavior_smart.describe())\n",
    "stat = stat_smart.join(stat_ultra, how='outer', lsuffix='_smart', rsuffix='_ultra').T\n",
    "\n",
    "stat[stat.index.isin(['total_income_smart', 'total_income_ultra'])]"
   ]
  },
  {
   "cell_type": "code",
   "execution_count": 28,
   "id": "f8fb0018",
   "metadata": {},
   "outputs": [
    {
     "data": {
      "text/html": [
       "<div>\n",
       "<style scoped>\n",
       "    .dataframe tbody tr th:only-of-type {\n",
       "        vertical-align: middle;\n",
       "    }\n",
       "\n",
       "    .dataframe tbody tr th {\n",
       "        vertical-align: top;\n",
       "    }\n",
       "\n",
       "    .dataframe thead th {\n",
       "        text-align: right;\n",
       "    }\n",
       "</style>\n",
       "<table border=\"1\" class=\"dataframe\">\n",
       "  <thead>\n",
       "    <tr style=\"text-align: right;\">\n",
       "      <th></th>\n",
       "      <th>count</th>\n",
       "      <th>mean</th>\n",
       "      <th>std</th>\n",
       "      <th>min</th>\n",
       "      <th>25%</th>\n",
       "      <th>50%</th>\n",
       "      <th>75%</th>\n",
       "      <th>max</th>\n",
       "    </tr>\n",
       "  </thead>\n",
       "  <tbody>\n",
       "    <tr>\n",
       "      <th>message_count_smart</th>\n",
       "      <td>2229.0</td>\n",
       "      <td>33.384029</td>\n",
       "      <td>28.227876</td>\n",
       "      <td>0.0</td>\n",
       "      <td>10.0</td>\n",
       "      <td>28.0</td>\n",
       "      <td>51.0</td>\n",
       "      <td>143.0</td>\n",
       "    </tr>\n",
       "    <tr>\n",
       "      <th>total_duration_smart</th>\n",
       "      <td>2229.0</td>\n",
       "      <td>417.934948</td>\n",
       "      <td>190.313730</td>\n",
       "      <td>0.0</td>\n",
       "      <td>282.0</td>\n",
       "      <td>422.0</td>\n",
       "      <td>545.0</td>\n",
       "      <td>1435.0</td>\n",
       "    </tr>\n",
       "    <tr>\n",
       "      <th>total_gb_used_smart</th>\n",
       "      <td>2229.0</td>\n",
       "      <td>16.328847</td>\n",
       "      <td>5.747061</td>\n",
       "      <td>0.0</td>\n",
       "      <td>13.0</td>\n",
       "      <td>17.0</td>\n",
       "      <td>20.0</td>\n",
       "      <td>38.0</td>\n",
       "    </tr>\n",
       "    <tr>\n",
       "      <th>total_income_smart</th>\n",
       "      <td>2229.0</td>\n",
       "      <td>1289.973531</td>\n",
       "      <td>818.404367</td>\n",
       "      <td>550.0</td>\n",
       "      <td>550.0</td>\n",
       "      <td>1023.0</td>\n",
       "      <td>1750.0</td>\n",
       "      <td>6770.0</td>\n",
       "    </tr>\n",
       "    <tr>\n",
       "      <th>message_count_ultra</th>\n",
       "      <td>985.0</td>\n",
       "      <td>49.363452</td>\n",
       "      <td>47.804457</td>\n",
       "      <td>0.0</td>\n",
       "      <td>6.0</td>\n",
       "      <td>38.0</td>\n",
       "      <td>79.0</td>\n",
       "      <td>224.0</td>\n",
       "    </tr>\n",
       "    <tr>\n",
       "      <th>total_duration_ultra</th>\n",
       "      <td>985.0</td>\n",
       "      <td>526.623350</td>\n",
       "      <td>317.606098</td>\n",
       "      <td>0.0</td>\n",
       "      <td>284.0</td>\n",
       "      <td>518.0</td>\n",
       "      <td>752.0</td>\n",
       "      <td>1673.0</td>\n",
       "    </tr>\n",
       "    <tr>\n",
       "      <th>total_gb_used_ultra</th>\n",
       "      <td>985.0</td>\n",
       "      <td>19.494416</td>\n",
       "      <td>9.853511</td>\n",
       "      <td>0.0</td>\n",
       "      <td>12.0</td>\n",
       "      <td>19.0</td>\n",
       "      <td>27.0</td>\n",
       "      <td>49.0</td>\n",
       "    </tr>\n",
       "    <tr>\n",
       "      <th>total_income_ultra</th>\n",
       "      <td>985.0</td>\n",
       "      <td>2070.152284</td>\n",
       "      <td>376.187114</td>\n",
       "      <td>1950.0</td>\n",
       "      <td>1950.0</td>\n",
       "      <td>1950.0</td>\n",
       "      <td>1950.0</td>\n",
       "      <td>4800.0</td>\n",
       "    </tr>\n",
       "  </tbody>\n",
       "</table>\n",
       "</div>"
      ],
      "text/plain": [
       "                       count         mean         std     min     25%     50%  \\\n",
       "message_count_smart   2229.0    33.384029   28.227876     0.0    10.0    28.0   \n",
       "total_duration_smart  2229.0   417.934948  190.313730     0.0   282.0   422.0   \n",
       "total_gb_used_smart   2229.0    16.328847    5.747061     0.0    13.0    17.0   \n",
       "total_income_smart    2229.0  1289.973531  818.404367   550.0   550.0  1023.0   \n",
       "message_count_ultra    985.0    49.363452   47.804457     0.0     6.0    38.0   \n",
       "total_duration_ultra   985.0   526.623350  317.606098     0.0   284.0   518.0   \n",
       "total_gb_used_ultra    985.0    19.494416    9.853511     0.0    12.0    19.0   \n",
       "total_income_ultra     985.0  2070.152284  376.187114  1950.0  1950.0  1950.0   \n",
       "\n",
       "                         75%     max  \n",
       "message_count_smart     51.0   143.0  \n",
       "total_duration_smart   545.0  1435.0  \n",
       "total_gb_used_smart     20.0    38.0  \n",
       "total_income_smart    1750.0  6770.0  \n",
       "message_count_ultra     79.0   224.0  \n",
       "total_duration_ultra   752.0  1673.0  \n",
       "total_gb_used_ultra     27.0    49.0  \n",
       "total_income_ultra    1950.0  4800.0  "
      ]
     },
     "execution_count": 28,
     "metadata": {},
     "output_type": "execute_result"
    }
   ],
   "source": [
    "stat"
   ]
  },
  {
   "cell_type": "code",
   "execution_count": 29,
   "id": "b918850a",
   "metadata": {},
   "outputs": [
    {
     "data": {
      "text/plain": [
       "Index(['message_count', 'total_duration', 'total_gb_used', 'total_income'], dtype='object')"
      ]
     },
     "execution_count": 29,
     "metadata": {},
     "output_type": "execute_result"
    }
   ],
   "source": [
    "clients_behavior_smart.columns"
   ]
  },
  {
   "cell_type": "code",
   "execution_count": 30,
   "id": "130068b4",
   "metadata": {},
   "outputs": [
    {
     "name": "stdout",
     "output_type": "stream",
     "text": [
      "499.0\n"
     ]
    },
    {
     "data": {
      "text/plain": [
       "1291.12"
      ]
     },
     "execution_count": 30,
     "metadata": {},
     "output_type": "execute_result"
    }
   ],
   "source": [
    "print(clients_behavior_smart['total_duration'].quantile(0.66))\n",
    "clients_behavior_ultra['total_duration'].quantile(0.99)"
   ]
  },
  {
   "cell_type": "code",
   "execution_count": 31,
   "id": "f5d15da3",
   "metadata": {},
   "outputs": [
    {
     "name": "stdout",
     "output_type": "stream",
     "text": [
      "15.0\n"
     ]
    },
    {
     "data": {
      "text/plain": [
       "48.90159999999992"
      ]
     },
     "execution_count": 31,
     "metadata": {},
     "output_type": "execute_result"
    }
   ],
   "source": [
    "print(clients_behavior_smart['total_gb_used'].quantile(0.4))\n",
    "clients_behavior_ultra['total_gb_used'].quantile(0.9999)"
   ]
  },
  {
   "cell_type": "code",
   "execution_count": 32,
   "id": "dc738e0f",
   "metadata": {},
   "outputs": [
    {
     "name": "stdout",
     "output_type": "stream",
     "text": [
      "74.56\n",
      "86.4\n"
     ]
    }
   ],
   "source": [
    "# Количество пользователей smart, которые переплачивают за тарифы\n",
    "print(100 - round((len(clients_behavior_smart.query('total_income == 550'))/len(clients_behavior_smart))*100, 2))\n",
    "# Те, кто пользуется услугами в тамках тарифа ультра\n",
    "print(round((len(clients_behavior_ultra.query('total_income == 1950'))/len(clients_behavior_ultra))*100, 2))"
   ]
  },
  {
   "cell_type": "code",
   "execution_count": 46,
   "id": "3c30d9af",
   "metadata": {},
   "outputs": [
    {
     "data": {
      "text/plain": [
       "89424.78"
      ]
     },
     "execution_count": 46,
     "metadata": {},
     "output_type": "execute_result"
    }
   ],
   "source": [
    "round((df.query('tariff ==\"smart\"')['total_income'].sum()/len(df))*100, 2)"
   ]
  },
  {
   "cell_type": "code",
   "execution_count": 56,
   "id": "3465010d",
   "metadata": {},
   "outputs": [
    {
     "name": "stdout",
     "output_type": "stream",
     "text": [
      "Доля выручки тарифа  smart: 58.49 %\n",
      "Доля выручки тарифа  ultra: 41.51 %\n"
     ]
    }
   ],
   "source": [
    "print('Доля выручки тарифа  smart:', round(((df.query('tariff ==\"smart\"')['total_income'].sum())/(df['total_income'].sum()))*100, 2), '%')\n",
    "print('Доля выручки тарифа  ultra:', round(((df.query('tariff ==\"ultra\"')['total_income'].sum())/(df['total_income'].sum()))*100, 2), '%')"
   ]
  },
  {
   "cell_type": "code",
   "execution_count": 33,
   "id": "e3e3ed8a",
   "metadata": {
    "scrolled": true
   },
   "outputs": [
    {
     "data": {
      "text/plain": [
       "<AxesSubplot:>"
      ]
     },
     "execution_count": 33,
     "metadata": {},
     "output_type": "execute_result"
    },
    {
     "data": {
      "image/png": "[encoded data removed]",
      "text/plain": [
       "<Figure size 432x288 with 2 Axes>"
      ]
     },
     "metadata": {
      "needs_background": "light"
     },
     "output_type": "display_data"
    }
   ],
   "source": [
    "sns.heatmap(clients_behavior_smart.corr(), cmap=\"coolwarm\", annot=True, vmin=-1, vmax=1)"
   ]
  },
  {
   "cell_type": "code",
   "execution_count": 34,
   "id": "77102867",
   "metadata": {},
   "outputs": [
    {
     "data": {
      "text/plain": [
       "<AxesSubplot:>"
      ]
     },
     "execution_count": 34,
     "metadata": {},
     "output_type": "execute_result"
    },
    {
     "data": {
      "image/png": "[encoded data removed]",
      "text/plain": [
       "<Figure size 432x288 with 2 Axes>"
      ]
     },
     "metadata": {
      "needs_background": "light"
     },
     "output_type": "display_data"
    }
   ],
   "source": [
    "sns.heatmap(clients_behavior_ultra.corr(), cmap=\"coolwarm\", annot=True, vmin=-1, vmax=1)"
   ]
  },
  {
   "cell_type": "markdown",
   "id": "0732b988",
   "metadata": {},
   "source": [
    "Выводы:\n",
    "\n",
    "- по корреляции видно, что больше всего на прибыль влияет количество использованных Гб для обоих тарифов, для smart коэффициент корреляции больше (0.85 vs 0.62), на прибыль от тарифа смарт влияет также продолжительность разговора (коэффициент корреляции 0.42)\n",
    "\n",
    "\n",
    "- среднее количество отправленных сообщений у тарифа Ультра растёт в течение года, но при этом не достигает даже половины от включённых в тариф (60 на пике vs 1000 в тарифе). Пики для обоих тарифов в нуле, заметим, что у 50 сообщений (границы включённых в тариф) наблюдается пик. Максимального порогового значения включённых в тариф Ультра сообщений - 1000 штук - нет, максимально отправленное пользователем - 244 сообщения.\n",
    "\n",
    "\n",
    "- в среднем в течение года пользователей тарифа смарт не превышали лимита (66%), 34% доплачивают ли за дополнительные минуты. Из пользователей Ультра никто не наговорил 3000 минут, заложенных тариф, в половину тарифа уложились почти все пользователи. Заметим, что медианная продолжительность разговора за месяц пользователей тарифа Ультра (529 мин) больше пользователей тарифа смарт (423 мин). Думаю, это связано с ограничением Смарт в 500 минут.\n",
    "\n",
    "\n",
    "- среднее значение использованных гигабайт в месяц у пользователей тарифа  Ультра больше, чем у пользователей smart. Значительно снижены показатели израсходованного трафика в январе-феврале у обоих тарифов. Заметим, что ограничение в 15 ГБ для пользователей тарифа смарт мало: в 8 из 12 месяцев среднее значение израсходованного трафика по пользователям превышает 15 ГБ - всего 40% пользователей укладываются в тариф. При этом 99% пользователей тарифа Ультра не превышает лимит в течение года.\n",
    "\n",
    "\n",
    "- тариф Ультра приносит компании больше прибыли, однако за счет ограничений тарифа Смарт и высокого ценника за переплату медианное значение платежа пользователя тарифа смарт почти в два раза больше заявленной стоимости тарифа. 74,16% пользователей тарифа смарт переплачивают по тарифу. Думаю, компании необходимо разработать еще один тариф, который будет включать больше ГБ и соответственно стоить дороже, чем тариф смарт. Думаю, что так же большая часть пользователей будет переплачивать за тариф, тк потребности в количестве гб только растет (исходя из графиков распределения Гб по месяцам)"
   ]
  },
  {
   "cell_type": "markdown",
   "id": "aeaa8488",
   "metadata": {},
   "source": [
    "## 4. Проверка гипотез <a id=\"step4\"></a>   \n",
    "</div>"
   ]
  },
  {
   "cell_type": "markdown",
   "id": "9db43eab",
   "metadata": {},
   "source": [
    "### H0: Средняя выручка пользователей тарифов равна\n",
    "H1: Средняя выручка пользователей тарифов разная\n",
    "\n",
    "Уровень значимости: 1%"
   ]
  },
  {
   "cell_type": "code",
   "execution_count": 35,
   "id": "e5f9aa15",
   "metadata": {},
   "outputs": [
    {
     "name": "stdout",
     "output_type": "stream",
     "text": [
      "p-значение:  1.927011394420941e-250\n",
      "Отвергаем нулевую гипотезу\n",
      "Средняя выручка тарифа \"ultra\":  1950.0\n",
      "Средняя выручка тарифа \"smart\":  1021.0\n"
     ]
    }
   ],
   "source": [
    "ultra = df.query('tariff == \"ultra\"')['total_income']\n",
    "smart = df.query('tariff == \"smart\"')['total_income']\n",
    "\n",
    "alpha = .01\n",
    "\n",
    "results = st.ttest_ind(smart, ultra, equal_var=False)\n",
    "\n",
    "print('p-значение: ', results.pvalue)\n",
    "if results.pvalue < alpha:\n",
    "    print('Отвергаем нулевую гипотезу')\n",
    "else: print('Не получилось отвергнуть нулевую гипотезу')\n",
    "    \n",
    "print('Средняя выручка тарифа \"ultra\": ', ultra.median())\n",
    "print('Средняя выручка тарифа \"smart\": ', smart.median())"
   ]
  },
  {
   "cell_type": "markdown",
   "id": "b3fd152d",
   "metadata": {},
   "source": [
    "### H0: Средняя выручка пользователей из разных городов тарифов равна\n",
    "H1: средняя выручка пользователей из Москвы отличается от выручки пользователей из других регионов \n",
    "\n",
    "Уровень значимости: 1%"
   ]
  },
  {
   "cell_type": "code",
   "execution_count": 36,
   "id": "1795d6d1",
   "metadata": {},
   "outputs": [
    {
     "name": "stdout",
     "output_type": "stream",
     "text": [
      "p-значение:  0.5216952110000278\n",
      "Не получилось отвергнуть нулевую гипотезу\n",
      "Средняя выручка регионов:  1583.0\n",
      "Средняя выручка Москвы:  1750.0\n"
     ]
    }
   ],
   "source": [
    "moscow = df.query('city == \"Москва\"')['total_income']\n",
    "regions = df.query('city != \"Москва\"')['total_income']\n",
    "\n",
    "alpha = .01\n",
    "\n",
    "results = st.ttest_ind(regions, moscow, equal_var=False)\n",
    "\n",
    "print('p-значение: ', results.pvalue)\n",
    "if results.pvalue < alpha:\n",
    "    print('Отвергаем нулевую гипотезу')\n",
    "else: print('Не получилось отвергнуть нулевую гипотезу')\n",
    "    \n",
    "print('Средняя выручка регионов: ', regions.median())\n",
    "print('Средняя выручка Москвы: ', moscow.median())"
   ]
  },
  {
   "cell_type": "markdown",
   "id": "655db5cc",
   "metadata": {},
   "source": [
    "Использовали гипотезу о равенстве средних двух генеральных совокупностей:\n",
    "- генеральные совокупности не зависят друг от друга\n",
    "- выборочные средние совокупностей всегда распределены нормально воккруг истинного среднего этой совокупности\n",
    "- значение альфа взяли равной 1%, так как при таком значении вероятности событие уже можно считать неслучайным для такой не сильно большой выборки.\n",
    "\n",
    "**Вывод**\n",
    "- средняя выручка пользователей из Москвы отличается от выручки пользователей из других регионов\n",
    "- средняя выручка пользователей тарифов smart и ultra разная"
   ]
  },
  {
   "cell_type": "markdown",
   "id": "34bacf43",
   "metadata": {},
   "source": [
    "## 5. Вывод <a id=\"step5\"></a>   \n",
    "</div>"
   ]
  },
  {
   "cell_type": "markdown",
   "id": "51e2db1d",
   "metadata": {},
   "source": [
    "На этапе обработки данных были изменены типы данных, сведен общий датасет, на основе которого был произведен анализ:\n",
    "\n",
    "Больше всего на прибыль влияет количество использованных Гб для обоих тарифов, для smart коэффициент корреляции больше (0.85 vs 0.62), на прибыль от тарифа смарт влияет также продолжительность разговора (коэффициент корреляции 0.42)\n",
    "\n",
    "Тариф Ультра приносит компании больше стабильной прибыли, однако за счет ограничений тарифа Смарт и высокого ценника за переплату медианное значение платежа пользователя тарифа смарт почти в два раза больше заявленной стоимости тарифа. 74,16% пользователей тарифа смарт переплачивают по тарифу. Думаю, компании необходимо разработать еще один тариф, который будет включать больше ГБ и соответственно стоить дороже, чем тариф смарт, или изменить ценообразование тарифа смарт: включить больше гб и повысить стоимость - но есть риск оттока клиентов. При создании нового тарифа думаю, что так же большая часть пользователей будет переплачивать за тариф, тк потребности в количестве гб только растет (исходя из графиков распределения Гб по месяцам).\n",
    "\n",
    "Итоги анализа тарифного плана оператора: \n",
    "\n",
    "- Среднее количество отправленных сообщений у тарифа Ультра растёт в течение года, но при этом не достигает даже половины от включённых в тариф (60 на пике vs 1000 в тарифе). Пики для обоих тарифов в нуле, заметим, что у 50 сообщений (границы включённых в тариф) наблюдается пик. Максимального порогового значения включённых в тариф Ультра сообщений - 1000 штук - нет, максимально отправленное пользователем - 244 сообщения.\n",
    "\n",
    "\n",
    "- в среднем в течение года пользователей тарифа смарт не превышали лимита (66%), 34% доплачивают ли за дополнительные минуты. Из пользователей Ультра никто не наговорил 3000 минут, заложенных тариф, в половину тарифа уложились почти все пользователи. Заметим, что медианная продолжительность разговора за месяц пользователей тарифа Ультра (529 мин) больше пользователей тарифа смарт (423 мин). Думаю, это связано с ограничением Смарт в 500 минут.\n",
    "\n",
    "\n",
    "- среднее значение использованных гигабайт в месяц у пользователей тарифа Ультра больше, чем у пользователей smart. Значительно снижены показатели израсходованного трафика в январе-феврале у обоих тарифов. Заметим, что ограничение в 15 ГБ для пользователей тарифа смарт мало: в 8 из 12 месяцев среднее значение израсходованного трафика по пользователям превышает 15 ГБ - всего 40% пользователей укладываются в тариф. При этом 99% пользователей тарифа Ультра не превышает лимит в течение года.\n",
    "\n",
    "\n",
    "Отвечая на вопрос какой тариф лучше, могу сказать, что с точки зрения компании тариф ultra приносит постоянную долю выручки, в отличие от тарифа smart - по графику распределения средней прибыли по месяцам видно, что прибыль распределена в течение года неравномерно. \n",
    "\n",
    "Гипотезы, которые выдвигались в начале исследования:\n",
    "\n",
    "- средняя выручка пользователей из Москвы отличается от выручки пользователей из других регионов\n",
    "- средняя выручка пользователей тарифов smart и ultra разная"
   ]
  }
 ],
 "metadata": {
  "ExecuteTimeLog": [
   {
    "duration": 2333,
    "start_time": "2022-03-28T08:07:32.628Z"
   },
   {
    "duration": 430,
    "start_time": "2022-03-28T08:07:34.963Z"
   },
   {
    "duration": 266,
    "start_time": "2022-03-28T08:07:35.395Z"
   },
   {
    "duration": 2447,
    "start_time": "2022-03-28T08:07:35.664Z"
   },
   {
    "duration": 22,
    "start_time": "2022-03-28T08:07:38.112Z"
   },
   {
    "duration": 107,
    "start_time": "2022-03-28T08:07:38.137Z"
   },
   {
    "duration": 14,
    "start_time": "2022-03-28T08:07:38.246Z"
   },
   {
    "duration": 24,
    "start_time": "2022-03-28T08:07:38.262Z"
   },
   {
    "duration": 19,
    "start_time": "2022-03-28T08:07:38.288Z"
   },
   {
    "duration": 152,
    "start_time": "2022-03-28T08:07:38.310Z"
   },
   {
    "duration": 45,
    "start_time": "2022-03-28T08:07:38.464Z"
   },
   {
    "duration": 6,
    "start_time": "2022-03-28T08:07:38.512Z"
   },
   {
    "duration": 1788,
    "start_time": "2022-03-28T08:07:38.520Z"
   },
   {
    "duration": 34,
    "start_time": "2022-03-28T08:07:40.310Z"
   },
   {
    "duration": 36,
    "start_time": "2022-03-28T08:07:40.347Z"
   },
   {
    "duration": 3747,
    "start_time": "2022-03-28T08:07:40.386Z"
   },
   {
    "duration": 9,
    "start_time": "2022-03-28T08:07:44.135Z"
   },
   {
    "duration": 43,
    "start_time": "2022-03-28T08:07:44.146Z"
   },
   {
    "duration": 2149,
    "start_time": "2022-03-28T08:07:44.191Z"
   },
   {
    "duration": 74,
    "start_time": "2022-03-28T08:07:46.343Z"
   },
   {
    "duration": 504,
    "start_time": "2022-03-28T08:07:46.420Z"
   },
   {
    "duration": 483,
    "start_time": "2022-03-28T08:07:46.927Z"
   },
   {
    "duration": 17,
    "start_time": "2022-03-28T08:07:47.412Z"
   },
   {
    "duration": 15,
    "start_time": "2022-03-28T08:07:47.431Z"
   },
   {
    "duration": 18,
    "start_time": "2022-03-28T08:10:34.021Z"
   },
   {
    "duration": 2097,
    "start_time": "2022-03-28T08:17:22.702Z"
   },
   {
    "duration": 455,
    "start_time": "2022-03-28T08:17:24.801Z"
   },
   {
    "duration": 302,
    "start_time": "2022-03-28T08:17:25.259Z"
   },
   {
    "duration": 2543,
    "start_time": "2022-03-28T08:17:25.563Z"
   },
   {
    "duration": 24,
    "start_time": "2022-03-28T08:17:28.109Z"
   },
   {
    "duration": 101,
    "start_time": "2022-03-28T08:17:28.136Z"
   },
   {
    "duration": 11,
    "start_time": "2022-03-28T08:17:28.240Z"
   },
   {
    "duration": 5,
    "start_time": "2022-03-28T08:17:28.254Z"
   },
   {
    "duration": 13,
    "start_time": "2022-03-28T08:17:28.284Z"
   },
   {
    "duration": 166,
    "start_time": "2022-03-28T08:17:28.299Z"
   },
   {
    "duration": 44,
    "start_time": "2022-03-28T08:17:28.468Z"
   },
   {
    "duration": 6,
    "start_time": "2022-03-28T08:17:28.514Z"
   },
   {
    "duration": 1869,
    "start_time": "2022-03-28T08:17:28.523Z"
   },
   {
    "duration": 33,
    "start_time": "2022-03-28T08:17:30.397Z"
   },
   {
    "duration": 13,
    "start_time": "2022-03-28T08:17:30.433Z"
   },
   {
    "duration": 3452,
    "start_time": "2022-03-28T08:17:30.449Z"
   },
   {
    "duration": 9,
    "start_time": "2022-03-28T08:17:33.903Z"
   },
   {
    "duration": 28,
    "start_time": "2022-03-28T08:17:33.915Z"
   },
   {
    "duration": 2479,
    "start_time": "2022-03-28T08:17:33.945Z"
   },
   {
    "duration": 68,
    "start_time": "2022-03-28T08:17:36.427Z"
   },
   {
    "duration": 459,
    "start_time": "2022-03-28T08:17:36.497Z"
   },
   {
    "duration": 465,
    "start_time": "2022-03-28T08:17:36.959Z"
   },
   {
    "duration": 17,
    "start_time": "2022-03-28T08:17:37.427Z"
   },
   {
    "duration": 42,
    "start_time": "2022-03-28T08:17:37.447Z"
   },
   {
    "duration": 2148,
    "start_time": "2022-03-28T08:18:29.245Z"
   },
   {
    "duration": 461,
    "start_time": "2022-03-28T08:18:31.396Z"
   },
   {
    "duration": 288,
    "start_time": "2022-03-28T08:18:31.859Z"
   },
   {
    "duration": 2360,
    "start_time": "2022-03-28T08:18:32.151Z"
   },
   {
    "duration": 24,
    "start_time": "2022-03-28T08:18:34.513Z"
   },
   {
    "duration": 95,
    "start_time": "2022-03-28T08:18:34.540Z"
   },
   {
    "duration": 11,
    "start_time": "2022-03-28T08:18:34.637Z"
   },
   {
    "duration": 33,
    "start_time": "2022-03-28T08:18:34.650Z"
   },
   {
    "duration": 29,
    "start_time": "2022-03-28T08:18:34.686Z"
   },
   {
    "duration": 151,
    "start_time": "2022-03-28T08:18:34.719Z"
   },
   {
    "duration": 36,
    "start_time": "2022-03-28T08:18:34.873Z"
   },
   {
    "duration": 7,
    "start_time": "2022-03-28T08:18:34.911Z"
   },
   {
    "duration": 1788,
    "start_time": "2022-03-28T08:18:34.920Z"
   },
   {
    "duration": 32,
    "start_time": "2022-03-28T08:18:36.711Z"
   },
   {
    "duration": 18,
    "start_time": "2022-03-28T08:18:36.745Z"
   },
   {
    "duration": 3369,
    "start_time": "2022-03-28T08:18:36.785Z"
   },
   {
    "duration": 10,
    "start_time": "2022-03-28T08:18:40.157Z"
   },
   {
    "duration": 24,
    "start_time": "2022-03-28T08:18:40.185Z"
   },
   {
    "duration": 2431,
    "start_time": "2022-03-28T08:18:40.211Z"
   },
   {
    "duration": 65,
    "start_time": "2022-03-28T08:18:42.644Z"
   },
   {
    "duration": 507,
    "start_time": "2022-03-28T08:18:42.712Z"
   },
   {
    "duration": 498,
    "start_time": "2022-03-28T08:18:43.222Z"
   },
   {
    "duration": 18,
    "start_time": "2022-03-28T08:18:43.723Z"
   },
   {
    "duration": 42,
    "start_time": "2022-03-28T08:18:43.743Z"
   }
  ],
  "kernelspec": {
   "display_name": "Python 3 (ipykernel)",
   "language": "python",
   "name": "python3"
  },
  "language_info": {
   "codemirror_mode": {
    "name": "ipython",
    "version": 3
   },
   "file_extension": ".py",
   "mimetype": "text/x-python",
   "name": "python",
   "nbconvert_exporter": "python",
   "pygments_lexer": "ipython3",
   "version": "3.9.7"
  },
  "toc": {
   "base_numbering": 1,
   "nav_menu": {},
   "number_sections": true,
   "sideBar": true,
   "skip_h1_title": true,
   "title_cell": "Table of Contents",
   "title_sidebar": "Contents",
   "toc_cell": false,
   "toc_position": {},
   "toc_section_display": true,
   "toc_window_display": false
  }
 },
 "nbformat": 4,
 "nbformat_minor": 5
}
