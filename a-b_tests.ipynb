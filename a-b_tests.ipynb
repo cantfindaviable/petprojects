{
 "cells": [
  {
   "cell_type": "markdown",
   "id": "6b02a3d2",
   "metadata": {},
   "source": [
    "# Приотизация гипотез. Анализ A/B теста"
   ]
  },
  {
   "cell_type": "markdown",
   "id": "2c8329fc",
   "metadata": {},
   "source": [
    "Вы — аналитик крупного интернет-магазина. Вместе с отделом маркетинга вы\n",
    "подготовили список гипотез для увеличения выручки.\n",
    "Приоритизируйте гипотезы, запустите A/B-тест и проанализируйте результаты.\n",
    "\n",
    "## Описание данных\n",
    "### Данные для первой части\n",
    "Файл  /datasets/hypothesis.csv\n",
    "\n",
    "- Hypothesis  — краткое описание гипотезы;\n",
    "- Reach  — охват пользователей по 10-балльной шкале;\n",
    "- Impact  — влияние на пользователей по 10-балльной шкале;\n",
    "- Confidence  — уверенность в гипотезе по 10-балльной шкале;\n",
    "- Efforts  — затраты ресурсов на проверку гипотезы по 10-балльной шкале. Чем\n",
    "больше значение  Efforts , тем дороже проверка гипотезы.\n",
    "\n",
    "### Данные для второй части\n",
    "Файл  /datasets/orders.csv\n",
    "\n",
    "- transactionId  — идентификатор заказа;\n",
    "- visitorId  — идентификатор пользователя, совершившего заказ;\n",
    "- date  — дата, когда был совершён заказ;\n",
    "- revenue  — выручка заказа;\n",
    "- group  — группа A/B-теста, в которую попал заказ.\n",
    "\n",
    "Файл  /datasets/visitors.csv\n",
    "- date  — дата;\n",
    "- group  — группа A/B-теста;\n",
    "- visitors  — количество пользователей в указанную дату в указанной группе\n",
    "A/B-теста\n",
    "\n",
    "\n",
    "## Часть 1. Приоритизация гипотез.\n",
    "В файле  hypothesis.csv  9 гипотез по увеличению выручки интернет-магазина с\n",
    "указанными параметрами  Reach ,  Impact ,  Confidence ,  Effort .\n",
    "\n",
    "**Задача**\n",
    "\n",
    "Примените фреймворк  ICE  для приоритизации гипотез. Отсортируйте их по\n",
    "убыванию приоритета.\n",
    "\n",
    "Примените фреймворк  RICE  для приоритизации гипотез. Отсортируйте их по\n",
    "убыванию приоритета.\n",
    "\n",
    "Укажите, как изменилась приоритизация гипотез при\n",
    "применении  RICE  вместо  ICE . Объясните, почему так произошло.\n",
    "\n",
    "## Часть 2. Анализ A/B-теста\n",
    "Вы провели A/B-тест и получили результаты, которые описаны в\n",
    "файлах  orders.csv  и  visitors.csv .\n",
    "\n",
    "**Задача**\n",
    "\n",
    "Проанализируйте A/B-тест:\n",
    "1. Постройте график кумулятивной выручки по группам. Сделайте выводы и\n",
    "предположения.\n",
    "2. Постройте график кумулятивного среднего чека по группам. Сделайте выводы\n",
    "и предположения.\n",
    "3. Постройте график относительного изменения кумулятивного среднего чека\n",
    "группы B к группе A. Сделайте выводы и предположения.\n",
    "4. Постройте график кумулятивной конверсии по группам. Сделайте выводы и\n",
    "предположения\n",
    "5. Постройте график относительного изменения кумулятивной конверсии группы\n",
    "B к группе A. Сделайте выводы и предположения.\n",
    "6. Постройте точечный график количества заказов по пользователям. Сделайте\n",
    "выводы и предположения.\n",
    "7. Посчитайте 95-й и 99-й перцентили количества заказов на пользователя.\n",
    "Выберите границу для определения аномальных пользователей.\n",
    "8. Постройте точечный график стоимостей заказов. Сделайте выводы и\n",
    "предположения.\n",
    "9. Посчитайте 95-й и 99-й перцентили стоимости заказов. Выберите границу для\n",
    "определения аномальных заказов.\n",
    "10. Посчитайте статистическую значимость различий в конверсии между группами\n",
    "по «сырым» данным. Сделайте выводы и предположения.\n",
    "11. Посчитайте статистическую значимость различий в среднем чеке заказа между\n",
    "группами по «сырым» данным. Сделайте выводы и предположения.\n",
    "12. Посчитайте статистическую значимость различий в конверсии между группами\n",
    "по «очищенным» данным. Сделайте выводы и предположения.\n",
    "13. Посчитайте статистическую значимость различий в среднем чеке заказа между\n",
    "группами по «очищенным» данным. Сделайте выводы и предположения.\n",
    "14. Примите решение по результатам теста и объясните его. Варианты решений:\n",
    "    1. Остановить тест, зафиксировать победу одной из групп. \n",
    "    2. Остановить тест, зафиксировать отсутствие различий между группами. \n",
    "    3. Продолжить тест."
   ]
  },
  {
   "cell_type": "markdown",
   "id": "b385e80d",
   "metadata": {},
   "source": [
    "## Содержание <a id=\"cont\"></a>\n",
    "\n",
    "[Подготовка данных к анализу](#step0)\n",
    "\n",
    "[Часть 1. Приоритизация гипотез](#step1)\n",
    "- [Приоретизация гипотез с помощью  фреймворка  ICE](#step11)\n",
    "    \n",
    "- [Приоретизация гипотез с помощью  фреймворка  RICE](#step12)\n",
    "    \n",
    "- [Выводы. Разница между приотизацией гипотез с использованием RICE вместо ICE](#step13)\n",
    "\n",
    "[Часть 2. Анализ A/B-теста](#step2)\n",
    "\n",
    "- [График кумулятивной выручки по группам](#step21)\n",
    "- [График кумулятивного среднего чека по группам](#step22)\n",
    "- [График относительного изменения кумулятивного среднего чека группы B к группе A](#step23)\n",
    "- [График кумулятивной конверсии по группам](#step24)\n",
    "- [График относительного изменения кумулятивной конверсии группы B к группе A](#step25)\n",
    "\n",
    "    [Анализ  выбросов и всплесков](#step3)\n",
    "    - [Точечный график количества заказов по пользователям. 95-й и 99-й перцентили](#step31)\n",
    "    - [Точечный график стоимостей заказов. 95-й и 99-й перцентили](#step32)\n",
    "    - [Статистическая значимость различий в конверсии между группами по «сырым» данным](#step33)\n",
    "    -[Статистическая значимость различий в среднем чеке заказа между группами по «сырым» данным](#step34)\n",
    "    - [Статистическая значимость различий в конверсии между группами по «очищенным» данным](#step35)\n",
    "    -[Статистическая значимость различий в среднем чеке заказа между группами по «очищенным» данным](#step36)\n",
    "\n",
    "[Решение по результатам теста](#step4)"
   ]
  },
  {
   "cell_type": "markdown",
   "id": "ef86e6da",
   "metadata": {},
   "source": [
    "## Подготовка данных к анализу\n",
    "<a id=\"step0\"></a>"
   ]
  },
  {
   "cell_type": "code",
   "execution_count": 1,
   "id": "1348f24a",
   "metadata": {},
   "outputs": [],
   "source": [
    "import pandas as pd\n",
    "import scipy.stats as stats\n",
    "import datetime as dt\n",
    "import numpy as np\n",
    "from matplotlib import pyplot as plt\n",
    "\n",
    "# Загрузка данных\n",
    "try: \n",
    "    visitors = pd.read_csv('visitors.csv') # данные о посещениях\n",
    "    orders = pd.read_csv('orders.csv')  # данные о покупках \n",
    "    hypothesis = pd.read_csv('hypothesis.csv') # данные о гипотезах по увеличению выручки\n",
    "except: \n",
    "    visitors = pd.read_csv('/datasets/visitors.csv')\n",
    "    orders = pd.read_csv('/datasets/orders.csv')\n",
    "    hypothesis = pd.read_csv('/datasets/hypothesis.csv')"
   ]
  },
  {
   "cell_type": "markdown",
   "id": "e7f17455",
   "metadata": {},
   "source": [
    "<div class=\"alert alert-success\">\n",
    "<h2> Комментарий ревьюера <a class=\"tocSkip\"> </h2>\n",
    "\n",
    "<b>Все отлично!👍:</b>\n",
    "   \n",
    "Отдельный плюс за `try/except` 😎"
   ]
  },
  {
   "cell_type": "code",
   "execution_count": 2,
   "id": "02fcb088",
   "metadata": {},
   "outputs": [
    {
     "data": {
      "text/html": [
       "<div>\n",
       "<style scoped>\n",
       "    .dataframe tbody tr th:only-of-type {\n",
       "        vertical-align: middle;\n",
       "    }\n",
       "\n",
       "    .dataframe tbody tr th {\n",
       "        vertical-align: top;\n",
       "    }\n",
       "\n",
       "    .dataframe thead th {\n",
       "        text-align: right;\n",
       "    }\n",
       "</style>\n",
       "<table border=\"1\" class=\"dataframe\">\n",
       "  <thead>\n",
       "    <tr style=\"text-align: right;\">\n",
       "      <th></th>\n",
       "      <th>date</th>\n",
       "      <th>group</th>\n",
       "      <th>visitors</th>\n",
       "    </tr>\n",
       "  </thead>\n",
       "  <tbody>\n",
       "    <tr>\n",
       "      <th>0</th>\n",
       "      <td>2019-08-01</td>\n",
       "      <td>A</td>\n",
       "      <td>719</td>\n",
       "    </tr>\n",
       "    <tr>\n",
       "      <th>1</th>\n",
       "      <td>2019-08-02</td>\n",
       "      <td>A</td>\n",
       "      <td>619</td>\n",
       "    </tr>\n",
       "    <tr>\n",
       "      <th>2</th>\n",
       "      <td>2019-08-03</td>\n",
       "      <td>A</td>\n",
       "      <td>507</td>\n",
       "    </tr>\n",
       "    <tr>\n",
       "      <th>3</th>\n",
       "      <td>2019-08-04</td>\n",
       "      <td>A</td>\n",
       "      <td>717</td>\n",
       "    </tr>\n",
       "    <tr>\n",
       "      <th>4</th>\n",
       "      <td>2019-08-05</td>\n",
       "      <td>A</td>\n",
       "      <td>756</td>\n",
       "    </tr>\n",
       "  </tbody>\n",
       "</table>\n",
       "</div>"
      ],
      "text/plain": [
       "         date group  visitors\n",
       "0  2019-08-01     A       719\n",
       "1  2019-08-02     A       619\n",
       "2  2019-08-03     A       507\n",
       "3  2019-08-04     A       717\n",
       "4  2019-08-05     A       756"
      ]
     },
     "metadata": {},
     "output_type": "display_data"
    },
    {
     "name": "stdout",
     "output_type": "stream",
     "text": [
      "<class 'pandas.core.frame.DataFrame'>\n",
      "RangeIndex: 62 entries, 0 to 61\n",
      "Data columns (total 3 columns):\n",
      " #   Column    Non-Null Count  Dtype \n",
      "---  ------    --------------  ----- \n",
      " 0   date      62 non-null     object\n",
      " 1   group     62 non-null     object\n",
      " 2   visitors  62 non-null     int64 \n",
      "dtypes: int64(1), object(2)\n",
      "memory usage: 1.6+ KB\n"
     ]
    },
    {
     "data": {
      "text/plain": [
       "None"
      ]
     },
     "metadata": {},
     "output_type": "display_data"
    },
    {
     "name": "stdout",
     "output_type": "stream",
     "text": [
      "Явные дубликаты:\n"
     ]
    },
    {
     "data": {
      "text/plain": [
       "0"
      ]
     },
     "metadata": {},
     "output_type": "display_data"
    },
    {
     "name": "stdout",
     "output_type": "stream",
     "text": [
      "\n"
     ]
    },
    {
     "data": {
      "text/html": [
       "<div>\n",
       "<style scoped>\n",
       "    .dataframe tbody tr th:only-of-type {\n",
       "        vertical-align: middle;\n",
       "    }\n",
       "\n",
       "    .dataframe tbody tr th {\n",
       "        vertical-align: top;\n",
       "    }\n",
       "\n",
       "    .dataframe thead th {\n",
       "        text-align: right;\n",
       "    }\n",
       "</style>\n",
       "<table border=\"1\" class=\"dataframe\">\n",
       "  <thead>\n",
       "    <tr style=\"text-align: right;\">\n",
       "      <th></th>\n",
       "      <th>transactionId</th>\n",
       "      <th>visitorId</th>\n",
       "      <th>date</th>\n",
       "      <th>revenue</th>\n",
       "      <th>group</th>\n",
       "    </tr>\n",
       "  </thead>\n",
       "  <tbody>\n",
       "    <tr>\n",
       "      <th>0</th>\n",
       "      <td>3667963787</td>\n",
       "      <td>3312258926</td>\n",
       "      <td>2019-08-15</td>\n",
       "      <td>1650</td>\n",
       "      <td>B</td>\n",
       "    </tr>\n",
       "    <tr>\n",
       "      <th>1</th>\n",
       "      <td>2804400009</td>\n",
       "      <td>3642806036</td>\n",
       "      <td>2019-08-15</td>\n",
       "      <td>730</td>\n",
       "      <td>B</td>\n",
       "    </tr>\n",
       "    <tr>\n",
       "      <th>2</th>\n",
       "      <td>2961555356</td>\n",
       "      <td>4069496402</td>\n",
       "      <td>2019-08-15</td>\n",
       "      <td>400</td>\n",
       "      <td>A</td>\n",
       "    </tr>\n",
       "    <tr>\n",
       "      <th>3</th>\n",
       "      <td>3797467345</td>\n",
       "      <td>1196621759</td>\n",
       "      <td>2019-08-15</td>\n",
       "      <td>9759</td>\n",
       "      <td>B</td>\n",
       "    </tr>\n",
       "    <tr>\n",
       "      <th>4</th>\n",
       "      <td>2282983706</td>\n",
       "      <td>2322279887</td>\n",
       "      <td>2019-08-15</td>\n",
       "      <td>2308</td>\n",
       "      <td>B</td>\n",
       "    </tr>\n",
       "  </tbody>\n",
       "</table>\n",
       "</div>"
      ],
      "text/plain": [
       "   transactionId   visitorId        date  revenue group\n",
       "0     3667963787  3312258926  2019-08-15     1650     B\n",
       "1     2804400009  3642806036  2019-08-15      730     B\n",
       "2     2961555356  4069496402  2019-08-15      400     A\n",
       "3     3797467345  1196621759  2019-08-15     9759     B\n",
       "4     2282983706  2322279887  2019-08-15     2308     B"
      ]
     },
     "metadata": {},
     "output_type": "display_data"
    },
    {
     "name": "stdout",
     "output_type": "stream",
     "text": [
      "<class 'pandas.core.frame.DataFrame'>\n",
      "RangeIndex: 1197 entries, 0 to 1196\n",
      "Data columns (total 5 columns):\n",
      " #   Column         Non-Null Count  Dtype \n",
      "---  ------         --------------  ----- \n",
      " 0   transactionId  1197 non-null   int64 \n",
      " 1   visitorId      1197 non-null   int64 \n",
      " 2   date           1197 non-null   object\n",
      " 3   revenue        1197 non-null   int64 \n",
      " 4   group          1197 non-null   object\n",
      "dtypes: int64(3), object(2)\n",
      "memory usage: 46.9+ KB\n"
     ]
    },
    {
     "data": {
      "text/plain": [
       "None"
      ]
     },
     "metadata": {},
     "output_type": "display_data"
    },
    {
     "name": "stdout",
     "output_type": "stream",
     "text": [
      "Явные дубликаты:\n"
     ]
    },
    {
     "data": {
      "text/plain": [
       "0"
      ]
     },
     "metadata": {},
     "output_type": "display_data"
    },
    {
     "name": "stdout",
     "output_type": "stream",
     "text": [
      "\n"
     ]
    },
    {
     "data": {
      "text/html": [
       "<div>\n",
       "<style scoped>\n",
       "    .dataframe tbody tr th:only-of-type {\n",
       "        vertical-align: middle;\n",
       "    }\n",
       "\n",
       "    .dataframe tbody tr th {\n",
       "        vertical-align: top;\n",
       "    }\n",
       "\n",
       "    .dataframe thead th {\n",
       "        text-align: right;\n",
       "    }\n",
       "</style>\n",
       "<table border=\"1\" class=\"dataframe\">\n",
       "  <thead>\n",
       "    <tr style=\"text-align: right;\">\n",
       "      <th></th>\n",
       "      <th>Hypothesis</th>\n",
       "      <th>Reach</th>\n",
       "      <th>Impact</th>\n",
       "      <th>Confidence</th>\n",
       "      <th>Efforts</th>\n",
       "    </tr>\n",
       "  </thead>\n",
       "  <tbody>\n",
       "    <tr>\n",
       "      <th>0</th>\n",
       "      <td>Добавить два новых канала привлечения трафика,...</td>\n",
       "      <td>3</td>\n",
       "      <td>10</td>\n",
       "      <td>8</td>\n",
       "      <td>6</td>\n",
       "    </tr>\n",
       "    <tr>\n",
       "      <th>1</th>\n",
       "      <td>Запустить собственную службу доставки, что сок...</td>\n",
       "      <td>2</td>\n",
       "      <td>5</td>\n",
       "      <td>4</td>\n",
       "      <td>10</td>\n",
       "    </tr>\n",
       "    <tr>\n",
       "      <th>2</th>\n",
       "      <td>Добавить блоки рекомендаций товаров на сайт ин...</td>\n",
       "      <td>8</td>\n",
       "      <td>3</td>\n",
       "      <td>7</td>\n",
       "      <td>3</td>\n",
       "    </tr>\n",
       "    <tr>\n",
       "      <th>3</th>\n",
       "      <td>Изменить структура категорий, что увеличит кон...</td>\n",
       "      <td>8</td>\n",
       "      <td>3</td>\n",
       "      <td>3</td>\n",
       "      <td>8</td>\n",
       "    </tr>\n",
       "    <tr>\n",
       "      <th>4</th>\n",
       "      <td>Изменить цвет фона главной страницы, чтобы уве...</td>\n",
       "      <td>3</td>\n",
       "      <td>1</td>\n",
       "      <td>1</td>\n",
       "      <td>1</td>\n",
       "    </tr>\n",
       "  </tbody>\n",
       "</table>\n",
       "</div>"
      ],
      "text/plain": [
       "                                          Hypothesis  Reach  Impact  \\\n",
       "0  Добавить два новых канала привлечения трафика,...      3      10   \n",
       "1  Запустить собственную службу доставки, что сок...      2       5   \n",
       "2  Добавить блоки рекомендаций товаров на сайт ин...      8       3   \n",
       "3  Изменить структура категорий, что увеличит кон...      8       3   \n",
       "4  Изменить цвет фона главной страницы, чтобы уве...      3       1   \n",
       "\n",
       "   Confidence  Efforts  \n",
       "0           8        6  \n",
       "1           4       10  \n",
       "2           7        3  \n",
       "3           3        8  \n",
       "4           1        1  "
      ]
     },
     "metadata": {},
     "output_type": "display_data"
    },
    {
     "name": "stdout",
     "output_type": "stream",
     "text": [
      "<class 'pandas.core.frame.DataFrame'>\n",
      "RangeIndex: 9 entries, 0 to 8\n",
      "Data columns (total 5 columns):\n",
      " #   Column      Non-Null Count  Dtype \n",
      "---  ------      --------------  ----- \n",
      " 0   Hypothesis  9 non-null      object\n",
      " 1   Reach       9 non-null      int64 \n",
      " 2   Impact      9 non-null      int64 \n",
      " 3   Confidence  9 non-null      int64 \n",
      " 4   Efforts     9 non-null      int64 \n",
      "dtypes: int64(4), object(1)\n",
      "memory usage: 488.0+ bytes\n"
     ]
    },
    {
     "data": {
      "text/plain": [
       "None"
      ]
     },
     "metadata": {},
     "output_type": "display_data"
    },
    {
     "name": "stdout",
     "output_type": "stream",
     "text": [
      "Явные дубликаты:\n"
     ]
    },
    {
     "data": {
      "text/plain": [
       "0"
      ]
     },
     "metadata": {},
     "output_type": "display_data"
    },
    {
     "name": "stdout",
     "output_type": "stream",
     "text": [
      "\n"
     ]
    }
   ],
   "source": [
    "for data in [visitors, orders, hypothesis]:\n",
    "    display(data.head())\n",
    "    display(data.info())\n",
    "    print('Явные дубликаты:')\n",
    "    display(data.duplicated().sum())\n",
    "    print()"
   ]
  },
  {
   "cell_type": "markdown",
   "id": "859b4c8d",
   "metadata": {},
   "source": [
    "Явных дубликатов и пропусков нет, необходимо преобразовать данные о времени:"
   ]
  },
  {
   "cell_type": "code",
   "execution_count": 3,
   "id": "dfc7a79f",
   "metadata": {},
   "outputs": [],
   "source": [
    "# приведем названия столбцов к нижнему регистру и уберем пробелы\n",
    "hypothesis.columns = data.columns.str.lower()\n",
    "    \n",
    "# преобразование данных о времени\n",
    "visitors['date'] = pd.to_datetime(visitors['date'])\n",
    "orders['date'] = pd.to_datetime(orders['date'])"
   ]
  },
  {
   "cell_type": "markdown",
   "id": "d0a594b4",
   "metadata": {},
   "source": [
    "**Вывод**\n",
    "- Явных дубликатов и пропусков нет\n",
    "- Изменила тип данных даты"
   ]
  },
  {
   "cell_type": "markdown",
   "id": "04677bba",
   "metadata": {},
   "source": [
    "## Часть 1. Приоритизация гипотез.\n",
    "<a id=\"step1\"></a>  "
   ]
  },
  {
   "cell_type": "markdown",
   "id": "35b64016",
   "metadata": {},
   "source": [
    "### 1.  Приоретизация гипотез с помощью  фреймворка  ICE\n",
    "<a id=\"step11\"></a>  "
   ]
  },
  {
   "cell_type": "code",
   "execution_count": 4,
   "id": "8d57f4be",
   "metadata": {
    "scrolled": true
   },
   "outputs": [
    {
     "data": {
      "text/html": [
       "<div>\n",
       "<style scoped>\n",
       "    .dataframe tbody tr th:only-of-type {\n",
       "        vertical-align: middle;\n",
       "    }\n",
       "\n",
       "    .dataframe tbody tr th {\n",
       "        vertical-align: top;\n",
       "    }\n",
       "\n",
       "    .dataframe thead th {\n",
       "        text-align: right;\n",
       "    }\n",
       "</style>\n",
       "<table border=\"1\" class=\"dataframe\">\n",
       "  <thead>\n",
       "    <tr style=\"text-align: right;\">\n",
       "      <th></th>\n",
       "      <th>hypothesis</th>\n",
       "      <th>number</th>\n",
       "      <th>ICE</th>\n",
       "    </tr>\n",
       "  </thead>\n",
       "  <tbody>\n",
       "    <tr>\n",
       "      <th>8</th>\n",
       "      <td>Запустить акцию, дающую скидку на товар в день рождения</td>\n",
       "      <td>9</td>\n",
       "      <td>16</td>\n",
       "    </tr>\n",
       "    <tr>\n",
       "      <th>0</th>\n",
       "      <td>Добавить два новых канала привлечения трафика, что позволит привлекать на 30% больше пользователей</td>\n",
       "      <td>1</td>\n",
       "      <td>13</td>\n",
       "    </tr>\n",
       "    <tr>\n",
       "      <th>7</th>\n",
       "      <td>Добавить форму подписки на все основные страницы, чтобы собрать базу клиентов для email-рассылок</td>\n",
       "      <td>8</td>\n",
       "      <td>11</td>\n",
       "    </tr>\n",
       "    <tr>\n",
       "      <th>6</th>\n",
       "      <td>Показать на главной странице баннеры с актуальными акциями и распродажами, чтобы увеличить конве...</td>\n",
       "      <td>7</td>\n",
       "      <td>8</td>\n",
       "    </tr>\n",
       "    <tr>\n",
       "      <th>2</th>\n",
       "      <td>Добавить блоки рекомендаций товаров на сайт интернет магазина, чтобы повысить конверсию и средни...</td>\n",
       "      <td>3</td>\n",
       "      <td>7</td>\n",
       "    </tr>\n",
       "    <tr>\n",
       "      <th>1</th>\n",
       "      <td>Запустить собственную службу доставки, что сократит срок доставки заказов</td>\n",
       "      <td>2</td>\n",
       "      <td>2</td>\n",
       "    </tr>\n",
       "    <tr>\n",
       "      <th>3</th>\n",
       "      <td>Изменить структура категорий, что увеличит конверсию, т.к. пользователи быстрее найдут нужный товар</td>\n",
       "      <td>4</td>\n",
       "      <td>1</td>\n",
       "    </tr>\n",
       "    <tr>\n",
       "      <th>4</th>\n",
       "      <td>Изменить цвет фона главной страницы, чтобы увеличить вовлеченность пользователей</td>\n",
       "      <td>5</td>\n",
       "      <td>1</td>\n",
       "    </tr>\n",
       "    <tr>\n",
       "      <th>5</th>\n",
       "      <td>Добавить страницу отзывов клиентов о магазине, что позволит увеличить количество заказов</td>\n",
       "      <td>6</td>\n",
       "      <td>1</td>\n",
       "    </tr>\n",
       "  </tbody>\n",
       "</table>\n",
       "</div>"
      ],
      "text/plain": [
       "                                                                                            hypothesis  \\\n",
       "8                                              Запустить акцию, дающую скидку на товар в день рождения   \n",
       "0   Добавить два новых канала привлечения трафика, что позволит привлекать на 30% больше пользователей   \n",
       "7     Добавить форму подписки на все основные страницы, чтобы собрать базу клиентов для email-рассылок   \n",
       "6  Показать на главной странице баннеры с актуальными акциями и распродажами, чтобы увеличить конве...   \n",
       "2  Добавить блоки рекомендаций товаров на сайт интернет магазина, чтобы повысить конверсию и средни...   \n",
       "1                            Запустить собственную службу доставки, что сократит срок доставки заказов   \n",
       "3  Изменить структура категорий, что увеличит конверсию, т.к. пользователи быстрее найдут нужный товар   \n",
       "4                     Изменить цвет фона главной страницы, чтобы увеличить вовлеченность пользователей   \n",
       "5             Добавить страницу отзывов клиентов о магазине, что позволит увеличить количество заказов   \n",
       "\n",
       "   number  ICE  \n",
       "8       9   16  \n",
       "0       1   13  \n",
       "7       8   11  \n",
       "6       7    8  \n",
       "2       3    7  \n",
       "1       2    2  \n",
       "3       4    1  \n",
       "4       5    1  \n",
       "5       6    1  "
      ]
     },
     "execution_count": 4,
     "metadata": {},
     "output_type": "execute_result"
    }
   ],
   "source": [
    "hypothesis['number'] = [1,2,3,4,5,6,7,8,9]\n",
    "hypothesis['ICE'] = ((hypothesis['impact']*hypothesis['confidence'])/hypothesis['efforts']).astype('int')\n",
    "pd.options.display.max_colwidth = 100\n",
    "hypothesis.sort_values(by='ICE', ascending=False)[['hypothesis', 'number', 'ICE']]"
   ]
  },
  {
   "cell_type": "code",
   "execution_count": 5,
   "id": "e76f277c",
   "metadata": {},
   "outputs": [
    {
     "name": "stdout",
     "output_type": "stream",
     "text": [
      "Приоритезация гипотез методом ICE в порядке убывания приоритета: [9 1 8 7 3 2 4 5 6]\n"
     ]
    }
   ],
   "source": [
    "print('Приоритезация гипотез методом ICE в порядке убывания приоритета:', np.array(hypothesis.sort_values(by='ICE', ascending=False)['number']))"
   ]
  },
  {
   "cell_type": "markdown",
   "id": "2967a4d7",
   "metadata": {},
   "source": [
    "Наиболее перспективные гипотезы по ICE: 9, 1, 8, 7."
   ]
  },
  {
   "cell_type": "markdown",
   "id": "099f9388",
   "metadata": {},
   "source": [
    "### 2.  Приоретизация гипотез с помощью  фреймворка  RICE\n",
    "<a id=\"step12\"></a>"
   ]
  },
  {
   "cell_type": "code",
   "execution_count": 6,
   "id": "3dd1636c",
   "metadata": {},
   "outputs": [
    {
     "data": {
      "text/html": [
       "<div>\n",
       "<style scoped>\n",
       "    .dataframe tbody tr th:only-of-type {\n",
       "        vertical-align: middle;\n",
       "    }\n",
       "\n",
       "    .dataframe tbody tr th {\n",
       "        vertical-align: top;\n",
       "    }\n",
       "\n",
       "    .dataframe thead th {\n",
       "        text-align: right;\n",
       "    }\n",
       "</style>\n",
       "<table border=\"1\" class=\"dataframe\">\n",
       "  <thead>\n",
       "    <tr style=\"text-align: right;\">\n",
       "      <th></th>\n",
       "      <th>hypothesis</th>\n",
       "      <th>number</th>\n",
       "      <th>RICE</th>\n",
       "    </tr>\n",
       "  </thead>\n",
       "  <tbody>\n",
       "    <tr>\n",
       "      <th>7</th>\n",
       "      <td>Добавить форму подписки на все основные страницы, чтобы собрать базу клиентов для email-рассылок</td>\n",
       "      <td>8</td>\n",
       "      <td>112</td>\n",
       "    </tr>\n",
       "    <tr>\n",
       "      <th>2</th>\n",
       "      <td>Добавить блоки рекомендаций товаров на сайт интернет магазина, чтобы повысить конверсию и средни...</td>\n",
       "      <td>3</td>\n",
       "      <td>56</td>\n",
       "    </tr>\n",
       "    <tr>\n",
       "      <th>0</th>\n",
       "      <td>Добавить два новых канала привлечения трафика, что позволит привлекать на 30% больше пользователей</td>\n",
       "      <td>1</td>\n",
       "      <td>40</td>\n",
       "    </tr>\n",
       "    <tr>\n",
       "      <th>6</th>\n",
       "      <td>Показать на главной странице баннеры с актуальными акциями и распродажами, чтобы увеличить конве...</td>\n",
       "      <td>7</td>\n",
       "      <td>40</td>\n",
       "    </tr>\n",
       "    <tr>\n",
       "      <th>8</th>\n",
       "      <td>Запустить акцию, дающую скидку на товар в день рождения</td>\n",
       "      <td>9</td>\n",
       "      <td>16</td>\n",
       "    </tr>\n",
       "    <tr>\n",
       "      <th>3</th>\n",
       "      <td>Изменить структура категорий, что увеличит конверсию, т.к. пользователи быстрее найдут нужный товар</td>\n",
       "      <td>4</td>\n",
       "      <td>9</td>\n",
       "    </tr>\n",
       "    <tr>\n",
       "      <th>1</th>\n",
       "      <td>Запустить собственную службу доставки, что сократит срок доставки заказов</td>\n",
       "      <td>2</td>\n",
       "      <td>4</td>\n",
       "    </tr>\n",
       "    <tr>\n",
       "      <th>5</th>\n",
       "      <td>Добавить страницу отзывов клиентов о магазине, что позволит увеличить количество заказов</td>\n",
       "      <td>6</td>\n",
       "      <td>4</td>\n",
       "    </tr>\n",
       "    <tr>\n",
       "      <th>4</th>\n",
       "      <td>Изменить цвет фона главной страницы, чтобы увеличить вовлеченность пользователей</td>\n",
       "      <td>5</td>\n",
       "      <td>3</td>\n",
       "    </tr>\n",
       "  </tbody>\n",
       "</table>\n",
       "</div>"
      ],
      "text/plain": [
       "                                                                                            hypothesis  \\\n",
       "7     Добавить форму подписки на все основные страницы, чтобы собрать базу клиентов для email-рассылок   \n",
       "2  Добавить блоки рекомендаций товаров на сайт интернет магазина, чтобы повысить конверсию и средни...   \n",
       "0   Добавить два новых канала привлечения трафика, что позволит привлекать на 30% больше пользователей   \n",
       "6  Показать на главной странице баннеры с актуальными акциями и распродажами, чтобы увеличить конве...   \n",
       "8                                              Запустить акцию, дающую скидку на товар в день рождения   \n",
       "3  Изменить структура категорий, что увеличит конверсию, т.к. пользователи быстрее найдут нужный товар   \n",
       "1                            Запустить собственную службу доставки, что сократит срок доставки заказов   \n",
       "5             Добавить страницу отзывов клиентов о магазине, что позволит увеличить количество заказов   \n",
       "4                     Изменить цвет фона главной страницы, чтобы увеличить вовлеченность пользователей   \n",
       "\n",
       "   number  RICE  \n",
       "7       8   112  \n",
       "2       3    56  \n",
       "0       1    40  \n",
       "6       7    40  \n",
       "8       9    16  \n",
       "3       4     9  \n",
       "1       2     4  \n",
       "5       6     4  \n",
       "4       5     3  "
      ]
     },
     "execution_count": 6,
     "metadata": {},
     "output_type": "execute_result"
    }
   ],
   "source": [
    "hypothesis['RICE'] = ((hypothesis['reach']*hypothesis['impact']*hypothesis['confidence'])/hypothesis['efforts']).astype('int')\n",
    "hypothesis.sort_values(by='RICE', ascending=False)[['hypothesis', 'number', 'RICE']]"
   ]
  },
  {
   "cell_type": "code",
   "execution_count": 7,
   "id": "096114d0",
   "metadata": {},
   "outputs": [
    {
     "name": "stdout",
     "output_type": "stream",
     "text": [
      "Приоритезация гипотез методом RICE в порядке убывания приоритета: [8 3 1 7 9 4 2 6 5]\n"
     ]
    }
   ],
   "source": [
    "print('Приоритезация гипотез методом RICE в порядке убывания приоритета:', np.array(hypothesis.sort_values(by='RICE', ascending=False)['number']))"
   ]
  },
  {
   "cell_type": "markdown",
   "id": "9e2719d3",
   "metadata": {},
   "source": [
    "Наиболее перспективные гипотезы по RICE: 8, 3, 1, 7."
   ]
  },
  {
   "cell_type": "markdown",
   "id": "0390b0cd",
   "metadata": {},
   "source": [
    "### 3.  Выводы. Разница между приотизацией гипотез с использованием RICE вместо ICE\n",
    "<a id=\"step13\"></a>"
   ]
  },
  {
   "cell_type": "markdown",
   "id": "d75a8863",
   "metadata": {},
   "source": [
    "Наиболее перспективные гипотезы по ICE: 9, 1, 8, 7.\n",
    "\n",
    "Наиболее перспективные гипотезы по RICE: 8, 3, 1, 7.\n",
    "\n",
    "Ранжирование в зависимости от фреймворка различается, это связано с тем, что при использовании фреймворка ICE (в отличие от RICE) не учитывается охват изменений. Это важная составляющая анализа изменений, тк она учитывает внешние факторы, в которых функционирует компания: деятельность конкурентов, оценку объема рынка - поэтому ее следует считать приоритетной."
   ]
  },
  {
   "cell_type": "code",
   "execution_count": 8,
   "id": "27328ad1",
   "metadata": {},
   "outputs": [
    {
     "data": {
      "text/html": [
       "<div>\n",
       "<style scoped>\n",
       "    .dataframe tbody tr th:only-of-type {\n",
       "        vertical-align: middle;\n",
       "    }\n",
       "\n",
       "    .dataframe tbody tr th {\n",
       "        vertical-align: top;\n",
       "    }\n",
       "\n",
       "    .dataframe thead th {\n",
       "        text-align: right;\n",
       "    }\n",
       "</style>\n",
       "<table border=\"1\" class=\"dataframe\">\n",
       "  <thead>\n",
       "    <tr style=\"text-align: right;\">\n",
       "      <th></th>\n",
       "      <th>count</th>\n",
       "      <th>mean</th>\n",
       "      <th>std</th>\n",
       "      <th>min</th>\n",
       "      <th>25%</th>\n",
       "      <th>50%</th>\n",
       "      <th>75%</th>\n",
       "      <th>max</th>\n",
       "    </tr>\n",
       "  </thead>\n",
       "  <tbody>\n",
       "    <tr>\n",
       "      <th>ICE</th>\n",
       "      <td>9.0</td>\n",
       "      <td>6.666667</td>\n",
       "      <td>5.766281</td>\n",
       "      <td>1.0</td>\n",
       "      <td>1.0</td>\n",
       "      <td>7.0</td>\n",
       "      <td>11.0</td>\n",
       "      <td>16.0</td>\n",
       "    </tr>\n",
       "    <tr>\n",
       "      <th>RICE</th>\n",
       "      <td>9.0</td>\n",
       "      <td>31.555556</td>\n",
       "      <td>35.875169</td>\n",
       "      <td>3.0</td>\n",
       "      <td>4.0</td>\n",
       "      <td>16.0</td>\n",
       "      <td>40.0</td>\n",
       "      <td>112.0</td>\n",
       "    </tr>\n",
       "  </tbody>\n",
       "</table>\n",
       "</div>"
      ],
      "text/plain": [
       "      count       mean        std  min  25%   50%   75%    max\n",
       "ICE     9.0   6.666667   5.766281  1.0  1.0   7.0  11.0   16.0\n",
       "RICE    9.0  31.555556  35.875169  3.0  4.0  16.0  40.0  112.0"
      ]
     },
     "metadata": {},
     "output_type": "display_data"
    },
    {
     "data": {
      "text/html": [
       "<style  type=\"text/css\" >\n",
       "#T_62c05_row0_col1,#T_62c05_row0_col7,#T_62c05_row2_col2,#T_62c05_row4_col3,#T_62c05_row4_col5,#T_62c05_row4_col6,#T_62c05_row6_col4{\n",
       "            background-color:  #084081;\n",
       "            color:  #f1f1f1;\n",
       "        }#T_62c05_row0_col2,#T_62c05_row0_col6{\n",
       "            background-color:  #42a6cc;\n",
       "            color:  #000000;\n",
       "        }#T_62c05_row0_col3,#T_62c05_row0_col5,#T_62c05_row2_col3,#T_62c05_row3_col3{\n",
       "            background-color:  #0867ab;\n",
       "            color:  #f1f1f1;\n",
       "        }#T_62c05_row0_col4,#T_62c05_row3_col1,#T_62c05_row4_col4,#T_62c05_row6_col2{\n",
       "            background-color:  #8fd4bd;\n",
       "            color:  #000000;\n",
       "        }#T_62c05_row1_col1,#T_62c05_row5_col1,#T_62c05_row5_col4{\n",
       "            background-color:  #2283ba;\n",
       "            color:  #000000;\n",
       "        }#T_62c05_row1_col2,#T_62c05_row1_col4,#T_62c05_row2_col1,#T_62c05_row3_col2,#T_62c05_row3_col4,#T_62c05_row5_col2,#T_62c05_row7_col1,#T_62c05_row7_col4,#T_62c05_row8_col1{\n",
       "            background-color:  #d1edca;\n",
       "            color:  #000000;\n",
       "        }#T_62c05_row1_col3,#T_62c05_row3_col5{\n",
       "            background-color:  #2a8bbe;\n",
       "            color:  #000000;\n",
       "        }#T_62c05_row1_col5,#T_62c05_row5_col3{\n",
       "            background-color:  #ccebc5;\n",
       "            color:  #000000;\n",
       "        }#T_62c05_row1_col6{\n",
       "            background-color:  #9fdab8;\n",
       "            color:  #000000;\n",
       "        }#T_62c05_row1_col7{\n",
       "            background-color:  #80cec2;\n",
       "            color:  #000000;\n",
       "        }#T_62c05_row2_col4{\n",
       "            background-color:  #67c1cb;\n",
       "            color:  #000000;\n",
       "        }#T_62c05_row2_col5,#T_62c05_row4_col1,#T_62c05_row5_col6,#T_62c05_row7_col6,#T_62c05_row8_col2,#T_62c05_row8_col3,#T_62c05_row8_col4,#T_62c05_row8_col6,#T_62c05_row8_col7{\n",
       "            background-color:  #f7fcf0;\n",
       "            color:  #000000;\n",
       "        }#T_62c05_row2_col6{\n",
       "            background-color:  #1d7eb7;\n",
       "            color:  #000000;\n",
       "        }#T_62c05_row2_col7,#T_62c05_row3_col7{\n",
       "            background-color:  #b3e1ba;\n",
       "            color:  #000000;\n",
       "        }#T_62c05_row3_col6{\n",
       "            background-color:  #87d1c0;\n",
       "            color:  #000000;\n",
       "        }#T_62c05_row4_col2{\n",
       "            background-color:  #0863a7;\n",
       "            color:  #f1f1f1;\n",
       "        }#T_62c05_row4_col7{\n",
       "            background-color:  #e1f4dc;\n",
       "            color:  #000000;\n",
       "        }#T_62c05_row5_col5,#T_62c05_row6_col3{\n",
       "            background-color:  #a7ddb5;\n",
       "            color:  #000000;\n",
       "        }#T_62c05_row5_col7{\n",
       "            background-color:  #edf8e7;\n",
       "            color:  #000000;\n",
       "        }#T_62c05_row6_col1,#T_62c05_row7_col2{\n",
       "            background-color:  #e3f4de;\n",
       "            color:  #000000;\n",
       "        }#T_62c05_row6_col5,#T_62c05_row7_col3{\n",
       "            background-color:  #e0f3db;\n",
       "            color:  #000000;\n",
       "        }#T_62c05_row6_col6{\n",
       "            background-color:  #ebf7e5;\n",
       "            color:  #000000;\n",
       "        }#T_62c05_row6_col7,#T_62c05_row7_col7{\n",
       "            background-color:  #f6fbef;\n",
       "            color:  #000000;\n",
       "        }#T_62c05_row7_col5{\n",
       "            background-color:  #4db2d3;\n",
       "            color:  #000000;\n",
       "        }#T_62c05_row8_col5{\n",
       "            background-color:  #7accc4;\n",
       "            color:  #000000;\n",
       "        }</style><table id=\"T_62c05_\" ><thead>    <tr>        <th class=\"blank level0\" ></th>        <th class=\"col_heading level0 col0\" >hypothesis</th>        <th class=\"col_heading level0 col1\" >reach</th>        <th class=\"col_heading level0 col2\" >impact</th>        <th class=\"col_heading level0 col3\" >confidence</th>        <th class=\"col_heading level0 col4\" >efforts</th>        <th class=\"col_heading level0 col5\" >number</th>        <th class=\"col_heading level0 col6\" >ICE</th>        <th class=\"col_heading level0 col7\" >RICE</th>    </tr></thead><tbody>\n",
       "                <tr>\n",
       "                        <th id=\"T_62c05_level0_row0\" class=\"row_heading level0 row0\" >7</th>\n",
       "                        <td id=\"T_62c05_row0_col0\" class=\"data row0 col0\" >Добавить форму подписки на все основные страницы, чтобы собрать базу клиентов для email-рассылок</td>\n",
       "                        <td id=\"T_62c05_row0_col1\" class=\"data row0 col1\" >10</td>\n",
       "                        <td id=\"T_62c05_row0_col2\" class=\"data row0 col2\" >7</td>\n",
       "                        <td id=\"T_62c05_row0_col3\" class=\"data row0 col3\" >8</td>\n",
       "                        <td id=\"T_62c05_row0_col4\" class=\"data row0 col4\" >5</td>\n",
       "                        <td id=\"T_62c05_row0_col5\" class=\"data row0 col5\" >8</td>\n",
       "                        <td id=\"T_62c05_row0_col6\" class=\"data row0 col6\" >11</td>\n",
       "                        <td id=\"T_62c05_row0_col7\" class=\"data row0 col7\" >112</td>\n",
       "            </tr>\n",
       "            <tr>\n",
       "                        <th id=\"T_62c05_level0_row1\" class=\"row_heading level0 row1\" >2</th>\n",
       "                        <td id=\"T_62c05_row1_col0\" class=\"data row1 col0\" >Добавить блоки рекомендаций товаров на сайт интернет магазина, чтобы повысить конверсию и средний чек заказа</td>\n",
       "                        <td id=\"T_62c05_row1_col1\" class=\"data row1 col1\" >8</td>\n",
       "                        <td id=\"T_62c05_row1_col2\" class=\"data row1 col2\" >3</td>\n",
       "                        <td id=\"T_62c05_row1_col3\" class=\"data row1 col3\" >7</td>\n",
       "                        <td id=\"T_62c05_row1_col4\" class=\"data row1 col4\" >3</td>\n",
       "                        <td id=\"T_62c05_row1_col5\" class=\"data row1 col5\" >3</td>\n",
       "                        <td id=\"T_62c05_row1_col6\" class=\"data row1 col6\" >7</td>\n",
       "                        <td id=\"T_62c05_row1_col7\" class=\"data row1 col7\" >56</td>\n",
       "            </tr>\n",
       "            <tr>\n",
       "                        <th id=\"T_62c05_level0_row2\" class=\"row_heading level0 row2\" >0</th>\n",
       "                        <td id=\"T_62c05_row2_col0\" class=\"data row2 col0\" >Добавить два новых канала привлечения трафика, что позволит привлекать на 30% больше пользователей</td>\n",
       "                        <td id=\"T_62c05_row2_col1\" class=\"data row2 col1\" >3</td>\n",
       "                        <td id=\"T_62c05_row2_col2\" class=\"data row2 col2\" >10</td>\n",
       "                        <td id=\"T_62c05_row2_col3\" class=\"data row2 col3\" >8</td>\n",
       "                        <td id=\"T_62c05_row2_col4\" class=\"data row2 col4\" >6</td>\n",
       "                        <td id=\"T_62c05_row2_col5\" class=\"data row2 col5\" >1</td>\n",
       "                        <td id=\"T_62c05_row2_col6\" class=\"data row2 col6\" >13</td>\n",
       "                        <td id=\"T_62c05_row2_col7\" class=\"data row2 col7\" >40</td>\n",
       "            </tr>\n",
       "            <tr>\n",
       "                        <th id=\"T_62c05_level0_row3\" class=\"row_heading level0 row3\" >6</th>\n",
       "                        <td id=\"T_62c05_row3_col0\" class=\"data row3 col0\" >Показать на главной странице баннеры с актуальными акциями и распродажами, чтобы увеличить конверсию</td>\n",
       "                        <td id=\"T_62c05_row3_col1\" class=\"data row3 col1\" >5</td>\n",
       "                        <td id=\"T_62c05_row3_col2\" class=\"data row3 col2\" >3</td>\n",
       "                        <td id=\"T_62c05_row3_col3\" class=\"data row3 col3\" >8</td>\n",
       "                        <td id=\"T_62c05_row3_col4\" class=\"data row3 col4\" >3</td>\n",
       "                        <td id=\"T_62c05_row3_col5\" class=\"data row3 col5\" >7</td>\n",
       "                        <td id=\"T_62c05_row3_col6\" class=\"data row3 col6\" >8</td>\n",
       "                        <td id=\"T_62c05_row3_col7\" class=\"data row3 col7\" >40</td>\n",
       "            </tr>\n",
       "            <tr>\n",
       "                        <th id=\"T_62c05_level0_row4\" class=\"row_heading level0 row4\" >8</th>\n",
       "                        <td id=\"T_62c05_row4_col0\" class=\"data row4 col0\" >Запустить акцию, дающую скидку на товар в день рождения</td>\n",
       "                        <td id=\"T_62c05_row4_col1\" class=\"data row4 col1\" >1</td>\n",
       "                        <td id=\"T_62c05_row4_col2\" class=\"data row4 col2\" >9</td>\n",
       "                        <td id=\"T_62c05_row4_col3\" class=\"data row4 col3\" >9</td>\n",
       "                        <td id=\"T_62c05_row4_col4\" class=\"data row4 col4\" >5</td>\n",
       "                        <td id=\"T_62c05_row4_col5\" class=\"data row4 col5\" >9</td>\n",
       "                        <td id=\"T_62c05_row4_col6\" class=\"data row4 col6\" >16</td>\n",
       "                        <td id=\"T_62c05_row4_col7\" class=\"data row4 col7\" >16</td>\n",
       "            </tr>\n",
       "            <tr>\n",
       "                        <th id=\"T_62c05_level0_row5\" class=\"row_heading level0 row5\" >3</th>\n",
       "                        <td id=\"T_62c05_row5_col0\" class=\"data row5 col0\" >Изменить структура категорий, что увеличит конверсию, т.к. пользователи быстрее найдут нужный товар</td>\n",
       "                        <td id=\"T_62c05_row5_col1\" class=\"data row5 col1\" >8</td>\n",
       "                        <td id=\"T_62c05_row5_col2\" class=\"data row5 col2\" >3</td>\n",
       "                        <td id=\"T_62c05_row5_col3\" class=\"data row5 col3\" >3</td>\n",
       "                        <td id=\"T_62c05_row5_col4\" class=\"data row5 col4\" >8</td>\n",
       "                        <td id=\"T_62c05_row5_col5\" class=\"data row5 col5\" >4</td>\n",
       "                        <td id=\"T_62c05_row5_col6\" class=\"data row5 col6\" >1</td>\n",
       "                        <td id=\"T_62c05_row5_col7\" class=\"data row5 col7\" >9</td>\n",
       "            </tr>\n",
       "            <tr>\n",
       "                        <th id=\"T_62c05_level0_row6\" class=\"row_heading level0 row6\" >1</th>\n",
       "                        <td id=\"T_62c05_row6_col0\" class=\"data row6 col0\" >Запустить собственную службу доставки, что сократит срок доставки заказов</td>\n",
       "                        <td id=\"T_62c05_row6_col1\" class=\"data row6 col1\" >2</td>\n",
       "                        <td id=\"T_62c05_row6_col2\" class=\"data row6 col2\" >5</td>\n",
       "                        <td id=\"T_62c05_row6_col3\" class=\"data row6 col3\" >4</td>\n",
       "                        <td id=\"T_62c05_row6_col4\" class=\"data row6 col4\" >10</td>\n",
       "                        <td id=\"T_62c05_row6_col5\" class=\"data row6 col5\" >2</td>\n",
       "                        <td id=\"T_62c05_row6_col6\" class=\"data row6 col6\" >2</td>\n",
       "                        <td id=\"T_62c05_row6_col7\" class=\"data row6 col7\" >4</td>\n",
       "            </tr>\n",
       "            <tr>\n",
       "                        <th id=\"T_62c05_level0_row7\" class=\"row_heading level0 row7\" >5</th>\n",
       "                        <td id=\"T_62c05_row7_col0\" class=\"data row7 col0\" >Добавить страницу отзывов клиентов о магазине, что позволит увеличить количество заказов</td>\n",
       "                        <td id=\"T_62c05_row7_col1\" class=\"data row7 col1\" >3</td>\n",
       "                        <td id=\"T_62c05_row7_col2\" class=\"data row7 col2\" >2</td>\n",
       "                        <td id=\"T_62c05_row7_col3\" class=\"data row7 col3\" >2</td>\n",
       "                        <td id=\"T_62c05_row7_col4\" class=\"data row7 col4\" >3</td>\n",
       "                        <td id=\"T_62c05_row7_col5\" class=\"data row7 col5\" >6</td>\n",
       "                        <td id=\"T_62c05_row7_col6\" class=\"data row7 col6\" >1</td>\n",
       "                        <td id=\"T_62c05_row7_col7\" class=\"data row7 col7\" >4</td>\n",
       "            </tr>\n",
       "            <tr>\n",
       "                        <th id=\"T_62c05_level0_row8\" class=\"row_heading level0 row8\" >4</th>\n",
       "                        <td id=\"T_62c05_row8_col0\" class=\"data row8 col0\" >Изменить цвет фона главной страницы, чтобы увеличить вовлеченность пользователей</td>\n",
       "                        <td id=\"T_62c05_row8_col1\" class=\"data row8 col1\" >3</td>\n",
       "                        <td id=\"T_62c05_row8_col2\" class=\"data row8 col2\" >1</td>\n",
       "                        <td id=\"T_62c05_row8_col3\" class=\"data row8 col3\" >1</td>\n",
       "                        <td id=\"T_62c05_row8_col4\" class=\"data row8 col4\" >1</td>\n",
       "                        <td id=\"T_62c05_row8_col5\" class=\"data row8 col5\" >5</td>\n",
       "                        <td id=\"T_62c05_row8_col6\" class=\"data row8 col6\" >1</td>\n",
       "                        <td id=\"T_62c05_row8_col7\" class=\"data row8 col7\" >3</td>\n",
       "            </tr>\n",
       "    </tbody></table>"
      ],
      "text/plain": [
       "<pandas.io.formats.style.Styler at 0x7f8579553bb0>"
      ]
     },
     "execution_count": 8,
     "metadata": {},
     "output_type": "execute_result"
    }
   ],
   "source": [
    "display(hypothesis[['ICE', 'RICE']].describe().T)\n",
    "hypothesis.sort_values(by='RICE', ascending=False).style.background_gradient('GnBu')"
   ]
  },
  {
   "cell_type": "markdown",
   "id": "fca51dab",
   "metadata": {},
   "source": [
    "Таким образом, наиболее перспективными гипотезами следует считать гипотезы под номерами:\n",
    "\n",
    "- **8**   - Добавить форму подписки на все основные страницы, чтобы собрать базу клиентов для email-рассылок\t\n",
    "- **3**\t  - Добавить блоки рекомендаций товаров на сайт интернет магазина, чтобы повысить конверсию и средний чек заказа\n",
    "- **1**\t  - Добавить два новых канала привлечения трафика, что позволит привлекать на 30% больше пользователей\t\n",
    "- **7**\t  - Показать на главной странице баннеры с актуальными акциями и распродажами, чтобы увеличить конверсию\n",
    "\n",
    "При этои наиболее сильным преимуществом по охвату пользователей из данных гипотез обладает гипотеза под номером 8 (параметр reach =10) и 7 (параметр reach =5)"
   ]
  },
  {
   "cell_type": "markdown",
   "id": "ec89482d",
   "metadata": {},
   "source": [
    "## Часть 2. Анализ A/B-теста\n",
    "<a id=\"step2\"></a>  "
   ]
  },
  {
   "cell_type": "markdown",
   "id": "dbda9f1c",
   "metadata": {},
   "source": [
    "Проверим корректность разбиения пользователей на группы:\n",
    "\n",
    "- Количество пользователей в различных группах различается не более, чем на 1%;\n",
    "- Различие ключевых метрик по группам не превышает 1% и не имеет статистической значимости;\n",
    "- Попавший в одну из групп посетитель остаётся в этой группе до конца теста.\n",
    "\n",
    "Ключевая метрика в данном анализе - конверсия. \n",
    "\n",
    "Чтобы исправить проблему подглядывания, размер выборки определяют до начала теста. Калькулятор "
   ]
  },
  {
   "cell_type": "code",
   "execution_count": 9,
   "id": "549bf8c3",
   "metadata": {},
   "outputs": [
    {
     "name": "stdout",
     "output_type": "stream",
     "text": [
      "Количество посетителей в группе A: 18736\n",
      "Количество посетителей в группе B: 18916\n",
      "Количество пользователей в различных группах различается на 0.95\n"
     ]
    }
   ],
   "source": [
    "print('Количество посетителей в группе A:', visitors.query('group == \"A\"')['visitors'].sum())\n",
    "print('Количество посетителей в группе B:', visitors.query('group == \"B\"')['visitors'].sum())\n",
    "print('Количество пользователей в различных группах различается на', \n",
    "      round(abs((1-visitors.query('group == \"A\"')['visitors'].sum()/visitors.query('group == \"B\"')['visitors'].sum())*100), 2))"
   ]
  },
  {
   "cell_type": "code",
   "execution_count": 34,
   "id": "e795a620",
   "metadata": {},
   "outputs": [
    {
     "name": "stdout",
     "output_type": "stream",
     "text": [
      "Конверсия в группе A 2.5 %\n",
      "Конверсия в группе B 2.9 %\n",
      "Абсолютная разница в конверсии в группах A и B 0.4 %\n"
     ]
    }
   ],
   "source": [
    "convA = len(orders.query('group == \"A\"'))/visitors.query('group == \"A\"')['visitors'].sum()\n",
    "convB = len(orders.query('group == \"B\"'))/visitors.query('group == \"B\"')['visitors'].sum()\n",
    "print('Конверсия в группе A', round(convA*100, 2), '%')\n",
    "print('Конверсия в группе B', round(convB*100, 2), '%')\n",
    "print('Абсолютная разница в конверсии в группах A и B',\n",
    "     round(abs(convA-convB)*100, 2), '%')\n"
   ]
  },
  {
   "cell_type": "markdown",
   "id": "02f066aa",
   "metadata": {},
   "source": [
    "Все в порядке, идем дальше. \n",
    "\n",
    "Проверим, есить ли пользователи, которые попали в две группы одновременно:\n"
   ]
  },
  {
   "cell_type": "code",
   "execution_count": 11,
   "id": "bced28b4",
   "metadata": {},
   "outputs": [
    {
     "name": "stdout",
     "output_type": "stream",
     "text": [
      "Количество пользователей, совершивших покупку и попавших в обе группы: 58 , что составляет 4.85 % от общего числа покупателей\n"
     ]
    }
   ],
   "source": [
    "badOrders = orders.pivot_table(index='visitorId', values='group', aggfunc='nunique').query('group >1')\n",
    "badValues = list(badOrders.index)\n",
    "print('Количество пользователей, совершивших покупку и попавших в обе группы:', len(badOrders), ', что составляет', round((len(badOrders)/len(orders))*100, 2), '% от общего числа покупателей')"
   ]
  },
  {
   "cell_type": "markdown",
   "id": "064f8194",
   "metadata": {},
   "source": [
    "Удалим эти значения"
   ]
  },
  {
   "cell_type": "code",
   "execution_count": 12,
   "id": "0774ad57",
   "metadata": {},
   "outputs": [],
   "source": [
    "originalOrders = orders.copy()"
   ]
  },
  {
   "cell_type": "code",
   "execution_count": 13,
   "id": "0c11f600",
   "metadata": {},
   "outputs": [],
   "source": [
    "orders = orders.query('visitorId not in @badValues')"
   ]
  },
  {
   "cell_type": "markdown",
   "id": "455dd221",
   "metadata": {},
   "source": [
    "Проверим сроки проведения теста и данные на входе по посещениям:"
   ]
  },
  {
   "cell_type": "code",
   "execution_count": 14,
   "id": "4c13c99b",
   "metadata": {},
   "outputs": [
    {
     "name": "stdout",
     "output_type": "stream",
     "text": [
      "2019-08-31 00:00:00\n",
      "2019-08-01 00:00:00\n"
     ]
    },
    {
     "data": {
      "text/plain": [
       "Timedelta('30 days 00:00:00')"
      ]
     },
     "execution_count": 14,
     "metadata": {},
     "output_type": "execute_result"
    }
   ],
   "source": [
    "print(orders['date'].max())\n",
    "print(orders['date'].min())\n",
    "orders['date'].max()-orders['date'].min()"
   ]
  },
  {
   "cell_type": "code",
   "execution_count": 15,
   "id": "bb4df1f2",
   "metadata": {},
   "outputs": [
    {
     "name": "stdout",
     "output_type": "stream",
     "text": [
      "2019-08-31 00:00:00\n",
      "2019-08-01 00:00:00\n"
     ]
    },
    {
     "data": {
      "text/plain": [
       "Timedelta('30 days 00:00:00')"
      ]
     },
     "execution_count": 15,
     "metadata": {},
     "output_type": "execute_result"
    }
   ],
   "source": [
    "print(visitors['date'].max())\n",
    "print(visitors['date'].min())\n",
    "visitors['date'].max()-visitors['date'].min()"
   ]
  },
  {
   "cell_type": "markdown",
   "id": "9434f944",
   "metadata": {},
   "source": [
    "Все отлично."
   ]
  },
  {
   "attachments": {
    "image-2.png": {
     "image/png": "[encoded data removed]"
    }
   },
   "cell_type": "markdown",
   "id": "61ddd1e8",
   "metadata": {},
   "source": [
    "Посмотрим с помощью [калькулятора](https://www.evanmiller.org/ab-testing/sample-size.html) на необходимые сроки для проведения теста.\n",
    "\n",
    "- Первоначальная конверсия:2,97%\n",
    "- После теста: 3,38%\n",
    "- Абсолютная разница в изменении конверсии составила 0.41%\n",
    "\n",
    "![image-2.png](attachment:image-2.png)\n",
    "\n",
    "Минимальный размер выборки по калькулятору составил 27,444. У нас 37 652 наблюдений.\n",
    "\n",
    "По количеству наблюдений все ок - их достаточно для проведения теста."
   ]
  },
  {
   "cell_type": "markdown",
   "id": "bea4a872",
   "metadata": {},
   "source": [
    "### График кумулятивной выручки по группам\n",
    "<a id=\"step21\"></a> "
   ]
  },
  {
   "cell_type": "markdown",
   "id": "6822338d",
   "metadata": {},
   "source": [
    "Подготовим данные для рассчета метрик:"
   ]
  },
  {
   "cell_type": "code",
   "execution_count": 35,
   "id": "32d17aea",
   "metadata": {},
   "outputs": [],
   "source": [
    "# создаем массив уникальных пар значений дат и групп теста, избавляемся от дубликатов\n",
    "datesGroups = orders[['date','group']].drop_duplicates()\n",
    "\n",
    "# создаем ordersAggregated - строки таблицы orders, дата котрых меньше или равна \n",
    "# дате элемента из datesGroups, а группа теста равна группе из datesGroups\n",
    "ordersAggregated = datesGroups.apply(\n",
    "    lambda x: orders[\n",
    "        np.logical_and(\n",
    "            orders['date'] <= x['date'], orders['group'] == x['group']\n",
    "        )\n",
    "    ].agg(\n",
    "        {\n",
    "            'date': 'max',                # Вычислим макс. дату,\n",
    "            'group': 'max',               # группу теста (чтобы не пропал столбец)\n",
    "            'transactionId': 'nunique',   # число уник. заказов \n",
    "            'visitorId': 'nunique',       # и пользователей\n",
    "            'revenue': 'sum',             # Подсчитаем сумму средних чеков\n",
    "        }\n",
    "    ),\n",
    "    axis=1,\n",
    ").sort_values(by=['date', 'group'])\n",
    "\n",
    "# Аналогично получим агрегированные кумулятивные по дням данные о посетителях \n",
    "visitorsAggregated = datesGroups.apply(\n",
    "    lambda x: visitors[\n",
    "        np.logical_and(\n",
    "            visitors['date'] <= x['date'], visitors['group'] == x['group']\n",
    "        )\n",
    "    ].agg(\n",
    "        {\n",
    "            'date': 'max', \n",
    "            'group': 'max', \n",
    "            'visitors': 'sum'\n",
    "          }\n",
    "         ), \n",
    "    axis=1,\n",
    ").sort_values(by=['date', 'group'])\n",
    "\n",
    "# объединение данных таблиц\n",
    "cumulativeData = ordersAggregated.merge(\n",
    "    visitorsAggregated, left_on=['date', 'group'], right_on=['date', 'group']\n",
    ")\n",
    "cumulativeData.columns = [\n",
    "    'date',\n",
    "    'group',\n",
    "    'orders',\n",
    "    'buyers',\n",
    "    'revenue',\n",
    "    'visitors',\n",
    "]\n",
    "\n",
    "# расчет конверсии\n",
    "cumulativeData['conversion'] = (\n",
    "    cumulativeData['orders'] / cumulativeData['visitors']\n",
    ")"
   ]
  },
  {
   "cell_type": "code",
   "execution_count": 36,
   "id": "4e1a4efb",
   "metadata": {},
   "outputs": [
    {
     "data": {
      "image/png": "[encoded data removed]",
      "text/plain": [
       "<Figure size 576x432 with 1 Axes>"
      ]
     },
     "metadata": {
      "needs_background": "light"
     },
     "output_type": "display_data"
    }
   ],
   "source": [
    "# датафрейм с кумулятивным количеством заказов и кумулятивной выручкой по дням в группе А\n",
    "cumulativeRevenueA = cumulativeData[cumulativeData['group']=='A'][['date','revenue', 'orders']]\n",
    "\n",
    "# датафрейм с кумулятивным количеством заказов и кумулятивной выручкой по дням в группе B\n",
    "cumulativeRevenueB = cumulativeData[cumulativeData['group']=='B'][['date','revenue', 'orders']]\n",
    "\n",
    "plt.figure(figsize=(8,6))\n",
    "# Строим график выручки группы А\n",
    "plt.plot(cumulativeRevenueA['date'], cumulativeRevenueA['revenue'], label='A')\n",
    "\n",
    "# Строим график выручки группы B\n",
    "plt.plot(cumulativeRevenueB['date'], cumulativeRevenueB['revenue'], label='B')\n",
    "\n",
    "plt.legend()\n",
    "plt.xticks(rotation=15)\n",
    "plt.ylabel('Выручка')\n",
    "plt.xlabel('Дата')\n",
    "plt.title('График кумулятивной выручки по дням и группам A/B-тестирования')\n",
    "plt.show()"
   ]
  },
  {
   "cell_type": "markdown",
   "id": "62bb0977",
   "metadata": {},
   "source": [
    "**Вывод**\n",
    "\n",
    "Выручка увеличивается на протяжении всего теста, выручка группы B стабильно больше выручки группы A и характеризуется резким скачком 19-20 августа. Это может сигнализировать о всплесках числа заказов, либо о появлении очень дорогих заказов в выборке."
   ]
  },
  {
   "cell_type": "markdown",
   "id": "787c69b1",
   "metadata": {},
   "source": [
    "### График кумулятивного среднего чека по группам\n",
    "<a id=\"step22\"></a> "
   ]
  },
  {
   "cell_type": "code",
   "execution_count": 37,
   "id": "93ba3304",
   "metadata": {},
   "outputs": [
    {
     "data": {
      "image/png": "[encoded data removed]",
      "text/plain": [
       "<Figure size 576x360 with 1 Axes>"
      ]
     },
     "metadata": {
      "needs_background": "light"
     },
     "output_type": "display_data"
    }
   ],
   "source": [
    "plt.figure(figsize=(8,5))\n",
    "plt.plot(cumulativeRevenueA['date'], cumulativeRevenueA['revenue']/cumulativeRevenueA['orders'], label='A')\n",
    "plt.plot(cumulativeRevenueB['date'], cumulativeRevenueB['revenue']/cumulativeRevenueB['orders'], label='B')\n",
    "plt.legend()\n",
    "plt.xticks(rotation=15)\n",
    "plt.ylabel('Средний чек')\n",
    "plt.xlabel('Дата')\n",
    "plt.title('График кумулятивного среднего чека по группам A/B-тестирования')\n",
    "plt.show()"
   ]
  },
  {
   "cell_type": "markdown",
   "id": "91f854c8",
   "metadata": {},
   "source": [
    "**Вывод**\n",
    "\n",
    "Средний чек группы B почти все время был выше, однако опять произошел резкий скачок среднего чека 19-20 августа, после чего он начинает падать. Думаю это связано со скачком выручки в группе тоже приходящейся на эти данные. Следует посмотреть наличие аномалий в данных."
   ]
  },
  {
   "cell_type": "markdown",
   "id": "85295bde",
   "metadata": {},
   "source": [
    "## График относительного изменения кумулятивного среднего чека группы B к группе A\n",
    "<a id=\"step23\"></a> "
   ]
  },
  {
   "cell_type": "code",
   "execution_count": 38,
   "id": "9caf0263",
   "metadata": {},
   "outputs": [
    {
     "data": {
      "image/png": "[encoded data removed]",
      "text/plain": [
       "<Figure size 576x360 with 1 Axes>"
      ]
     },
     "metadata": {
      "needs_background": "light"
     },
     "output_type": "display_data"
    }
   ],
   "source": [
    "# собираем данные в одном датафрейме\n",
    "mergedCumulativeRevenue = cumulativeRevenueA.merge(cumulativeRevenueB, left_on='date', right_on='date', how='left', suffixes=['A', 'B'])\n",
    "\n",
    "# cтроим отношение средних чеков\n",
    "plt.figure(figsize=(8,5))\n",
    "plt.plot(mergedCumulativeRevenue['date'], (mergedCumulativeRevenue['revenueB']/mergedCumulativeRevenue['ordersB'])/(mergedCumulativeRevenue['revenueA']/mergedCumulativeRevenue['ordersA'])-1)\n",
    "\n",
    "plt.axhline(y=0, color='black', linestyle='--')\n",
    "plt.xticks(rotation=15)\n",
    "plt.xlabel('Дата')\n",
    "plt.title('График относительного изменения кумулятивного среднего чека группы B к группе A')\n",
    "plt.show()"
   ]
  },
  {
   "cell_type": "markdown",
   "id": "53092626",
   "metadata": {},
   "source": [
    "**Вывод**\n",
    "\n",
    "В нескольких точках график различия между сегментами резко «скачет». Стоит проверить на наличие аномалий - слишком крупных чеков."
   ]
  },
  {
   "cell_type": "markdown",
   "id": "d3fc9241",
   "metadata": {},
   "source": [
    "## График кумулятивной конверсии по группам\n",
    "<a id=\"step24\"></a> "
   ]
  },
  {
   "cell_type": "code",
   "execution_count": 39,
   "id": "40f7a062",
   "metadata": {},
   "outputs": [
    {
     "data": {
      "image/png": "[encoded data removed]",
      "text/plain": [
       "<Figure size 576x360 with 1 Axes>"
      ]
     },
     "metadata": {
      "needs_background": "light"
     },
     "output_type": "display_data"
    }
   ],
   "source": [
    "# отделяем данные по группе A\n",
    "cumulativeDataA = cumulativeData[cumulativeData['group']=='A']\n",
    "\n",
    "# отделяем данные по группе B\n",
    "cumulativeDataB = cumulativeData[cumulativeData['group']=='B']\n",
    "\n",
    "# строим графики\n",
    "plt.figure(figsize=(8,5))\n",
    "plt.plot(cumulativeDataA['date'], cumulativeDataA['conversion'], label='A')\n",
    "plt.plot(cumulativeDataB['date'], cumulativeDataB['conversion'], label='B')\n",
    "plt.legend()\n",
    "plt.xticks(rotation=15)\n",
    "plt.xlabel('Дата')\n",
    "plt.title('График кумулятивной конверсии по группам A/B-тестирования')\n",
    "plt.show()"
   ]
  },
  {
   "cell_type": "markdown",
   "id": "fb00c4ed",
   "metadata": {},
   "source": [
    "**Вывод**\n",
    "\n",
    "У группы B конверсия стабильно больше, чем у группы A."
   ]
  },
  {
   "cell_type": "markdown",
   "id": "8c92b03e",
   "metadata": {},
   "source": [
    "## График относительного изменения кумулятивной конверсии группы B к группе A\n",
    "<a id=\"step25\"></a> "
   ]
  },
  {
   "cell_type": "code",
   "execution_count": 40,
   "id": "c336cd79",
   "metadata": {},
   "outputs": [
    {
     "data": {
      "image/png": "[encoded data removed]",
      "text/plain": [
       "<Figure size 504x216 with 1 Axes>"
      ]
     },
     "metadata": {
      "needs_background": "light"
     },
     "output_type": "display_data"
    }
   ],
   "source": [
    "mergedCumulativeConversions = (cumulativeDataA[['date','conversion']]\n",
    "                               .merge(cumulativeDataB[['date','conversion']], \n",
    "                                      left_on='date', \n",
    "                                      right_on='date', \n",
    "                                      how='left', \n",
    "                                      suffixes=['A', 'B'])\n",
    "                              )\n",
    "\n",
    "# строим графики\n",
    "plt.figure(figsize=(7,3))\n",
    "plt.plot(mergedCumulativeConversions['date'], mergedCumulativeConversions['conversionB']/mergedCumulativeConversions['conversionA']-1, \n",
    "         label=\"Относительный прирост конверсии группы B относительно группы A\")\n",
    "plt.legend()\n",
    "plt.axhline(y=0, color='black', linestyle='--')\n",
    "plt.axhline(y=-0.1, color='grey', linestyle='--')\n",
    "plt.axhline(y=0.1, color='grey', linestyle='--')\n",
    "plt.xticks(rotation=15)\n",
    "plt.xlabel('Дата')\n",
    "plt.title('График относительного изменения кумулятивной конверсии группы B к группе A')\n",
    "plt.show()"
   ]
  },
  {
   "cell_type": "markdown",
   "id": "a6c14dcd",
   "metadata": {},
   "source": [
    "**Вывод**\n",
    "\n",
    "В начале теста группа B значительно проигрывала группе A однако характеризовалась ростом конверсии относительно группы A, через неделю закрепила позиции: конверсия группы B стаблильно больше конверсии группы A на 10%. \n",
    "\n",
    "В целом отношение конверсии ещё не установилось, и сейчас делать какие-либо выводы по тесту нельзя. Впрочем, сперва стоит проанализировать аномалии, возможно, они изменят картину. "
   ]
  },
  {
   "cell_type": "markdown",
   "id": "43530080",
   "metadata": {},
   "source": [
    "## Анализ выбросов и всплесков\n",
    "<a id=\"step3\"></a> "
   ]
  },
  {
   "cell_type": "markdown",
   "id": "a2dba099",
   "metadata": {},
   "source": [
    "### Точечный график количества заказов по пользователям. 95-й и 99-й перцентили\n",
    "<a id=\"step31\"></a> "
   ]
  },
  {
   "cell_type": "code",
   "execution_count": 41,
   "id": "aa22f357",
   "metadata": {},
   "outputs": [
    {
     "data": {
      "image/png": "[encoded data removed]",
      "text/plain": [
       "<Figure size 576x288 with 1 Axes>"
      ]
     },
     "metadata": {
      "needs_background": "light"
     },
     "output_type": "display_data"
    }
   ],
   "source": [
    "ordersByUsers = orders.groupby('visitorId', as_index=False).agg({'transactionId' : 'nunique'})\n",
    "ordersByUsers.columns = ['visitorId', 'orders']\n",
    "ordersByUsers = ordersByUsers.sort_values(by='orders',ascending=False)\n",
    "\n",
    "x_values = pd.Series(range(0,len(ordersByUsers)))\n",
    "plt.figure(figsize=(8,4))\n",
    "plt.scatter(x_values, ordersByUsers['orders'])\n",
    "plt.title('Точечный график количества заказов по пользователям')\n",
    "plt.show()"
   ]
  },
  {
   "cell_type": "markdown",
   "id": "63551659",
   "metadata": {},
   "source": [
    "**Вывод**\n",
    "\n",
    "В большинстве случаев пользователь совершал только один заказ."
   ]
  },
  {
   "cell_type": "code",
   "execution_count": 42,
   "id": "f6b1dae3",
   "metadata": {
    "scrolled": true
   },
   "outputs": [
    {
     "data": {
      "text/plain": [
       "array([1., 1., 2.])"
      ]
     },
     "execution_count": 42,
     "metadata": {},
     "output_type": "execute_result"
    }
   ],
   "source": [
    "np.percentile(ordersByUsers['orders'], [90, 95, 99])"
   ]
  },
  {
   "cell_type": "markdown",
   "id": "00d3bd82",
   "metadata": {},
   "source": [
    "**Вывод**\n",
    "\n",
    "Не более 1% пользователей совершали 2 заказа. Помним, что данные в orders были изменены из-за того, что некоторые пользователи вошли в 2 теста сразу - oтпали и другие аномальные значения"
   ]
  },
  {
   "cell_type": "code",
   "execution_count": 43,
   "id": "2f84209d",
   "metadata": {},
   "outputs": [
    {
     "data": {
      "image/png": "[encoded data removed]",
      "text/plain": [
       "<Figure size 576x288 with 1 Axes>"
      ]
     },
     "metadata": {
      "needs_background": "light"
     },
     "output_type": "display_data"
    },
    {
     "name": "stdout",
     "output_type": "stream",
     "text": [
      "[1. 2. 4.]\n"
     ]
    }
   ],
   "source": [
    "ordersByUsers1 = originalOrders.groupby('visitorId', as_index=False).agg({'transactionId' : 'nunique'})\n",
    "ordersByUsers1.columns = ['visitorId', 'orders']\n",
    "ordersByUsers1 = ordersByUsers1.sort_values(by='orders',ascending=False)\n",
    "\n",
    "x_values = pd.Series(range(0,len(ordersByUsers1)))\n",
    "plt.figure(figsize=(8,4))\n",
    "plt.scatter(x_values, ordersByUsers1['orders'])\n",
    "plt.title('Точечный график количества заказов по пользователям')\n",
    "plt.show()\n",
    "\n",
    "print(np.percentile(ordersByUsers1['orders'], [90, 95, 99]))"
   ]
  },
  {
   "cell_type": "markdown",
   "id": "dacb1ebe",
   "metadata": {},
   "source": [
    "Исходя из этого, следует принять количество заказов меньше или равным 2 за норму в очищенном датасете orders, тк данные в orders были изменены из-за того, что некоторые пользователи вошли в 2 теста сразу."
   ]
  },
  {
   "cell_type": "markdown",
   "id": "6c047b35",
   "metadata": {},
   "source": [
    "### Точечный график стоимостей заказов. 95-й и 99-й перцентили\n",
    "<a id=\"step32\"></a> "
   ]
  },
  {
   "cell_type": "code",
   "execution_count": 91,
   "id": "8f432206",
   "metadata": {},
   "outputs": [
    {
     "data": {
      "image/png": "[encoded data removed]",
      "text/plain": [
       "<Figure size 576x288 with 1 Axes>"
      ]
     },
     "metadata": {
      "needs_background": "light"
     },
     "output_type": "display_data"
    },
    {
     "name": "stdout",
     "output_type": "stream",
     "text": [
      "[26785. 53904.]\n"
     ]
    }
   ],
   "source": [
    "x_values = pd.Series(range(0,len(orders['revenue'])))\n",
    "plt.figure(figsize=(8,4))\n",
    "#plt.ylim(0, 0.5)\n",
    "plt.scatter(x_values, orders['revenue'])\n",
    "plt.title('Точечный график стоимостей заказов')\n",
    "plt.axis([0, 1300, 0, 200000])\n",
    "plt.show()\n",
    "\n",
    "print(np.percentile(orders['revenue'], [95, 99]))"
   ]
  },
  {
   "cell_type": "markdown",
   "id": "7e8f1ddd",
   "metadata": {},
   "source": [
    "В очищенных данных 5% заказов превышают 26785 и 1% более 53904. \n",
    "\n",
    "Помним, что данные в orders были изменены из-за того, что некоторые пользователи вошли в 2 теста сразу - oтпали и другие аномальные значения:"
   ]
  },
  {
   "cell_type": "code",
   "execution_count": 90,
   "id": "db891d65",
   "metadata": {},
   "outputs": [
    {
     "data": {
      "image/png": "[encoded data removed]",
      "text/plain": [
       "<Figure size 576x288 with 1 Axes>"
      ]
     },
     "metadata": {
      "needs_background": "light"
     },
     "output_type": "display_data"
    }
   ],
   "source": [
    "x_values = pd.Series(range(0,len(originalOrders['revenue'])))\n",
    "plt.figure(figsize=(8,4))\n",
    "plt.scatter(x_values, originalOrders['revenue'])\n",
    "plt.title('Точечный график стоимостей заказов')\n",
    "plt.axis([0, 1300, 0, 200000])\n",
    "\n",
    "plt.show()"
   ]
  },
  {
   "cell_type": "markdown",
   "id": "54948dab",
   "metadata": {},
   "source": [
    "5% заказов превышают 28000 и 1% более 58233.2 в изначальных данных"
   ]
  },
  {
   "cell_type": "markdown",
   "id": "beb2d12e",
   "metadata": {},
   "source": [
    "**Вывод**\n",
    "\n",
    "За аномальные значения возьмем заказы, превышающие 26785 по очищенным данным. \n",
    "\n",
    "В \"хороший\" список входят пользователи, совершившие 1 или 2 заказа. "
   ]
  },
  {
   "cell_type": "markdown",
   "id": "04fa19eb",
   "metadata": {},
   "source": [
    "### Статистическая значимость различий в конверсии между группами по «сырым» данным.\n",
    "<a id=\"step33\"></a> \n",
    "\n",
    "Сформулируем гипотезы:\n",
    "\n",
    "- H0: статистически значимых различий в конверсии между группами нет\n",
    "- H1: статистически значимые различия в конверсии между группами есть\n",
    "\n",
    "Для расчета р-value будем использовать напараметрический тест Уилкоксона-Манна-Уитни, так как тест устойчив к выбросам данных - он учитывает не значения параметров, а их ранги. "
   ]
  },
  {
   "cell_type": "code",
   "execution_count": 27,
   "id": "21275e3a",
   "metadata": {},
   "outputs": [
    {
     "data": {
      "text/html": [
       "<div>\n",
       "<style scoped>\n",
       "    .dataframe tbody tr th:only-of-type {\n",
       "        vertical-align: middle;\n",
       "    }\n",
       "\n",
       "    .dataframe tbody tr th {\n",
       "        vertical-align: top;\n",
       "    }\n",
       "\n",
       "    .dataframe thead th {\n",
       "        text-align: right;\n",
       "    }\n",
       "</style>\n",
       "<table border=\"1\" class=\"dataframe\">\n",
       "  <thead>\n",
       "    <tr style=\"text-align: right;\">\n",
       "      <th></th>\n",
       "      <th>date</th>\n",
       "      <th>ordersPerDateA</th>\n",
       "      <th>revenuePerDateA</th>\n",
       "      <th>ordersPerDateB</th>\n",
       "      <th>revenuePerDateB</th>\n",
       "      <th>ordersCummulativeA</th>\n",
       "      <th>revenueCummulativeA</th>\n",
       "      <th>ordersCummulativeB</th>\n",
       "      <th>revenueCummulativeB</th>\n",
       "      <th>visitorsPerDateA</th>\n",
       "      <th>visitorsPerDateB</th>\n",
       "      <th>visitorsCummulativeA</th>\n",
       "      <th>visitorsCummulativeB</th>\n",
       "    </tr>\n",
       "  </thead>\n",
       "  <tbody>\n",
       "    <tr>\n",
       "      <th>0</th>\n",
       "      <td>2019-08-01</td>\n",
       "      <td>23</td>\n",
       "      <td>142779</td>\n",
       "      <td>17</td>\n",
       "      <td>59758</td>\n",
       "      <td>23</td>\n",
       "      <td>142779</td>\n",
       "      <td>17</td>\n",
       "      <td>59758</td>\n",
       "      <td>719</td>\n",
       "      <td>713</td>\n",
       "      <td>719</td>\n",
       "      <td>713</td>\n",
       "    </tr>\n",
       "    <tr>\n",
       "      <th>1</th>\n",
       "      <td>2019-08-02</td>\n",
       "      <td>19</td>\n",
       "      <td>91602</td>\n",
       "      <td>23</td>\n",
       "      <td>162043</td>\n",
       "      <td>42</td>\n",
       "      <td>234381</td>\n",
       "      <td>40</td>\n",
       "      <td>221801</td>\n",
       "      <td>619</td>\n",
       "      <td>581</td>\n",
       "      <td>1338</td>\n",
       "      <td>1294</td>\n",
       "    </tr>\n",
       "    <tr>\n",
       "      <th>2</th>\n",
       "      <td>2019-08-03</td>\n",
       "      <td>24</td>\n",
       "      <td>112473</td>\n",
       "      <td>14</td>\n",
       "      <td>67049</td>\n",
       "      <td>66</td>\n",
       "      <td>346854</td>\n",
       "      <td>54</td>\n",
       "      <td>288850</td>\n",
       "      <td>507</td>\n",
       "      <td>509</td>\n",
       "      <td>1845</td>\n",
       "      <td>1803</td>\n",
       "    </tr>\n",
       "    <tr>\n",
       "      <th>3</th>\n",
       "      <td>2019-08-04</td>\n",
       "      <td>11</td>\n",
       "      <td>41176</td>\n",
       "      <td>14</td>\n",
       "      <td>96890</td>\n",
       "      <td>77</td>\n",
       "      <td>388030</td>\n",
       "      <td>68</td>\n",
       "      <td>385740</td>\n",
       "      <td>717</td>\n",
       "      <td>770</td>\n",
       "      <td>2562</td>\n",
       "      <td>2573</td>\n",
       "    </tr>\n",
       "    <tr>\n",
       "      <th>4</th>\n",
       "      <td>2019-08-05</td>\n",
       "      <td>22</td>\n",
       "      <td>86383</td>\n",
       "      <td>21</td>\n",
       "      <td>89908</td>\n",
       "      <td>99</td>\n",
       "      <td>474413</td>\n",
       "      <td>89</td>\n",
       "      <td>475648</td>\n",
       "      <td>756</td>\n",
       "      <td>707</td>\n",
       "      <td>3318</td>\n",
       "      <td>3280</td>\n",
       "    </tr>\n",
       "  </tbody>\n",
       "</table>\n",
       "</div>"
      ],
      "text/plain": [
       "        date  ordersPerDateA  revenuePerDateA  ordersPerDateB  \\\n",
       "0 2019-08-01              23           142779              17   \n",
       "1 2019-08-02              19            91602              23   \n",
       "2 2019-08-03              24           112473              14   \n",
       "3 2019-08-04              11            41176              14   \n",
       "4 2019-08-05              22            86383              21   \n",
       "\n",
       "   revenuePerDateB  ordersCummulativeA  revenueCummulativeA  \\\n",
       "0            59758                  23               142779   \n",
       "1           162043                  42               234381   \n",
       "2            67049                  66               346854   \n",
       "3            96890                  77               388030   \n",
       "4            89908                  99               474413   \n",
       "\n",
       "   ordersCummulativeB  revenueCummulativeB  visitorsPerDateA  \\\n",
       "0                  17                59758               719   \n",
       "1                  40               221801               619   \n",
       "2                  54               288850               507   \n",
       "3                  68               385740               717   \n",
       "4                  89               475648               756   \n",
       "\n",
       "   visitorsPerDateB  visitorsCummulativeA  visitorsCummulativeB  \n",
       "0               713                   719                   713  \n",
       "1               581                  1338                  1294  \n",
       "2               509                  1845                  1803  \n",
       "3               770                  2562                  2573  \n",
       "4               707                  3318                  3280  "
      ]
     },
     "execution_count": 27,
     "metadata": {},
     "output_type": "execute_result"
    }
   ],
   "source": [
    "# Создадим таблицу с количеством пользователей в выбранную дату для каждой группы\n",
    "visitorsADaily = visitors[visitors['group'] == 'A'][['date', 'visitors']]\n",
    "visitorsADaily.columns = ['date', 'visitorsPerDateA']\n",
    "\n",
    "# Таблица с кумулятивными данными по посещениям для каждой из групп\n",
    "visitorsACummulative = visitorsADaily.apply(\n",
    "    lambda x: visitorsADaily[visitorsADaily['date'] <= x['date']].agg(\n",
    "        {'date': 'max', 'visitorsPerDateA': 'sum'}\n",
    "    ),\n",
    "    axis=1,\n",
    ")\n",
    "visitorsACummulative.columns = ['date', 'visitorsCummulativeA']\n",
    "\n",
    "visitorsBDaily = visitors[visitors['group'] == 'B'][['date', 'visitors']]\n",
    "visitorsBDaily.columns = ['date', 'visitorsPerDateB']\n",
    "\n",
    "visitorsBCummulative = visitorsBDaily.apply(\n",
    "    lambda x: visitorsBDaily[visitorsBDaily['date'] <= x['date']].agg(\n",
    "        {'date': 'max', 'visitorsPerDateB': 'sum'}\n",
    "    ),\n",
    "    axis=1,\n",
    ")\n",
    "visitorsBCummulative.columns = ['date', 'visitorsCummulativeB']\n",
    "\n",
    "# количество заказов и суммарная выручка в выбранную дату в группе A;\n",
    "ordersADaily = (\n",
    "    orders[orders['group'] == 'A'][['date', 'transactionId', 'visitorId', 'revenue']]\n",
    "    .groupby('date', as_index=False)\n",
    "    .agg({'transactionId': pd.Series.nunique, 'revenue': 'sum'}) \n",
    ")\n",
    "ordersADaily.columns = ['date', 'ordersPerDateA', 'revenuePerDateA'] \n",
    "\n",
    "# суммарное число заказов до выбранной даты включительно в группе A;\n",
    "ordersACummulative = ordersADaily.apply(\n",
    "    lambda x: ordersADaily[ordersADaily['date'] <= x['date']].agg(\n",
    "        {'date': 'max', 'ordersPerDateA': 'sum', 'revenuePerDateA': 'sum'}\n",
    "    ),\n",
    "    axis=1,\n",
    ").sort_values(by=['date'])\n",
    "ordersACummulative.columns = [\n",
    "    'date',\n",
    "    'ordersCummulativeA',\n",
    "    'revenueCummulativeA',\n",
    "]\n",
    "\n",
    "# количество заказов и суммарная выручка в выбранную дату в группе B;\n",
    "ordersBDaily = (\n",
    "    orders[orders['group'] == 'B'][['date', 'transactionId', 'visitorId', 'revenue']]\n",
    "    .groupby('date', as_index=False)\n",
    "    .agg({'transactionId': pd.Series.nunique, 'revenue': 'sum'})\n",
    ")\n",
    "ordersBDaily.columns = ['date', 'ordersPerDateB', 'revenuePerDateB']\n",
    "\n",
    "# суммарное число заказов до выбранной даты включительно в группе B;\n",
    "ordersBCummulative = ordersBDaily.apply(\n",
    "    lambda x: ordersBDaily[ordersBDaily['date'] <= x['date']].agg(\n",
    "        {'date': 'max', 'ordersPerDateB': 'sum', 'revenuePerDateB': 'sum'}\n",
    "    ),\n",
    "    axis=1,\n",
    ").sort_values(by=['date'])\n",
    "ordersBCummulative.columns = [\n",
    "    'date',\n",
    "    'ordersCummulativeB',\n",
    "    'revenueCummulativeB',\n",
    "]\n",
    "\n",
    "# Таблица с сырыми кумулятивными данными, где:\n",
    "# date — дата;\n",
    "# ordersPerDateA — количество заказов в выбранную дату в группе A;\n",
    "# revenuePerDateA — суммарная выручка в выбранную дату в группе A;\n",
    "# ordersPerDateB — количество заказов в выбранную дату в группе B;\n",
    "# revenuePerDateB — суммарная выручка в выбранную дату в группе B;\n",
    "# ordersCummulativeA — суммарное число заказов до выбранной даты включительно в группе A;\n",
    "# revenueCummulativeA — суммарная выручка до выбранной даты включительно в группе A;\n",
    "# ordersCummulativeB — суммарное количество заказов до выбранной даты включительно в группе B;\n",
    "# revenueCummulativeB — суммарная выручка до выбранной даты включительно в группе B;\n",
    "# visitorsPerDateA — количество пользователей в выбранную дату в группе A;\n",
    "# visitorsPerDateB — количество пользователей в выбранную дату в группе B;\n",
    "# visitorsCummulativeA — количество пользователей до выбранной даты включительно в группе A;\n",
    "# visitorsCummulativeB — количество пользователей до выбранной даты включительно в группе B.\n",
    "\n",
    "data = (\n",
    "    ordersADaily.merge(\n",
    "        ordersBDaily, left_on='date', right_on='date', how='left'\n",
    "    )\n",
    "    .merge(ordersACummulative, left_on='date', right_on='date', how='left')\n",
    "    .merge(ordersBCummulative, left_on='date', right_on='date', how='left')\n",
    "    .merge(visitorsADaily, left_on='date', right_on='date', how='left')\n",
    "    .merge(visitorsBDaily, left_on='date', right_on='date', how='left')\n",
    "    .merge(visitorsACummulative, left_on='date', right_on='date', how='left')\n",
    "    .merge(visitorsBCummulative, left_on='date', right_on='date', how='left')\n",
    ")\n",
    "\n",
    "data.head(5)"
   ]
  },
  {
   "cell_type": "code",
   "execution_count": 28,
   "id": "92cc552d",
   "metadata": {},
   "outputs": [
    {
     "name": "stdout",
     "output_type": "stream",
     "text": [
      "Принимаем альтернативную гипотезу: различия в конверсии между группами есть и они статистически значимы\n",
      "p_value = 0.011\n",
      "Относительный проигрыш/прирост конверсии группы B равен 0.160\n"
     ]
    }
   ],
   "source": [
    "# создадим таблицы, в которых для пользователей, которые сделали хотя бы 1 заказ, \n",
    "# укажем число заказов\n",
    "ordersByUsersA = (\n",
    "    orders[orders['group'] == 'A']\n",
    "    .groupby('visitorId', as_index=False)\n",
    "    .agg({'transactionId': pd.Series.nunique})\n",
    ")\n",
    "ordersByUsersA.columns = ['visitorId', 'orders']\n",
    "\n",
    "ordersByUsersB = (\n",
    "    orders[orders['group'] == 'B']\n",
    "    .groupby('visitorId', as_index=False)\n",
    "    .agg({'transactionId': pd.Series.nunique})\n",
    ")\n",
    "ordersByUsersB.columns = ['visitorId', 'orders']\n",
    "\n",
    "# создадим таблицы, в которых пользователям из разных групп будет соответствовать \n",
    "# количество заказов.\n",
    "\n",
    "sampleA = pd.concat(\n",
    "    [\n",
    "        ordersByUsersA['orders'],\n",
    "        pd.Series(\n",
    "            0,\n",
    "            index=np.arange(\n",
    "                data['visitorsPerDateA'].sum() - len(ordersByUsersA['orders'])\n",
    "            ),\n",
    "            name='orders',\n",
    "        ),\n",
    "    ],\n",
    "    axis=0,\n",
    ")\n",
    "\n",
    "sampleB = pd.concat(\n",
    "    [\n",
    "        ordersByUsersB['orders'],\n",
    "        pd.Series(\n",
    "            0,\n",
    "            index=np.arange(\n",
    "                data['visitorsPerDateB'].sum() - len(ordersByUsersB['orders'])\n",
    "            ),\n",
    "            name='orders',\n",
    "        ),\n",
    "    ],\n",
    "    axis=0,\n",
    ")\n",
    "\n",
    "p_value = stats.mannwhitneyu(sampleA, sampleB)[1]\n",
    "alpha = 0.05\n",
    "\n",
    "if p_value < alpha:\n",
    "    print('Принимаем альтернативную гипотезу: различия в конверсии между группами есть и они статистически значимы')\n",
    "\n",
    "elif p_value > alpha:\n",
    "    print('Нулевую гипотезу о том, что статистически значимых различий в конверсии между группами нет, не отвергаем.')\n",
    "\n",
    "print('p_value =', \"{0:.3f}\".format(stats.mannwhitneyu(sampleA, sampleB)[1]))\n",
    "print('Относительный проигрыш/прирост конверсии группы B равен', \"{0:.3f}\".format(sampleB.mean() / sampleA.mean() - 1))\n"
   ]
  },
  {
   "cell_type": "markdown",
   "id": "9a3d12b8",
   "metadata": {},
   "source": [
    "**Вывод**\n",
    "\n",
    "Различия в конверсии между группами есть и они статистически значимы. Относительный прирост конверсии группы B равен 16,0%. \n",
    "\n",
    "Из расчетов, произведенных ранее:\n",
    "\n",
    "- Конверсия в группе A 2.97 %\n",
    "- Конверсия в группе B 3.38 %\n",
    "\n",
    "Возможно, такая разница связана с количеством транзакций в группах, так как разница в количестве пользователей выборки менее 1%."
   ]
  },
  {
   "cell_type": "markdown",
   "id": "4814e10f",
   "metadata": {},
   "source": [
    "### Статистическая значимость различий в среднем чеке заказа между группами по «сырым» данным.\n",
    "<a id=\"step34\"></a> \n",
    "\n",
    "Сформулируем гипотезы:\n",
    "\n",
    "- H0: статистически значимых различий в среднем чеке между группами нет\n",
    "- H1: статистически значимые различия в среднем чеке между группами есть\n",
    "\n",
    "Для расчета р-value снова будем использовать напараметрический тест Уилкоксона-Манна-Уитни, так как тест устойчив к выбросам данных - он учитывает не значения параметров, а их ранги. "
   ]
  },
  {
   "cell_type": "code",
   "execution_count": 29,
   "id": "eb0835cc",
   "metadata": {},
   "outputs": [
    {
     "name": "stdout",
     "output_type": "stream",
     "text": [
      "Нулевую гипотезу о том, что статистически значимых различий в среднем чеке между группами нет, не отвергаем.\n",
      "p_value = 0.829\n",
      "0.287\n"
     ]
    }
   ],
   "source": [
    "p_value = stats.mannwhitneyu(orders[orders['group']=='A']['revenue'], orders[orders['group']=='B']['revenue'])[1]\n",
    "alpha = 0.05\n",
    "\n",
    "if p_value < alpha:\n",
    "    print('Принимаем альтернативную гипотезу: различия в среднем чеке между группами есть и они статистически значимы')\n",
    "\n",
    "elif p_value > alpha:\n",
    "    print('Нулевую гипотезу о том, что статистически значимых различий в среднем чеке между группами нет, не отвергаем.')\n",
    "\n",
    "print('p_value =', \"{0:.3f}\".format(p_value))\n",
    "print('{0:.3f}'.format(orders[orders['group']=='B']['revenue'].mean()/orders[orders['group']=='A']['revenue'].mean()-1))\n"
   ]
  },
  {
   "cell_type": "markdown",
   "id": "677c3f43",
   "metadata": {},
   "source": [
    "**Вывод**\n",
    "\n",
    "Принимаем нулевую гипотезу: статистически значимых различий в среднем чеке между группами нет. Впрочем, средний чек группы B значительно выше среднего чека группы A (на 28,7%). Думаю, такой перекос обоснован тем, что 95 и 99 перцентили равны 26785 и 53904 соответственно, что значительно смещает среднее выборки."
   ]
  },
  {
   "cell_type": "markdown",
   "id": "819d99e8",
   "metadata": {},
   "source": [
    "### Статистическая значимость различий в конверсии между группами по «очищенным» данным.\n",
    "<a id=\"step35\"></a> "
   ]
  },
  {
   "cell_type": "markdown",
   "id": "64e23d52",
   "metadata": {},
   "source": [
    "Узнаем, сколько всего аномальных пользователей: совершивших более 2-х заказов и на сумму более 26785."
   ]
  },
  {
   "cell_type": "code",
   "execution_count": 30,
   "id": "bc1fcb2a",
   "metadata": {
    "scrolled": true
   },
   "outputs": [
    {
     "name": "stdout",
     "output_type": "stream",
     "text": [
      "568     113298937\n",
      "1099    148427295\n",
      "928     204675465\n",
      "33      249864742\n",
      "684     358944393\n",
      "Name: visitorId, dtype: int64\n",
      "58\n"
     ]
    }
   ],
   "source": [
    "usersWithManyOrders = pd.concat(\n",
    "    [\n",
    "        ordersByUsersA[ordersByUsersA['orders'] > 2]['visitorId'],\n",
    "        ordersByUsersB[ordersByUsersB['orders'] > 2]['visitorId'],\n",
    "    ],\n",
    "    axis=0,\n",
    ")\n",
    "usersWithExpensiveOrders = orders[orders['revenue'] > 26785]['visitorId']\n",
    "abnormalUsers = (\n",
    "    pd.concat([usersWithManyOrders, usersWithExpensiveOrders], axis=0)\n",
    "    .drop_duplicates()\n",
    "    .sort_values()\n",
    ")\n",
    "print(abnormalUsers.head(5))\n",
    "print(abnormalUsers.shape[0])"
   ]
  },
  {
   "cell_type": "markdown",
   "id": "e03d1a85",
   "metadata": {},
   "source": [
    "Всего таких пользователей 58. Узнаем как их действия повлияли на результаты теста.\n",
    "\n",
    "Сформулируем гипотезы:\n",
    "\n",
    "- H0: статистически значимых различий в конверсии между группами нет\n",
    "- H1: статистически значимые различия в конверсии между группами есть\n",
    "\n",
    "Для расчета р-value будем использовать напараметрический тест Уилкоксона-Манна-Уитни."
   ]
  },
  {
   "cell_type": "code",
   "execution_count": 31,
   "id": "dd569464",
   "metadata": {},
   "outputs": [],
   "source": [
    "# Подговим выборки количества заказов по пользователям внутри групп теста\n",
    "sampleAFiltered = pd.concat(\n",
    "    [\n",
    "        ordersByUsersA[\n",
    "            np.logical_not(ordersByUsersA['visitorId'].isin(abnormalUsers))\n",
    "        ]['orders'],\n",
    "        pd.Series(\n",
    "            0,\n",
    "            index=np.arange(\n",
    "                data['visitorsPerDateA'].sum() - len(ordersByUsersA['orders'])\n",
    "            ),\n",
    "            name='orders',\n",
    "        ),\n",
    "    ],\n",
    "    axis=0,\n",
    ")\n",
    "\n",
    "sampleBFiltered = pd.concat(\n",
    "    [\n",
    "        ordersByUsersB[\n",
    "            np.logical_not(ordersByUsersB['visitorId'].isin(abnormalUsers))\n",
    "        ]['orders'],\n",
    "        pd.Series(\n",
    "            0,\n",
    "            index=np.arange(\n",
    "                data['visitorsPerDateB'].sum() - len(ordersByUsersB['orders'])\n",
    "            ),\n",
    "            name='orders',\n",
    "        ),\n",
    "    ],\n",
    "    axis=0,\n",
    ")"
   ]
  },
  {
   "cell_type": "code",
   "execution_count": 32,
   "id": "5ad8d96a",
   "metadata": {},
   "outputs": [
    {
     "name": "stdout",
     "output_type": "stream",
     "text": [
      "Принимаем альтернативную гипотезу: различия в конверсии между группами по очищенным данным есть и они статистически значимы\n",
      "p_value = 0.012\n",
      "Относительный проигрыш/прирост конверсии группы B равен 0.182\n"
     ]
    }
   ],
   "source": [
    "# Применим критерий Манна-Уитни\n",
    "p_value = stats.mannwhitneyu(sampleAFiltered, sampleBFiltered)[1]\n",
    "alpha = 0.05\n",
    "\n",
    "if p_value < alpha:\n",
    "    print('Принимаем альтернативную гипотезу: различия в конверсии между группами по очищенным данным есть и они статистически значимы')\n",
    "\n",
    "elif p_value > alpha:\n",
    "    print('Нулевую гипотезу о том, что статистически значимых различий в конверсии по очищенным данным между группами нет, не отвергаем.')\n",
    "\n",
    "print('p_value =', \"{0:.3f}\".format(p_value))\n",
    "print('Относительный проигрыш/прирост конверсии группы B равен', \"{0:.3f}\".format(sampleBFiltered.mean() / sampleAFiltered.mean() - 1))\n"
   ]
  },
  {
   "cell_type": "markdown",
   "id": "44325654",
   "metadata": {},
   "source": [
    "**Вывод**\n",
    "\n",
    "Результаты по конверсии практически не изменились, но по очищенным данным прирост конверсии составил 18,2% (против 16,0% по неочищенным)."
   ]
  },
  {
   "cell_type": "markdown",
   "id": "5a933155",
   "metadata": {},
   "source": [
    "### Статистическая значимость различий в среднем чеке заказа между группами по «очищенным» данным.\n",
    "<a id=\"step36\"></a> \n",
    "\n",
    "Сформулируем гипотезы:\n",
    "\n",
    "- H0: статистически значимых различий в среднем чеке по «очищенным» данным между группами нет\n",
    "- H1: статистически значимые различия в среднем чеке по «очищенным» данным между группами есть\n",
    "\n",
    "Для расчета р-value снова будем использовать напараметрический тест Манна-Уитни. "
   ]
  },
  {
   "cell_type": "code",
   "execution_count": 33,
   "id": "3adfc538",
   "metadata": {},
   "outputs": [
    {
     "name": "stdout",
     "output_type": "stream",
     "text": [
      "Нулевую гипотезу о том, что статистически значимых различий в среднем чеке между группами нет, не отвергаем.\n",
      "p_value = 0.646\n",
      "-0.048\n"
     ]
    }
   ],
   "source": [
    "p_value = stats.mannwhitneyu(\n",
    "    orders[\n",
    "        np.logical_and(\n",
    "        orders['group'] == 'A',\n",
    "        np.logical_not(\n",
    "        orders['visitorId'].isin(abnormalUsers))\n",
    "        )\n",
    "    ]['revenue'],\n",
    "    orders[\n",
    "        np.logical_and(\n",
    "        orders['group'] == 'B',\n",
    "        np.logical_not(\n",
    "        orders['visitorId'].isin(abnormalUsers))\n",
    "        )\n",
    "    ]['revenue']\n",
    "\n",
    ")[1]\n",
    "\n",
    "alpha = 0.05\n",
    "\n",
    "if p_value < alpha:\n",
    "    print('Принимаем альтернативную гипотезу: различия в среднем чеке между группами есть и они статистически значимы')\n",
    "\n",
    "elif p_value > alpha:\n",
    "    print('Нулевую гипотезу о том, что статистически значимых различий в среднем чеке между группами нет, не отвергаем.')\n",
    "\n",
    "print('p_value =', \"{0:.3f}\".format(p_value))\n",
    "print('{0:.3f}'.format(orders[\n",
    "        np.logical_and(\n",
    "        orders['group'] == 'B',\n",
    "        np.logical_not(\n",
    "        orders['visitorId'].isin(abnormalUsers))\n",
    "        )\n",
    "    ]['revenue'].mean()\n",
    "                       /orders[\n",
    "        np.logical_and(\n",
    "        orders['group'] == 'A',\n",
    "        np.logical_not(\n",
    "        orders['visitorId'].isin(abnormalUsers))\n",
    "        )\n",
    "    ]['revenue'].mean()\n",
    "                       -1\n",
    "                      )\n",
    "     )\n"
   ]
  },
  {
   "cell_type": "markdown",
   "id": "08cdb9a5",
   "metadata": {},
   "source": [
    "**Вывод**\n",
    "\n",
    "Cтатистически значимых различий в конверсии между группами нет, но в сравнении с сырыми данными, P-value уменьшился и после очистки разница между средними чеками составила менее 5%.\n",
    "\n",
    "**Общий вывод по аномалиям**\n",
    "\n",
    "Общие выводы по результатам теста не изменились:\n",
    "- различия в конверсии между группами по очищенным и сырым данным есть и они статистически значимы\n",
    "- статистически значимых различий в среднем чеке между группами нет (по очищенным и сырым данным)"
   ]
  },
  {
   "cell_type": "markdown",
   "id": "9f03e686",
   "metadata": {},
   "source": [
    "## Решение по результатам теста\n",
    "<a id=\"step4\"></a> \n",
    "\n",
    "Имеющиеся факты:\n",
    "- различия в конверсии между группами по очищенным и сырым данным есть и они статистически значимы\n",
    "- статистически значимых различий в среднем чеке между группами нет (по очищенным и сырым данным)\n",
    "- По очищенным данным прирост конверсии группы B относительно группы A составил 18,2% (против 16,0% по неочищенным)\n",
    "- График различия конверсии между группами сообщает, что результаты группы B лучше группы A\n",
    "- По графику среднего чека видно, что средний чек группы B лучше среднего чека группы A.\n",
    "\n",
    "Исходя из обнаруженных фактов, тест следует остановить и признать успешным группу B: она показывает лучшую конверсию, хоть и различия в среднем чеке не имеют статистической значимости, что в долгосрочной перспективе может повлиять на рост выручки за счет эффекта масштаба."
   ]
  },
  {
   "cell_type": "markdown",
   "id": "ed8c29c8",
   "metadata": {},
   "source": [
    "[К содержанию](#cont)"
   ]
  }
 ],
 "metadata": {
  "ExecuteTimeLog": [
   {
    "duration": 1111,
    "start_time": "2022-05-06T13:43:08.799Z"
   },
   {
    "duration": 55,
    "start_time": "2022-05-06T13:43:09.912Z"
   },
   {
    "duration": 7,
    "start_time": "2022-05-06T13:43:09.968Z"
   },
   {
    "duration": 10,
    "start_time": "2022-05-06T13:43:09.977Z"
   },
   {
    "duration": 4,
    "start_time": "2022-05-06T13:43:09.988Z"
   },
   {
    "duration": 9,
    "start_time": "2022-05-06T13:43:09.993Z"
   },
   {
    "duration": 45,
    "start_time": "2022-05-06T13:43:10.004Z"
   },
   {
    "duration": 68,
    "start_time": "2022-05-06T13:43:10.050Z"
   },
   {
    "duration": 33,
    "start_time": "2022-05-06T13:43:10.119Z"
   },
   {
    "duration": 9,
    "start_time": "2022-05-06T13:43:10.155Z"
   },
   {
    "duration": 12,
    "start_time": "2022-05-06T13:43:10.166Z"
   },
   {
    "duration": 16,
    "start_time": "2022-05-06T13:43:10.180Z"
   },
   {
    "duration": 3,
    "start_time": "2022-05-06T13:43:10.198Z"
   },
   {
    "duration": 45,
    "start_time": "2022-05-06T13:43:10.203Z"
   },
   {
    "duration": 416,
    "start_time": "2022-05-06T13:43:10.250Z"
   },
   {
    "duration": 407,
    "start_time": "2022-05-06T13:43:10.668Z"
   },
   {
    "duration": 278,
    "start_time": "2022-05-06T13:43:11.077Z"
   },
   {
    "duration": 352,
    "start_time": "2022-05-06T13:43:11.357Z"
   },
   {
    "duration": 280,
    "start_time": "2022-05-06T13:43:11.711Z"
   },
   {
    "duration": 374,
    "start_time": "2022-05-06T13:43:11.993Z"
   },
   {
    "duration": 199,
    "start_time": "2022-05-06T13:43:12.369Z"
   },
   {
    "duration": 6,
    "start_time": "2022-05-06T13:43:12.570Z"
   },
   {
    "duration": 186,
    "start_time": "2022-05-06T13:43:12.578Z"
   },
   {
    "duration": 182,
    "start_time": "2022-05-06T13:43:12.766Z"
   },
   {
    "duration": 285,
    "start_time": "2022-05-06T13:43:12.950Z"
   },
   {
    "duration": 326,
    "start_time": "2022-05-06T13:43:13.237Z"
   },
   {
    "duration": 304,
    "start_time": "2022-05-06T13:43:13.565Z"
   },
   {
    "duration": 13,
    "start_time": "2022-05-06T13:43:13.873Z"
   },
   {
    "duration": 10,
    "start_time": "2022-05-06T13:43:13.887Z"
   },
   {
    "duration": 7,
    "start_time": "2022-05-06T13:43:13.899Z"
   },
   {
    "duration": 49,
    "start_time": "2022-05-06T13:43:13.908Z"
   },
   {
    "duration": 13,
    "start_time": "2022-05-06T13:43:13.959Z"
   },
   {
    "duration": 96,
    "start_time": "2022-05-06T13:46:43.818Z"
   },
   {
    "duration": 97,
    "start_time": "2022-05-06T13:48:23.191Z"
   },
   {
    "duration": 17,
    "start_time": "2022-05-06T13:55:31.303Z"
   },
   {
    "duration": 86,
    "start_time": "2022-05-06T13:55:36.403Z"
   },
   {
    "duration": 12,
    "start_time": "2022-05-06T13:55:38.324Z"
   },
   {
    "duration": 109,
    "start_time": "2022-05-06T14:17:18.553Z"
   },
   {
    "duration": 104,
    "start_time": "2022-05-06T14:23:34.337Z"
   },
   {
    "duration": 44,
    "start_time": "2022-05-08T13:13:24.221Z"
   },
   {
    "duration": 1427,
    "start_time": "2022-05-08T13:13:35.109Z"
   },
   {
    "duration": 54,
    "start_time": "2022-05-08T13:13:36.538Z"
   },
   {
    "duration": 7,
    "start_time": "2022-05-08T13:13:40.295Z"
   },
   {
    "duration": 10,
    "start_time": "2022-05-08T13:13:43.558Z"
   },
   {
    "duration": 10,
    "start_time": "2022-05-08T13:13:56.636Z"
   },
   {
    "duration": 10,
    "start_time": "2022-05-08T13:14:23.942Z"
   },
   {
    "duration": 15,
    "start_time": "2022-05-08T13:14:31.595Z"
   },
   {
    "duration": 6,
    "start_time": "2022-05-08T13:14:42.941Z"
   },
   {
    "duration": 104,
    "start_time": "2022-05-08T13:14:50.751Z"
   },
   {
    "duration": 13,
    "start_time": "2022-05-08T13:39:08.488Z"
   },
   {
    "duration": 18,
    "start_time": "2022-05-08T13:39:10.393Z"
   },
   {
    "duration": 19,
    "start_time": "2022-05-08T13:39:16.117Z"
   },
   {
    "duration": 3,
    "start_time": "2022-05-08T13:39:24.102Z"
   },
   {
    "duration": 7,
    "start_time": "2022-05-08T13:39:25.112Z"
   },
   {
    "duration": 7,
    "start_time": "2022-05-08T13:41:37.256Z"
   },
   {
    "duration": 8,
    "start_time": "2022-05-08T13:41:49.702Z"
   },
   {
    "duration": 5,
    "start_time": "2022-05-08T13:42:09.256Z"
   },
   {
    "duration": 55,
    "start_time": "2022-05-08T13:42:32.233Z"
   },
   {
    "duration": 4,
    "start_time": "2022-05-08T13:42:38.272Z"
   },
   {
    "duration": 6,
    "start_time": "2022-05-08T13:43:01.807Z"
   },
   {
    "duration": 10,
    "start_time": "2022-05-08T13:43:30.557Z"
   },
   {
    "duration": 4,
    "start_time": "2022-05-08T13:43:33.137Z"
   },
   {
    "duration": 6,
    "start_time": "2022-05-08T13:44:20.767Z"
   },
   {
    "duration": 13,
    "start_time": "2022-05-08T14:36:55.085Z"
   },
   {
    "duration": 16,
    "start_time": "2022-05-08T14:37:27.523Z"
   },
   {
    "duration": 13,
    "start_time": "2022-05-08T14:37:31.481Z"
   },
   {
    "duration": 1617,
    "start_time": "2022-05-08T14:37:38.682Z"
   },
   {
    "duration": 67,
    "start_time": "2022-05-08T14:37:40.302Z"
   },
   {
    "duration": 45,
    "start_time": "2022-05-08T14:37:40.371Z"
   },
   {
    "duration": 34,
    "start_time": "2022-05-08T14:37:40.419Z"
   },
   {
    "duration": 6,
    "start_time": "2022-05-08T14:37:40.455Z"
   },
   {
    "duration": 32,
    "start_time": "2022-05-08T14:37:40.463Z"
   },
   {
    "duration": 48,
    "start_time": "2022-05-08T14:37:40.497Z"
   },
   {
    "duration": 100,
    "start_time": "2022-05-08T14:37:40.546Z"
   },
   {
    "duration": 16,
    "start_time": "2022-05-08T14:37:40.647Z"
   },
   {
    "duration": 31,
    "start_time": "2022-05-08T14:37:40.666Z"
   },
   {
    "duration": 59,
    "start_time": "2022-05-08T14:37:40.699Z"
   },
   {
    "duration": 12,
    "start_time": "2022-05-08T14:37:40.760Z"
   },
   {
    "duration": 9,
    "start_time": "2022-05-08T14:37:40.774Z"
   },
   {
    "duration": 9,
    "start_time": "2022-05-08T14:37:40.785Z"
   },
   {
    "duration": 15,
    "start_time": "2022-05-08T14:37:40.795Z"
   },
   {
    "duration": 424,
    "start_time": "2022-05-08T14:37:40.812Z"
   },
   {
    "duration": 369,
    "start_time": "2022-05-08T14:37:41.238Z"
   },
   {
    "duration": 262,
    "start_time": "2022-05-08T14:37:41.609Z"
   },
   {
    "duration": 323,
    "start_time": "2022-05-08T14:37:41.873Z"
   },
   {
    "duration": 225,
    "start_time": "2022-05-08T14:37:42.198Z"
   },
   {
    "duration": 294,
    "start_time": "2022-05-08T14:37:42.426Z"
   },
   {
    "duration": 158,
    "start_time": "2022-05-08T14:37:42.721Z"
   },
   {
    "duration": 5,
    "start_time": "2022-05-08T14:37:42.881Z"
   },
   {
    "duration": 153,
    "start_time": "2022-05-08T14:37:42.887Z"
   },
   {
    "duration": 174,
    "start_time": "2022-05-08T14:37:43.042Z"
   },
   {
    "duration": 293,
    "start_time": "2022-05-08T14:37:43.218Z"
   },
   {
    "duration": 325,
    "start_time": "2022-05-08T14:37:43.514Z"
   },
   {
    "duration": 213,
    "start_time": "2022-05-08T14:37:43.843Z"
   },
   {
    "duration": 13,
    "start_time": "2022-05-08T14:37:44.058Z"
   },
   {
    "duration": 13,
    "start_time": "2022-05-08T14:37:44.073Z"
   },
   {
    "duration": 10,
    "start_time": "2022-05-08T14:37:44.099Z"
   },
   {
    "duration": 76,
    "start_time": "2022-05-08T14:37:44.111Z"
   },
   {
    "duration": 21,
    "start_time": "2022-05-08T14:37:44.189Z"
   },
   {
    "duration": 17,
    "start_time": "2022-05-08T14:38:42.679Z"
   },
   {
    "duration": 360,
    "start_time": "2022-05-08T14:43:07.863Z"
   },
   {
    "duration": 215,
    "start_time": "2022-05-08T14:43:08.226Z"
   },
   {
    "duration": 259,
    "start_time": "2022-05-08T14:43:15.045Z"
   },
   {
    "duration": 378,
    "start_time": "2022-05-08T14:43:17.681Z"
   },
   {
    "duration": 199,
    "start_time": "2022-05-08T14:43:29.037Z"
   },
   {
    "duration": 336,
    "start_time": "2022-05-08T14:43:33.035Z"
   },
   {
    "duration": 148,
    "start_time": "2022-05-08T14:44:00.675Z"
   },
   {
    "duration": 6,
    "start_time": "2022-05-08T14:44:03.925Z"
   },
   {
    "duration": 158,
    "start_time": "2022-05-08T14:44:06.825Z"
   },
   {
    "duration": 147,
    "start_time": "2022-05-08T14:44:12.133Z"
   },
   {
    "duration": 183,
    "start_time": "2022-05-08T14:44:13.894Z"
   },
   {
    "duration": 127,
    "start_time": "2022-05-08T14:45:25.642Z"
   },
   {
    "duration": 160,
    "start_time": "2022-05-08T14:49:56.350Z"
   },
   {
    "duration": 340,
    "start_time": "2022-05-08T14:50:06.318Z"
   },
   {
    "duration": 164,
    "start_time": "2022-05-08T14:50:17.986Z"
   },
   {
    "duration": 131,
    "start_time": "2022-05-08T14:50:30.237Z"
   },
   {
    "duration": 167,
    "start_time": "2022-05-08T14:50:34.481Z"
   },
   {
    "duration": 134,
    "start_time": "2022-05-08T14:50:42.023Z"
   },
   {
    "duration": 132,
    "start_time": "2022-05-08T14:50:56.461Z"
   },
   {
    "duration": 203,
    "start_time": "2022-05-08T14:53:07.917Z"
   },
   {
    "duration": 219,
    "start_time": "2022-05-08T14:53:25.343Z"
   },
   {
    "duration": 141,
    "start_time": "2022-05-08T14:53:32.929Z"
   },
   {
    "duration": 191,
    "start_time": "2022-05-08T14:53:46.029Z"
   },
   {
    "duration": 221,
    "start_time": "2022-05-08T14:53:58.452Z"
   },
   {
    "duration": 17,
    "start_time": "2022-05-08T14:54:16.484Z"
   },
   {
    "duration": 258,
    "start_time": "2022-05-08T14:54:26.337Z"
   },
   {
    "duration": 156,
    "start_time": "2022-05-08T14:54:33.997Z"
   },
   {
    "duration": 231,
    "start_time": "2022-05-08T14:54:39.826Z"
   },
   {
    "duration": 140,
    "start_time": "2022-05-08T14:54:48.935Z"
   },
   {
    "duration": 176,
    "start_time": "2022-05-08T14:57:16.045Z"
   },
   {
    "duration": 127,
    "start_time": "2022-05-08T14:57:40.874Z"
   },
   {
    "duration": 161,
    "start_time": "2022-05-08T14:57:46.575Z"
   },
   {
    "duration": 168,
    "start_time": "2022-05-08T14:57:50.226Z"
   },
   {
    "duration": 150,
    "start_time": "2022-05-08T14:58:56.887Z"
   },
   {
    "duration": 253,
    "start_time": "2022-05-08T14:59:05.797Z"
   },
   {
    "duration": 136,
    "start_time": "2022-05-08T15:00:27.535Z"
   },
   {
    "duration": 169,
    "start_time": "2022-05-08T15:00:32.881Z"
   },
   {
    "duration": 288,
    "start_time": "2022-05-08T15:00:55.444Z"
   },
   {
    "duration": 139,
    "start_time": "2022-05-08T15:01:01.856Z"
   },
   {
    "duration": 152,
    "start_time": "2022-05-08T15:01:12.552Z"
   },
   {
    "duration": 140,
    "start_time": "2022-05-08T15:01:21.219Z"
   },
   {
    "duration": 142,
    "start_time": "2022-05-08T15:01:27.552Z"
   },
   {
    "duration": 176,
    "start_time": "2022-05-08T15:01:32.632Z"
   },
   {
    "duration": 205,
    "start_time": "2022-05-08T15:03:06.575Z"
   },
   {
    "duration": 183,
    "start_time": "2022-05-08T15:03:09.919Z"
   },
   {
    "duration": 193,
    "start_time": "2022-05-08T15:03:15.729Z"
   },
   {
    "duration": 149,
    "start_time": "2022-05-08T15:03:53.051Z"
   },
   {
    "duration": 208,
    "start_time": "2022-05-08T15:04:06.258Z"
   },
   {
    "duration": 158,
    "start_time": "2022-05-08T15:04:17.663Z"
   },
   {
    "duration": 20,
    "start_time": "2022-05-08T15:05:11.276Z"
   },
   {
    "duration": 12,
    "start_time": "2022-05-08T15:05:21.262Z"
   },
   {
    "duration": 167,
    "start_time": "2022-05-08T15:05:29.091Z"
   },
   {
    "duration": 190,
    "start_time": "2022-05-08T15:05:57.278Z"
   },
   {
    "duration": 260,
    "start_time": "2022-05-08T15:06:00.980Z"
   },
   {
    "duration": 165,
    "start_time": "2022-05-08T15:06:37.090Z"
   },
   {
    "duration": 187,
    "start_time": "2022-05-08T15:06:42.642Z"
   },
   {
    "duration": 204,
    "start_time": "2022-05-08T15:06:50.341Z"
   },
   {
    "duration": 153,
    "start_time": "2022-05-08T17:12:50.816Z"
   }
  ],
  "kernelspec": {
   "display_name": "Python 3 (ipykernel)",
   "language": "python",
   "name": "python3"
  },
  "language_info": {
   "codemirror_mode": {
    "name": "ipython",
    "version": 3
   },
   "file_extension": ".py",
   "mimetype": "text/x-python",
   "name": "python",
   "nbconvert_exporter": "python",
   "pygments_lexer": "ipython3",
   "version": "3.9.7"
  },
  "toc": {
   "base_numbering": 1,
   "nav_menu": {},
   "number_sections": true,
   "sideBar": true,
   "skip_h1_title": true,
   "title_cell": "Table of Contents",
   "title_sidebar": "Contents",
   "toc_cell": false,
   "toc_position": {},
   "toc_section_display": true,
   "toc_window_display": false
  }
 },
 "nbformat": 4,
 "nbformat_minor": 5
}
